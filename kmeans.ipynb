{
 "cells": [
  {
   "cell_type": "code",
   "execution_count": 18,
   "metadata": {},
   "outputs": [],
   "source": [
    "import pandas as pd\n",
    "from sklearn.preprocessing import MinMaxScaler\n",
    "from sklearn.cluster import KMeans\n",
    "from sklearn.metrics import silhouette_score, davies_bouldin_score\n",
    "from sklearn.manifold import TSNE\n",
    "import matplotlib.pyplot as plt\n",
    "from tqdm import tqdm\n",
    "import numpy as np\n",
    "from scipy.spatial.distance import pdist, squareform, cdist\n",
    "import seaborn as sns"
   ]
  },
  {
   "cell_type": "markdown",
   "metadata": {},
   "source": [
    "# 1. Dataset Preparation"
   ]
  },
  {
   "cell_type": "markdown",
   "metadata": {},
   "source": [
    "## 1.1 Loading Dataset"
   ]
  },
  {
   "cell_type": "code",
   "execution_count": 19,
   "metadata": {},
   "outputs": [
    {
     "name": "stdout",
     "output_type": "stream",
     "text": [
      "Shape of dataset: (239381, 74)\n"
     ]
    },
    {
     "data": {
      "text/html": [
       "<div>\n",
       "<style scoped>\n",
       "    .dataframe tbody tr th:only-of-type {\n",
       "        vertical-align: middle;\n",
       "    }\n",
       "\n",
       "    .dataframe tbody tr th {\n",
       "        vertical-align: top;\n",
       "    }\n",
       "\n",
       "    .dataframe thead th {\n",
       "        text-align: right;\n",
       "    }\n",
       "</style>\n",
       "<table border=\"1\" class=\"dataframe\">\n",
       "  <thead>\n",
       "    <tr style=\"text-align: right;\">\n",
       "      <th></th>\n",
       "      <th>date</th>\n",
       "      <th>year</th>\n",
       "      <th>populous_city</th>\n",
       "      <th>latitude</th>\n",
       "      <th>longitude</th>\n",
       "      <th>min_age_participants</th>\n",
       "      <th>avg_age_participants</th>\n",
       "      <th>max_age_participants</th>\n",
       "      <th>teen_ratio</th>\n",
       "      <th>adults_ratio</th>\n",
       "      <th>...</th>\n",
       "      <th>state_Texas</th>\n",
       "      <th>state_Utah</th>\n",
       "      <th>state_Vermont</th>\n",
       "      <th>state_Virginia</th>\n",
       "      <th>state_Washington</th>\n",
       "      <th>state_West Virginia</th>\n",
       "      <th>state_Wisconsin</th>\n",
       "      <th>state_Wyoming</th>\n",
       "      <th>month_x</th>\n",
       "      <th>month_y</th>\n",
       "    </tr>\n",
       "  </thead>\n",
       "  <tbody>\n",
       "    <tr>\n",
       "      <th>0</th>\n",
       "      <td>771.0</td>\n",
       "      <td>2015.0</td>\n",
       "      <td>1</td>\n",
       "      <td>39.8322</td>\n",
       "      <td>-86.2492</td>\n",
       "      <td>19.0</td>\n",
       "      <td>19.0</td>\n",
       "      <td>19.0</td>\n",
       "      <td>0.0</td>\n",
       "      <td>1.0</td>\n",
       "      <td>...</td>\n",
       "      <td>False</td>\n",
       "      <td>False</td>\n",
       "      <td>False</td>\n",
       "      <td>False</td>\n",
       "      <td>False</td>\n",
       "      <td>False</td>\n",
       "      <td>False</td>\n",
       "      <td>False</td>\n",
       "      <td>5.000000e-01</td>\n",
       "      <td>-0.866025</td>\n",
       "    </tr>\n",
       "    <tr>\n",
       "      <th>1</th>\n",
       "      <td>1491.0</td>\n",
       "      <td>2017.0</td>\n",
       "      <td>0</td>\n",
       "      <td>41.6645</td>\n",
       "      <td>-78.7856</td>\n",
       "      <td>62.0</td>\n",
       "      <td>62.0</td>\n",
       "      <td>62.0</td>\n",
       "      <td>0.0</td>\n",
       "      <td>1.0</td>\n",
       "      <td>...</td>\n",
       "      <td>False</td>\n",
       "      <td>False</td>\n",
       "      <td>False</td>\n",
       "      <td>False</td>\n",
       "      <td>False</td>\n",
       "      <td>False</td>\n",
       "      <td>False</td>\n",
       "      <td>False</td>\n",
       "      <td>8.660254e-01</td>\n",
       "      <td>-0.500000</td>\n",
       "    </tr>\n",
       "    <tr>\n",
       "      <th>2</th>\n",
       "      <td>1131.0</td>\n",
       "      <td>2016.0</td>\n",
       "      <td>1</td>\n",
       "      <td>42.4190</td>\n",
       "      <td>-83.0393</td>\n",
       "      <td>15.0</td>\n",
       "      <td>15.0</td>\n",
       "      <td>15.0</td>\n",
       "      <td>0.0</td>\n",
       "      <td>1.0</td>\n",
       "      <td>...</td>\n",
       "      <td>False</td>\n",
       "      <td>False</td>\n",
       "      <td>False</td>\n",
       "      <td>False</td>\n",
       "      <td>False</td>\n",
       "      <td>False</td>\n",
       "      <td>False</td>\n",
       "      <td>False</td>\n",
       "      <td>-5.000000e-01</td>\n",
       "      <td>0.866025</td>\n",
       "    </tr>\n",
       "    <tr>\n",
       "      <th>3</th>\n",
       "      <td>1132.0</td>\n",
       "      <td>2016.0</td>\n",
       "      <td>1</td>\n",
       "      <td>38.9030</td>\n",
       "      <td>-76.9820</td>\n",
       "      <td>19.0</td>\n",
       "      <td>22.0</td>\n",
       "      <td>24.0</td>\n",
       "      <td>0.0</td>\n",
       "      <td>1.0</td>\n",
       "      <td>...</td>\n",
       "      <td>False</td>\n",
       "      <td>False</td>\n",
       "      <td>False</td>\n",
       "      <td>False</td>\n",
       "      <td>False</td>\n",
       "      <td>False</td>\n",
       "      <td>False</td>\n",
       "      <td>False</td>\n",
       "      <td>-8.660254e-01</td>\n",
       "      <td>0.500000</td>\n",
       "    </tr>\n",
       "    <tr>\n",
       "      <th>4</th>\n",
       "      <td>770.0</td>\n",
       "      <td>2015.0</td>\n",
       "      <td>0</td>\n",
       "      <td>40.4621</td>\n",
       "      <td>-80.0308</td>\n",
       "      <td>37.0</td>\n",
       "      <td>37.0</td>\n",
       "      <td>37.0</td>\n",
       "      <td>0.0</td>\n",
       "      <td>1.0</td>\n",
       "      <td>...</td>\n",
       "      <td>False</td>\n",
       "      <td>False</td>\n",
       "      <td>False</td>\n",
       "      <td>False</td>\n",
       "      <td>False</td>\n",
       "      <td>False</td>\n",
       "      <td>False</td>\n",
       "      <td>False</td>\n",
       "      <td>1.224647e-16</td>\n",
       "      <td>-1.000000</td>\n",
       "    </tr>\n",
       "  </tbody>\n",
       "</table>\n",
       "<p>5 rows × 74 columns</p>\n",
       "</div>"
      ],
      "text/plain": [
       "     date    year  populous_city  latitude  longitude  min_age_participants  \\\n",
       "0   771.0  2015.0              1   39.8322   -86.2492                  19.0   \n",
       "1  1491.0  2017.0              0   41.6645   -78.7856                  62.0   \n",
       "2  1131.0  2016.0              1   42.4190   -83.0393                  15.0   \n",
       "3  1132.0  2016.0              1   38.9030   -76.9820                  19.0   \n",
       "4   770.0  2015.0              0   40.4621   -80.0308                  37.0   \n",
       "\n",
       "   avg_age_participants  max_age_participants  teen_ratio  adults_ratio  ...  \\\n",
       "0                  19.0                  19.0         0.0           1.0  ...   \n",
       "1                  62.0                  62.0         0.0           1.0  ...   \n",
       "2                  15.0                  15.0         0.0           1.0  ...   \n",
       "3                  22.0                  24.0         0.0           1.0  ...   \n",
       "4                  37.0                  37.0         0.0           1.0  ...   \n",
       "\n",
       "   state_Texas  state_Utah  state_Vermont  state_Virginia  state_Washington  \\\n",
       "0        False       False          False           False             False   \n",
       "1        False       False          False           False             False   \n",
       "2        False       False          False           False             False   \n",
       "3        False       False          False           False             False   \n",
       "4        False       False          False           False             False   \n",
       "\n",
       "   state_West Virginia  state_Wisconsin  state_Wyoming       month_x   month_y  \n",
       "0                False            False          False  5.000000e-01 -0.866025  \n",
       "1                False            False          False  8.660254e-01 -0.500000  \n",
       "2                False            False          False -5.000000e-01  0.866025  \n",
       "3                False            False          False -8.660254e-01  0.500000  \n",
       "4                False            False          False  1.224647e-16 -1.000000  \n",
       "\n",
       "[5 rows x 74 columns]"
      ]
     },
     "execution_count": 19,
     "metadata": {},
     "output_type": "execute_result"
    }
   ],
   "source": [
    "dataset = pd.read_csv(\"data/final_dataset.csv\")\n",
    "print(\"Shape of dataset:\", dataset.shape)\n",
    "dataset.head()"
   ]
  },
  {
   "cell_type": "code",
   "execution_count": 20,
   "metadata": {},
   "outputs": [
    {
     "name": "stdout",
     "output_type": "stream",
     "text": [
      "There are NaN values: False\n"
     ]
    }
   ],
   "source": [
    "print(\"There are NaN values:\", dataset.isnull().values.any())"
   ]
  },
  {
   "cell_type": "code",
   "execution_count": 21,
   "metadata": {},
   "outputs": [
    {
     "name": "stdout",
     "output_type": "stream",
     "text": [
      "Index(['date', 'year', 'populous_city', 'latitude', 'longitude',\n",
      "       'min_age_participants', 'avg_age_participants', 'max_age_participants',\n",
      "       'teen_ratio', 'adults_ratio', 'males_ratio', 'killed_ratio',\n",
      "       'injured_ratio', 'arrested_ratio', 'n_participants',\n",
      "       'povertyPercentage', 'party', 'totalvotes', 'republicans_ratio',\n",
      "       'democrats_ratio', 'state_population', 'state_Alabama', 'state_Alaska',\n",
      "       'state_Arizona', 'state_Arkansas', 'state_California', 'state_Colorado',\n",
      "       'state_Connecticut', 'state_Delaware', 'state_District of Columbia',\n",
      "       'state_Florida', 'state_Georgia', 'state_Hawaii', 'state_Idaho',\n",
      "       'state_Illinois', 'state_Indiana', 'state_Iowa', 'state_Kansas',\n",
      "       'state_Kentucky', 'state_Louisiana', 'state_Maine', 'state_Maryland',\n",
      "       'state_Massachusetts', 'state_Michigan', 'state_Minnesota',\n",
      "       'state_Mississippi', 'state_Missouri', 'state_Montana',\n",
      "       'state_Nebraska', 'state_Nevada', 'state_New Hampshire',\n",
      "       'state_New Jersey', 'state_New Mexico', 'state_New York',\n",
      "       'state_North Carolina', 'state_North Dakota', 'state_Ohio',\n",
      "       'state_Oklahoma', 'state_Oregon', 'state_Pennsylvania',\n",
      "       'state_Rhode Island', 'state_South Carolina', 'state_South Dakota',\n",
      "       'state_Tennessee', 'state_Texas', 'state_Utah', 'state_Vermont',\n",
      "       'state_Virginia', 'state_Washington', 'state_West Virginia',\n",
      "       'state_Wisconsin', 'state_Wyoming', 'month_x', 'month_y'],\n",
      "      dtype='object')\n"
     ]
    }
   ],
   "source": [
    "print(dataset.columns)"
   ]
  },
  {
   "cell_type": "code",
   "execution_count": 22,
   "metadata": {},
   "outputs": [
    {
     "name": "stdout",
     "output_type": "stream",
     "text": [
      "Attributes to drop: ['state_population', 'state_Alabama', 'state_Alaska', 'state_Arizona', 'state_Arkansas', 'state_California', 'state_Colorado', 'state_Connecticut', 'state_Delaware', 'state_District of Columbia', 'state_Florida', 'state_Georgia', 'state_Hawaii', 'state_Idaho', 'state_Illinois', 'state_Indiana', 'state_Iowa', 'state_Kansas', 'state_Kentucky', 'state_Louisiana', 'state_Maine', 'state_Maryland', 'state_Massachusetts', 'state_Michigan', 'state_Minnesota', 'state_Mississippi', 'state_Missouri', 'state_Montana', 'state_Nebraska', 'state_Nevada', 'state_New Hampshire', 'state_New Jersey', 'state_New Mexico', 'state_New York', 'state_North Carolina', 'state_North Dakota', 'state_Ohio', 'state_Oklahoma', 'state_Oregon', 'state_Pennsylvania', 'state_Rhode Island', 'state_South Carolina', 'state_South Dakota', 'state_Tennessee', 'state_Texas', 'state_Utah', 'state_Vermont', 'state_Virginia', 'state_Washington', 'state_West Virginia', 'state_Wisconsin', 'state_Wyoming', 'min_age_participants', 'max_age_participants', 'teen_ratio', 'totalvotes']\n",
      "Shape of dataset: (239381, 18)\n"
     ]
    }
   ],
   "source": [
    "dropped_columns = [c for c in dataset.columns if c.startswith('state_')]\n",
    "dropped_columns += ['min_age_participants', 'max_age_participants', 'teen_ratio', 'totalvotes']\n",
    "print(\"Attributes to drop:\", dropped_columns)\n",
    "dataset_reduced = dataset.drop(columns=dropped_columns, axis = 1)\n",
    "print(\"Shape of dataset:\", dataset_reduced.shape)"
   ]
  },
  {
   "cell_type": "code",
   "execution_count": 23,
   "metadata": {},
   "outputs": [
    {
     "name": "stdout",
     "output_type": "stream",
     "text": [
      "Shape of numeric_dataset: (239381, 18)\n"
     ]
    },
    {
     "data": {
      "text/html": [
       "<div>\n",
       "<style scoped>\n",
       "    .dataframe tbody tr th:only-of-type {\n",
       "        vertical-align: middle;\n",
       "    }\n",
       "\n",
       "    .dataframe tbody tr th {\n",
       "        vertical-align: top;\n",
       "    }\n",
       "\n",
       "    .dataframe thead th {\n",
       "        text-align: right;\n",
       "    }\n",
       "</style>\n",
       "<table border=\"1\" class=\"dataframe\">\n",
       "  <thead>\n",
       "    <tr style=\"text-align: right;\">\n",
       "      <th></th>\n",
       "      <th>date</th>\n",
       "      <th>year</th>\n",
       "      <th>populous_city</th>\n",
       "      <th>latitude</th>\n",
       "      <th>longitude</th>\n",
       "      <th>avg_age_participants</th>\n",
       "      <th>adults_ratio</th>\n",
       "      <th>males_ratio</th>\n",
       "      <th>killed_ratio</th>\n",
       "      <th>injured_ratio</th>\n",
       "      <th>arrested_ratio</th>\n",
       "      <th>n_participants</th>\n",
       "      <th>povertyPercentage</th>\n",
       "      <th>party</th>\n",
       "      <th>republicans_ratio</th>\n",
       "      <th>democrats_ratio</th>\n",
       "      <th>month_x</th>\n",
       "      <th>month_y</th>\n",
       "    </tr>\n",
       "  </thead>\n",
       "  <tbody>\n",
       "    <tr>\n",
       "      <th>0</th>\n",
       "      <td>771.0</td>\n",
       "      <td>2015.0</td>\n",
       "      <td>1</td>\n",
       "      <td>39.8322</td>\n",
       "      <td>-86.2492</td>\n",
       "      <td>19.0</td>\n",
       "      <td>1.0</td>\n",
       "      <td>1.0</td>\n",
       "      <td>0.0</td>\n",
       "      <td>1.0</td>\n",
       "      <td>0.0</td>\n",
       "      <td>1.0</td>\n",
       "      <td>12.3</td>\n",
       "      <td>0</td>\n",
       "      <td>0.452677</td>\n",
       "      <td>0.547323</td>\n",
       "      <td>5.000000e-01</td>\n",
       "      <td>-0.866025</td>\n",
       "    </tr>\n",
       "    <tr>\n",
       "      <th>1</th>\n",
       "      <td>1491.0</td>\n",
       "      <td>2017.0</td>\n",
       "      <td>0</td>\n",
       "      <td>41.6645</td>\n",
       "      <td>-78.7856</td>\n",
       "      <td>62.0</td>\n",
       "      <td>1.0</td>\n",
       "      <td>1.0</td>\n",
       "      <td>1.0</td>\n",
       "      <td>0.0</td>\n",
       "      <td>0.0</td>\n",
       "      <td>1.0</td>\n",
       "      <td>10.5</td>\n",
       "      <td>1</td>\n",
       "      <td>0.671644</td>\n",
       "      <td>0.328356</td>\n",
       "      <td>8.660254e-01</td>\n",
       "      <td>-0.500000</td>\n",
       "    </tr>\n",
       "    <tr>\n",
       "      <th>2</th>\n",
       "      <td>1131.0</td>\n",
       "      <td>2016.0</td>\n",
       "      <td>1</td>\n",
       "      <td>42.4190</td>\n",
       "      <td>-83.0393</td>\n",
       "      <td>15.0</td>\n",
       "      <td>1.0</td>\n",
       "      <td>0.5</td>\n",
       "      <td>0.0</td>\n",
       "      <td>0.5</td>\n",
       "      <td>0.0</td>\n",
       "      <td>2.0</td>\n",
       "      <td>11.0</td>\n",
       "      <td>0</td>\n",
       "      <td>0.214934</td>\n",
       "      <td>0.785066</td>\n",
       "      <td>-5.000000e-01</td>\n",
       "      <td>0.866025</td>\n",
       "    </tr>\n",
       "    <tr>\n",
       "      <th>3</th>\n",
       "      <td>1132.0</td>\n",
       "      <td>2016.0</td>\n",
       "      <td>1</td>\n",
       "      <td>38.9030</td>\n",
       "      <td>-76.9820</td>\n",
       "      <td>22.0</td>\n",
       "      <td>1.0</td>\n",
       "      <td>1.0</td>\n",
       "      <td>0.0</td>\n",
       "      <td>1.0</td>\n",
       "      <td>0.0</td>\n",
       "      <td>2.0</td>\n",
       "      <td>14.9</td>\n",
       "      <td>1</td>\n",
       "      <td>0.609639</td>\n",
       "      <td>0.390361</td>\n",
       "      <td>-8.660254e-01</td>\n",
       "      <td>0.500000</td>\n",
       "    </tr>\n",
       "    <tr>\n",
       "      <th>4</th>\n",
       "      <td>770.0</td>\n",
       "      <td>2015.0</td>\n",
       "      <td>0</td>\n",
       "      <td>40.4621</td>\n",
       "      <td>-80.0308</td>\n",
       "      <td>37.0</td>\n",
       "      <td>1.0</td>\n",
       "      <td>1.0</td>\n",
       "      <td>0.0</td>\n",
       "      <td>0.5</td>\n",
       "      <td>0.0</td>\n",
       "      <td>2.0</td>\n",
       "      <td>11.5</td>\n",
       "      <td>0</td>\n",
       "      <td>0.000000</td>\n",
       "      <td>1.000000</td>\n",
       "      <td>1.224647e-16</td>\n",
       "      <td>-1.000000</td>\n",
       "    </tr>\n",
       "  </tbody>\n",
       "</table>\n",
       "</div>"
      ],
      "text/plain": [
       "     date    year  populous_city  latitude  longitude  avg_age_participants  \\\n",
       "0   771.0  2015.0              1   39.8322   -86.2492                  19.0   \n",
       "1  1491.0  2017.0              0   41.6645   -78.7856                  62.0   \n",
       "2  1131.0  2016.0              1   42.4190   -83.0393                  15.0   \n",
       "3  1132.0  2016.0              1   38.9030   -76.9820                  22.0   \n",
       "4   770.0  2015.0              0   40.4621   -80.0308                  37.0   \n",
       "\n",
       "   adults_ratio  males_ratio  killed_ratio  injured_ratio  arrested_ratio  \\\n",
       "0           1.0          1.0           0.0            1.0             0.0   \n",
       "1           1.0          1.0           1.0            0.0             0.0   \n",
       "2           1.0          0.5           0.0            0.5             0.0   \n",
       "3           1.0          1.0           0.0            1.0             0.0   \n",
       "4           1.0          1.0           0.0            0.5             0.0   \n",
       "\n",
       "   n_participants  povertyPercentage  party  republicans_ratio  \\\n",
       "0             1.0               12.3      0           0.452677   \n",
       "1             1.0               10.5      1           0.671644   \n",
       "2             2.0               11.0      0           0.214934   \n",
       "3             2.0               14.9      1           0.609639   \n",
       "4             2.0               11.5      0           0.000000   \n",
       "\n",
       "   democrats_ratio       month_x   month_y  \n",
       "0         0.547323  5.000000e-01 -0.866025  \n",
       "1         0.328356  8.660254e-01 -0.500000  \n",
       "2         0.785066 -5.000000e-01  0.866025  \n",
       "3         0.390361 -8.660254e-01  0.500000  \n",
       "4         1.000000  1.224647e-16 -1.000000  "
      ]
     },
     "execution_count": 23,
     "metadata": {},
     "output_type": "execute_result"
    }
   ],
   "source": [
    "numeric_dataset = dataset_reduced._get_numeric_data()\n",
    "print(\"Shape of numeric_dataset:\", numeric_dataset.shape)\n",
    "numeric_dataset.head()"
   ]
  },
  {
   "cell_type": "markdown",
   "metadata": {},
   "source": [
    "## 1.2 Outlier detection"
   ]
  },
  {
   "cell_type": "code",
   "execution_count": 24,
   "metadata": {},
   "outputs": [],
   "source": [
    "def return_whiskers(df, column):\n",
    "    q1 = df[column].quantile(0.25)\n",
    "    q3 = df[column].quantile(0.75)\n",
    "    iqr = q3 - q1\n",
    "    lower_whisker = q1 - 1.5 * iqr\n",
    "    upper_whisker = q3 + 1.5 * iqr\n",
    "    return lower_whisker, upper_whisker"
   ]
  },
  {
   "cell_type": "code",
   "execution_count": 25,
   "metadata": {},
   "outputs": [
    {
     "data": {
      "image/png": "[encoded data removed]",
      "text/plain": [
       "<Figure size 640x480 with 1 Axes>"
      ]
     },
     "metadata": {},
     "output_type": "display_data"
    }
   ],
   "source": [
    "boxplot = dataset_reduced.boxplot(column=['povertyPercentage'])\n",
    "plt.show()"
   ]
  },
  {
   "cell_type": "code",
   "execution_count": 26,
   "metadata": {},
   "outputs": [
    {
     "name": "stdout",
     "output_type": "stream",
     "text": [
      "Amount of outliers in povertyPercentage: 7379\n"
     ]
    }
   ],
   "source": [
    "lower_whisker_poverty, upper_whisker_poverty = return_whiskers(dataset_reduced, 'povertyPercentage')\n",
    "print(\"Amount of outliers in povertyPercentage:\", dataset_reduced[(dataset_reduced['povertyPercentage'] < lower_whisker_poverty) | (dataset_reduced['povertyPercentage'] > upper_whisker_poverty)].shape[0])"
   ]
  },
  {
   "cell_type": "markdown",
   "metadata": {},
   "source": [
    "Values for poverty percentages that are outliers are still realistic and close to whiskers. Furthermore, poverty percentage is a key attribute of our analysis, so we decide to keep all the data points."
   ]
  },
  {
   "cell_type": "code",
   "execution_count": 27,
   "metadata": {},
   "outputs": [
    {
     "data": {
      "image/png": "[encoded data removed]",
      "text/plain": [
       "<Figure size 640x480 with 1 Axes>"
      ]
     },
     "metadata": {},
     "output_type": "display_data"
    }
   ],
   "source": [
    "boxplot = dataset_reduced.boxplot(column = ['avg_age_participants', 'n_participants'])\n",
    "plt.show()"
   ]
  },
  {
   "cell_type": "markdown",
   "metadata": {},
   "source": [
    "Drop outliers for unrealistic values of avg age participants which may negatively influence clustering."
   ]
  },
  {
   "cell_type": "code",
   "execution_count": 28,
   "metadata": {},
   "outputs": [
    {
     "name": "stdout",
     "output_type": "stream",
     "text": [
      "Shape of dataset: (230888, 18)\n"
     ]
    }
   ],
   "source": [
    "# Get whisker value of boxplot for avg_age_participants\n",
    "lower_whisker_avg_age, upper_whisker_avg_age = return_whiskers(dataset_reduced, 'avg_age_participants')\n",
    "\n",
    "# Drop rows with avg_age_participants > upper_whisker\n",
    "dataset_reduced = dataset_reduced[dataset_reduced['avg_age_participants'] <= upper_whisker_avg_age]\n",
    "print(\"Shape of dataset:\", dataset_reduced.shape)"
   ]
  },
  {
   "cell_type": "code",
   "execution_count": 29,
   "metadata": {},
   "outputs": [
    {
     "data": {
      "image/png": "[encoded data removed]",
      "text/plain": [
       "<Figure size 640x480 with 1 Axes>"
      ]
     },
     "metadata": {},
     "output_type": "display_data"
    }
   ],
   "source": [
    "boxplot = dataset_reduced.boxplot(column = ['adults_ratio', 'males_ratio', 'killed_ratio', 'injured_ratio', 'arrested_ratio'])\n",
    "plt.show()"
   ]
  },
  {
   "cell_type": "code",
   "execution_count": 30,
   "metadata": {},
   "outputs": [
    {
     "data": {
      "image/png": "[encoded data removed]",
      "text/plain": [
       "<Figure size 640x480 with 1 Axes>"
      ]
     },
     "metadata": {},
     "output_type": "display_data"
    }
   ],
   "source": [
    "boxplot = dataset_reduced.boxplot(column = ['democrats_ratio', 'republicans_ratio'])\n",
    "plt.show()"
   ]
  },
  {
   "cell_type": "code",
   "execution_count": 31,
   "metadata": {},
   "outputs": [
    {
     "name": "stdout",
     "output_type": "stream",
     "text": [
      "Check if sum of democrats_ratio and republicans_ratio is 1 in every row: False\n",
      "Check how many rows have sum of democrats_ratio and republicans_ratio not equal to 1: 9797\n",
      "Amount of reublicans_ratio outliers: 7371\n",
      "Amount of democrats_ratio outliers: 7371\n"
     ]
    }
   ],
   "source": [
    "print('Check if sum of democrats_ratio and republicans_ratio is 1 in every row:', (dataset_reduced['democrats_ratio'] + dataset_reduced['republicans_ratio'] == 1).all())\n",
    "print('Check how many rows have sum of democrats_ratio and republicans_ratio not equal to 1:', (dataset_reduced['democrats_ratio'] + dataset_reduced['republicans_ratio'] != 1).sum())\n",
    "print(\"Amount of reublicans_ratio outliers:\", dataset_reduced[dataset_reduced['republicans_ratio'] == 1].shape[0] + dataset_reduced[dataset_reduced['republicans_ratio'] == 0].shape[0])\n",
    "print(\"Amount of democrats_ratio outliers:\", dataset_reduced[dataset_reduced['democrats_ratio'] == 1].shape[0] + dataset_reduced[dataset_reduced['democrats_ratio'] == 0].shape[0])"
   ]
  },
  {
   "cell_type": "code",
   "execution_count": 32,
   "metadata": {},
   "outputs": [
    {
     "name": "stdout",
     "output_type": "stream",
     "text": [
      "Amount of times democrats won and the percentage of votes for that part was <0.5: 2982\n",
      "Amount of times republicans won and the percentage of votes for that part was <0.5: 5702\n",
      "Amount of strange wins: 8684\n"
     ]
    }
   ],
   "source": [
    "# Check how many times a party won and the percentage of votes for that part was <0.5\n",
    "democrats_strange = len(dataset_reduced[(dataset_reduced['republicans_ratio'] > 0.5 ) & (dataset_reduced['party'] == 0)])\n",
    "republicans_strange = len(dataset_reduced[(dataset_reduced['republicans_ratio'] < 0.5 ) & (dataset_reduced['party'] == 1)])\n",
    "\n",
    "print(\"Amount of times democrats won and the percentage of votes for that part was <0.5:\", democrats_strange)\n",
    "print(\"Amount of times republicans won and the percentage of votes for that part was <0.5:\", republicans_strange)\n",
    "print(\"Amount of strange wins:\", democrats_strange + republicans_strange)"
   ]
  },
  {
   "cell_type": "code",
   "execution_count": 33,
   "metadata": {},
   "outputs": [
    {
     "data": {
      "image/png": "[encoded data removed]",
      "text/plain": [
       "<Figure size 640x480 with 1 Axes>"
      ]
     },
     "metadata": {},
     "output_type": "display_data"
    }
   ],
   "source": [
    "boxplot = dataset_reduced.boxplot(column = ['party'])\n",
    "plt.show()"
   ]
  },
  {
   "cell_type": "code",
   "execution_count": 34,
   "metadata": {},
   "outputs": [
    {
     "ename": "KeyError",
     "evalue": "\"None of [Index(['population'], dtype='object')] are in the [columns]\"",
     "output_type": "error",
     "traceback": [
      "\u001b[0;31m---------------------------------------------------------------------------\u001b[0m",
      "\u001b[0;31mKeyError\u001b[0m                                  Traceback (most recent call last)",
      "\u001b[1;32m/Users/dre/Desktop/GitRepo/Others/DataMiningProject/kmeans.ipynb Cell 22\u001b[0m line \u001b[0;36m1\n\u001b[0;32m----> <a href='vscode-notebook-cell:/Users/dre/Desktop/GitRepo/Others/DataMiningProject/kmeans.ipynb#Y141sZmlsZQ%3D%3D?line=0'>1</a>\u001b[0m boxplot \u001b[39m=\u001b[39m dataset_reduced\u001b[39m.\u001b[39;49mboxplot(column \u001b[39m=\u001b[39;49m [ \u001b[39m'\u001b[39;49m\u001b[39mpopulation\u001b[39;49m\u001b[39m'\u001b[39;49m])\n\u001b[1;32m      <a href='vscode-notebook-cell:/Users/dre/Desktop/GitRepo/Others/DataMiningProject/kmeans.ipynb#Y141sZmlsZQ%3D%3D?line=2'>3</a>\u001b[0m \u001b[39m#### FUTURE : LOOK AT CITY DIMENSION HERE ####\u001b[39;00m\n\u001b[1;32m      <a href='vscode-notebook-cell:/Users/dre/Desktop/GitRepo/Others/DataMiningProject/kmeans.ipynb#Y141sZmlsZQ%3D%3D?line=4'>5</a>\u001b[0m plt\u001b[39m.\u001b[39mshow()\n",
      "File \u001b[0;32m~/Desktop/GitRepo/Others/DataMiningProject/venv/lib/python3.10/site-packages/pandas/plotting/_core.py:529\u001b[0m, in \u001b[0;36mboxplot_frame\u001b[0;34m(self, column, by, ax, fontsize, rot, grid, figsize, layout, return_type, backend, **kwargs)\u001b[0m\n\u001b[1;32m    512\u001b[0m \u001b[39m@Substitution\u001b[39m(data\u001b[39m=\u001b[39m\u001b[39m\"\u001b[39m\u001b[39m\"\u001b[39m, backend\u001b[39m=\u001b[39m_backend_doc)\n\u001b[1;32m    513\u001b[0m \u001b[39m@Appender\u001b[39m(_boxplot_doc)\n\u001b[1;32m    514\u001b[0m \u001b[39mdef\u001b[39;00m \u001b[39mboxplot_frame\u001b[39m(\n\u001b[0;32m   (...)\u001b[0m\n\u001b[1;32m    526\u001b[0m     \u001b[39m*\u001b[39m\u001b[39m*\u001b[39mkwargs,\n\u001b[1;32m    527\u001b[0m ):\n\u001b[1;32m    528\u001b[0m     plot_backend \u001b[39m=\u001b[39m _get_plot_backend(backend)\n\u001b[0;32m--> 529\u001b[0m     \u001b[39mreturn\u001b[39;00m plot_backend\u001b[39m.\u001b[39;49mboxplot_frame(\n\u001b[1;32m    530\u001b[0m         \u001b[39mself\u001b[39;49m,\n\u001b[1;32m    531\u001b[0m         column\u001b[39m=\u001b[39;49mcolumn,\n\u001b[1;32m    532\u001b[0m         by\u001b[39m=\u001b[39;49mby,\n\u001b[1;32m    533\u001b[0m         ax\u001b[39m=\u001b[39;49max,\n\u001b[1;32m    534\u001b[0m         fontsize\u001b[39m=\u001b[39;49mfontsize,\n\u001b[1;32m    535\u001b[0m         rot\u001b[39m=\u001b[39;49mrot,\n\u001b[1;32m    536\u001b[0m         grid\u001b[39m=\u001b[39;49mgrid,\n\u001b[1;32m    537\u001b[0m         figsize\u001b[39m=\u001b[39;49mfigsize,\n\u001b[1;32m    538\u001b[0m         layout\u001b[39m=\u001b[39;49mlayout,\n\u001b[1;32m    539\u001b[0m         return_type\u001b[39m=\u001b[39;49mreturn_type,\n\u001b[1;32m    540\u001b[0m         \u001b[39m*\u001b[39;49m\u001b[39m*\u001b[39;49mkwargs,\n\u001b[1;32m    541\u001b[0m     )\n",
      "File \u001b[0;32m~/Desktop/GitRepo/Others/DataMiningProject/venv/lib/python3.10/site-packages/pandas/plotting/_matplotlib/boxplot.py:470\u001b[0m, in \u001b[0;36mboxplot_frame\u001b[0;34m(self, column, by, ax, fontsize, rot, grid, figsize, layout, return_type, **kwds)\u001b[0m\n\u001b[1;32m    455\u001b[0m \u001b[39mdef\u001b[39;00m \u001b[39mboxplot_frame\u001b[39m(\n\u001b[1;32m    456\u001b[0m     \u001b[39mself\u001b[39m,\n\u001b[1;32m    457\u001b[0m     column\u001b[39m=\u001b[39m\u001b[39mNone\u001b[39;00m,\n\u001b[0;32m   (...)\u001b[0m\n\u001b[1;32m    466\u001b[0m     \u001b[39m*\u001b[39m\u001b[39m*\u001b[39mkwds,\n\u001b[1;32m    467\u001b[0m ):\n\u001b[1;32m    468\u001b[0m     \u001b[39mimport\u001b[39;00m \u001b[39mmatplotlib\u001b[39;00m\u001b[39m.\u001b[39;00m\u001b[39mpyplot\u001b[39;00m \u001b[39mas\u001b[39;00m \u001b[39mplt\u001b[39;00m\n\u001b[0;32m--> 470\u001b[0m     ax \u001b[39m=\u001b[39m boxplot(\n\u001b[1;32m    471\u001b[0m         \u001b[39mself\u001b[39;49m,\n\u001b[1;32m    472\u001b[0m         column\u001b[39m=\u001b[39;49mcolumn,\n\u001b[1;32m    473\u001b[0m         by\u001b[39m=\u001b[39;49mby,\n\u001b[1;32m    474\u001b[0m         ax\u001b[39m=\u001b[39;49max,\n\u001b[1;32m    475\u001b[0m         fontsize\u001b[39m=\u001b[39;49mfontsize,\n\u001b[1;32m    476\u001b[0m         grid\u001b[39m=\u001b[39;49mgrid,\n\u001b[1;32m    477\u001b[0m         rot\u001b[39m=\u001b[39;49mrot,\n\u001b[1;32m    478\u001b[0m         figsize\u001b[39m=\u001b[39;49mfigsize,\n\u001b[1;32m    479\u001b[0m         layout\u001b[39m=\u001b[39;49mlayout,\n\u001b[1;32m    480\u001b[0m         return_type\u001b[39m=\u001b[39;49mreturn_type,\n\u001b[1;32m    481\u001b[0m         \u001b[39m*\u001b[39;49m\u001b[39m*\u001b[39;49mkwds,\n\u001b[1;32m    482\u001b[0m     )\n\u001b[1;32m    483\u001b[0m     plt\u001b[39m.\u001b[39mdraw_if_interactive()\n\u001b[1;32m    484\u001b[0m     \u001b[39mreturn\u001b[39;00m ax\n",
      "File \u001b[0;32m~/Desktop/GitRepo/Others/DataMiningProject/venv/lib/python3.10/site-packages/pandas/plotting/_matplotlib/boxplot.py:447\u001b[0m, in \u001b[0;36mboxplot\u001b[0;34m(data, column, by, ax, fontsize, rot, grid, figsize, layout, return_type, **kwds)\u001b[0m\n\u001b[1;32m    445\u001b[0m     columns \u001b[39m=\u001b[39m data\u001b[39m.\u001b[39mcolumns\n\u001b[1;32m    446\u001b[0m \u001b[39melse\u001b[39;00m:\n\u001b[0;32m--> 447\u001b[0m     data \u001b[39m=\u001b[39m data[columns]\n\u001b[1;32m    449\u001b[0m result \u001b[39m=\u001b[39m plot_group(columns, data\u001b[39m.\u001b[39mvalues\u001b[39m.\u001b[39mT, ax, \u001b[39m*\u001b[39m\u001b[39m*\u001b[39mkwds)\n\u001b[1;32m    450\u001b[0m ax\u001b[39m.\u001b[39mgrid(grid)\n",
      "File \u001b[0;32m~/Desktop/GitRepo/Others/DataMiningProject/venv/lib/python3.10/site-packages/pandas/core/frame.py:3899\u001b[0m, in \u001b[0;36mDataFrame.__getitem__\u001b[0;34m(self, key)\u001b[0m\n\u001b[1;32m   3897\u001b[0m     \u001b[39mif\u001b[39;00m is_iterator(key):\n\u001b[1;32m   3898\u001b[0m         key \u001b[39m=\u001b[39m \u001b[39mlist\u001b[39m(key)\n\u001b[0;32m-> 3899\u001b[0m     indexer \u001b[39m=\u001b[39m \u001b[39mself\u001b[39;49m\u001b[39m.\u001b[39;49mcolumns\u001b[39m.\u001b[39;49m_get_indexer_strict(key, \u001b[39m\"\u001b[39;49m\u001b[39mcolumns\u001b[39;49m\u001b[39m\"\u001b[39;49m)[\u001b[39m1\u001b[39m]\n\u001b[1;32m   3901\u001b[0m \u001b[39m# take() does not accept boolean indexers\u001b[39;00m\n\u001b[1;32m   3902\u001b[0m \u001b[39mif\u001b[39;00m \u001b[39mgetattr\u001b[39m(indexer, \u001b[39m\"\u001b[39m\u001b[39mdtype\u001b[39m\u001b[39m\"\u001b[39m, \u001b[39mNone\u001b[39;00m) \u001b[39m==\u001b[39m \u001b[39mbool\u001b[39m:\n",
      "File \u001b[0;32m~/Desktop/GitRepo/Others/DataMiningProject/venv/lib/python3.10/site-packages/pandas/core/indexes/base.py:6114\u001b[0m, in \u001b[0;36mIndex._get_indexer_strict\u001b[0;34m(self, key, axis_name)\u001b[0m\n\u001b[1;32m   6111\u001b[0m \u001b[39melse\u001b[39;00m:\n\u001b[1;32m   6112\u001b[0m     keyarr, indexer, new_indexer \u001b[39m=\u001b[39m \u001b[39mself\u001b[39m\u001b[39m.\u001b[39m_reindex_non_unique(keyarr)\n\u001b[0;32m-> 6114\u001b[0m \u001b[39mself\u001b[39;49m\u001b[39m.\u001b[39;49m_raise_if_missing(keyarr, indexer, axis_name)\n\u001b[1;32m   6116\u001b[0m keyarr \u001b[39m=\u001b[39m \u001b[39mself\u001b[39m\u001b[39m.\u001b[39mtake(indexer)\n\u001b[1;32m   6117\u001b[0m \u001b[39mif\u001b[39;00m \u001b[39misinstance\u001b[39m(key, Index):\n\u001b[1;32m   6118\u001b[0m     \u001b[39m# GH 42790 - Preserve name from an Index\u001b[39;00m\n",
      "File \u001b[0;32m~/Desktop/GitRepo/Others/DataMiningProject/venv/lib/python3.10/site-packages/pandas/core/indexes/base.py:6175\u001b[0m, in \u001b[0;36mIndex._raise_if_missing\u001b[0;34m(self, key, indexer, axis_name)\u001b[0m\n\u001b[1;32m   6173\u001b[0m     \u001b[39mif\u001b[39;00m use_interval_msg:\n\u001b[1;32m   6174\u001b[0m         key \u001b[39m=\u001b[39m \u001b[39mlist\u001b[39m(key)\n\u001b[0;32m-> 6175\u001b[0m     \u001b[39mraise\u001b[39;00m \u001b[39mKeyError\u001b[39;00m(\u001b[39mf\u001b[39m\u001b[39m\"\u001b[39m\u001b[39mNone of [\u001b[39m\u001b[39m{\u001b[39;00mkey\u001b[39m}\u001b[39;00m\u001b[39m] are in the [\u001b[39m\u001b[39m{\u001b[39;00maxis_name\u001b[39m}\u001b[39;00m\u001b[39m]\u001b[39m\u001b[39m\"\u001b[39m)\n\u001b[1;32m   6177\u001b[0m not_found \u001b[39m=\u001b[39m \u001b[39mlist\u001b[39m(ensure_index(key)[missing_mask\u001b[39m.\u001b[39mnonzero()[\u001b[39m0\u001b[39m]]\u001b[39m.\u001b[39munique())\n\u001b[1;32m   6178\u001b[0m \u001b[39mraise\u001b[39;00m \u001b[39mKeyError\u001b[39;00m(\u001b[39mf\u001b[39m\u001b[39m\"\u001b[39m\u001b[39m{\u001b[39;00mnot_found\u001b[39m}\u001b[39;00m\u001b[39m not in index\u001b[39m\u001b[39m\"\u001b[39m)\n",
      "\u001b[0;31mKeyError\u001b[0m: \"None of [Index(['population'], dtype='object')] are in the [columns]\""
     ]
    }
   ],
   "source": [
    "boxplot = dataset_reduced.boxplot(column = [ 'population'])\n",
    "\n",
    "#### FUTURE : LOOK AT CITY DIMENSION HERE ####\n",
    "\n",
    "plt.show()"
   ]
  },
  {
   "cell_type": "code",
   "execution_count": null,
   "metadata": {},
   "outputs": [],
   "source": [
    "boxplot = dataset_reduced.boxplot(column = ['party'])\n",
    "plt.show()"
   ]
  },
  {
   "cell_type": "markdown",
   "metadata": {},
   "source": [
    "## 1.3 Scaling"
   ]
  },
  {
   "cell_type": "code",
   "execution_count": null,
   "metadata": {},
   "outputs": [],
   "source": [
    "scaler = MinMaxScaler()\n",
    "scaled_dataset = scaler.fit_transform(numeric_dataset.values)\n",
    "scaled_dataset.shape"
   ]
  },
  {
   "cell_type": "markdown",
   "metadata": {},
   "source": [
    "# 2. K Means"
   ]
  },
  {
   "cell_type": "markdown",
   "metadata": {},
   "source": [
    "## 2.1 Identification of the best value of k"
   ]
  },
  {
   "cell_type": "code",
   "execution_count": null,
   "metadata": {},
   "outputs": [],
   "source": [
    "sse_list = []\n",
    "silhouette_list = []\n",
    "davies_bouldin_list = []\n",
    "\n",
    "max_k = 20\n",
    "for k in tqdm(range(2, max_k + 1), ):\n",
    "    kmeans = KMeans(n_clusters=k, n_init=10)\n",
    "    kmeans.fit(scaled_dataset)\n",
    "\n",
    "    sse_list.append(kmeans.inertia_)\n",
    "    silhouette_list.append(silhouette_score(scaled_dataset, kmeans.labels_, sample_size=10000))\n",
    "    davies_bouldin_list.append(davies_bouldin_score(scaled_dataset, kmeans.labels_))"
   ]
  },
  {
   "cell_type": "code",
   "execution_count": null,
   "metadata": {},
   "outputs": [],
   "source": [
    "fig, ax = plt.subplots(3, 1, figsize=(20, 15))\n",
    "ax[0].plot(range(2, len(sse_list) + 2), sse_list)\n",
    "ax[0].set_ylabel('SSE', fontsize=22)\n",
    "ax[0].set_xticks(range(2, len(sse_list) + 2))\n",
    "\n",
    "ax[1].plot(range(2, len(silhouette_list) + 2), silhouette_list)\n",
    "ax[1].set_ylabel('Silhouette Score', fontsize=22)\n",
    "ax[1].set_xticks(range(2, len(silhouette_list) + 2))\n",
    "\n",
    "ax[2].plot(range(2, len(davies_bouldin_list) + 2), davies_bouldin_list)\n",
    "ax[2].set_ylabel('Davies Bouldin Score', fontsize=22)\n",
    "ax[2].set_xticks(range(2, len(davies_bouldin_list) + 2))\n",
    "\n",
    "\n",
    "plt.xlabel('K', fontsize=22)\n",
    "plt.show()\n",
    "\n",
    "# NICER PLOTS"
   ]
  },
  {
   "cell_type": "markdown",
   "metadata": {},
   "source": [
    "## 2.2 Analysis of the centroids and clusters"
   ]
  },
  {
   "cell_type": "code",
   "execution_count": null,
   "metadata": {},
   "outputs": [],
   "source": [
    "n_clusters = 6\n",
    "kmeans = KMeans(n_clusters=n_clusters, n_init=10)\n",
    "kmeans.fit(scaled_dataset)"
   ]
  },
  {
   "cell_type": "code",
   "execution_count": null,
   "metadata": {},
   "outputs": [],
   "source": [
    "print(\"Shape of scaled_dataset: \", scaled_dataset.shape)\n",
    "print(\"Shape of kmeans.labels_: \", kmeans.labels_.shape)\n",
    "print(\"Shape of kmeans.cluster_centers_: \", kmeans.cluster_centers_.shape)"
   ]
  },
  {
   "cell_type": "code",
   "execution_count": null,
   "metadata": {},
   "outputs": [],
   "source": [
    "centers = scaler.inverse_transform(kmeans.cluster_centers_)\n",
    "centers_df = pd.DataFrame(centers, columns=numeric_dataset.columns)\n",
    "centers_df.head(7)"
   ]
  },
  {
   "cell_type": "code",
   "execution_count": null,
   "metadata": {},
   "outputs": [],
   "source": [
    "cluster_num_points = []\n",
    "cluster_points = []\n",
    "for i in range(n_clusters):\n",
    "    cluster_points.append(scaled_dataset[kmeans.labels_ == i])\n",
    "    cluster_num_points.append(len(cluster_points[-1]))\n",
    "    \n",
    "cluster_num_points, cluster_points[0].shape"
   ]
  },
  {
   "cell_type": "code",
   "execution_count": null,
   "metadata": {},
   "outputs": [],
   "source": [
    "kmeans_tot = KMeans(n_clusters=1, n_init=10)\n",
    "kmeans_tot.fit(scaled_dataset)\n",
    "total_SSE = kmeans_tot.inertia_ / len(scaled_dataset)\n",
    "\n",
    "cluster_SSE = []\n",
    "for i in range(n_clusters):\n",
    "    cluster_sse = 0\n",
    "    for point in cluster_points[i]:\n",
    "        cluster_sse += np.linalg.norm(point - kmeans.cluster_centers_[i])**2\n",
    "    cluster_SSE.append(cluster_sse / cluster_num_points[i])\n",
    "\n",
    "print(\"Cluster SSE: \", cluster_SSE)\n",
    "print(\"Total SSE: \", total_SSE)\n",
    "print(\"SSE of cluster with min SSE: \", min(cluster_SSE))\n",
    "print(\"SSE of cluster with max SSE: \", max(cluster_SSE))\n",
    "print(\"Mean of SSE: \", np.mean(cluster_SSE))"
   ]
  },
  {
   "cell_type": "code",
   "execution_count": null,
   "metadata": {},
   "outputs": [],
   "source": [
    "cluster_distance_variance = []\n",
    "total_distance_variance = 0\n",
    "dataset_centroid = np.mean(scaled_dataset, axis=0)\n",
    "\n",
    "###### CI RIPENSIAMO SU QUESTO ######\n",
    "for point in scaled_dataset:\n",
    "    total_distance_variance += (np.linalg.norm(point - dataset_centroid)**2 - total_SSE) ** 2\n",
    "total_distance_variance /= len(scaled_dataset)\n",
    "#####################################\n",
    "\n",
    "for i in range(n_clusters):\n",
    "    variance = 0\n",
    "    for p in cluster_points[i]:\n",
    "        variance += ((np.linalg.norm(p - kmeans.cluster_centers_[i]))**2 - cluster_SSE[i])**2\n",
    "    cluster_distance_variance.append(variance/cluster_num_points[i])\n",
    "\n",
    "print(\"Cluster distance variance: \", cluster_distance_variance)\n",
    "print(\"Total distance variance: \", total_distance_variance)\n",
    "print(\"Distance variance of cluster with min SSE: \", min(cluster_distance_variance))\n",
    "print(\"Distance variance of cluster with max SSE: \", max(cluster_distance_variance))\n",
    "print(\"Mean of distance variance: \", np.mean(cluster_distance_variance))"
   ]
  },
  {
   "cell_type": "markdown",
   "metadata": {},
   "source": [
    "Analysis of distribution of repubblican vs democrats in the clusters."
   ]
  },
  {
   "cell_type": "code",
   "execution_count": null,
   "metadata": {},
   "outputs": [],
   "source": [
    "party_xt_pct = pd.crosstab(kmeans.labels_, numeric_dataset['party'])\n",
    "party_xt_pct"
   ]
  },
  {
   "cell_type": "code",
   "execution_count": null,
   "metadata": {},
   "outputs": [],
   "source": [
    "party_xt_pct.plot(kind='bar', stacked=False, \n",
    "                   title='Party per cluster')\n",
    "plt.xlabel('Cluster')\n",
    "plt.ylabel('Party')\n",
    "plt.show()"
   ]
  },
  {
   "cell_type": "markdown",
   "metadata": {},
   "source": [
    "Construct a distance matrix among cluster centroids."
   ]
  },
  {
   "cell_type": "code",
   "execution_count": null,
   "metadata": {},
   "outputs": [],
   "source": [
    "centroid_distance_matrix = squareform(pdist(kmeans.cluster_centers_))\n",
    "sns.heatmap(centroid_distance_matrix, annot=True, fmt = '.2f', cmap='crest')\n",
    "plt.show()"
   ]
  },
  {
   "cell_type": "markdown",
   "metadata": {},
   "source": [
    "Construct matrix displaying correlation of attribute values to belonging to a certain cluster."
   ]
  },
  {
   "cell_type": "code",
   "execution_count": null,
   "metadata": {},
   "outputs": [],
   "source": [
    "# Transfrom kmeans labels into onehot encoding\n",
    "onehot = np.zeros((len(kmeans.labels_), n_clusters))\n",
    "onehot[np.arange(len(kmeans.labels_)), kmeans.labels_] = 1\n",
    "\n",
    "# Compute correlation between onehot encoding and scaled dataset\n",
    "onehot_corr = np.corrcoef(scaled_dataset, onehot, rowvar=False)\n",
    "\n",
    "cmap = sns.diverging_palette(230, 20, as_cmap=True)\n",
    "\n",
    "sns.heatmap(onehot_corr[:scaled_dataset.shape[1], scaled_dataset.shape[1]:], cmap=cmap)\n",
    "\n",
    "# Set ticks on y axis with feature names\n",
    "plt.yticks(np.arange(scaled_dataset.shape[1]) + 0.5, numeric_dataset.columns, rotation=0, fontsize=12)\n",
    "plt.show()"
   ]
  },
  {
   "cell_type": "markdown",
   "metadata": {},
   "source": [
    "Compute the similarity matrix of a sample of the dataset."
   ]
  },
  {
   "cell_type": "code",
   "execution_count": null,
   "metadata": {},
   "outputs": [],
   "source": [
    "# Downsample the dataset to 10000\n",
    "samples = np.random.choice(scaled_dataset.shape[0], 1000, replace=False)\n",
    "downsampled_dataset = scaled_dataset[samples]\n",
    "downsampled_labels = kmeans.labels_[samples]\n",
    "\n",
    "# Sort based on labels\n",
    "sorted_indexes = np.argsort(downsampled_labels)\n",
    "downsampled_dataset = downsampled_dataset[sorted_indexes]\n",
    "downsampled_labels = downsampled_labels[sorted_indexes]\n",
    "\n",
    "# Compute similarity matrix\n",
    "pdist_matrix = squareform(pdist(downsampled_dataset, metric='minkowski', p=2))\n",
    "sns.heatmap(pdist_matrix, fmt = '.2f', cmap='crest')\n",
    "plt.xticks([])\n",
    "plt.yticks([])"
   ]
  },
  {
   "cell_type": "code",
   "execution_count": null,
   "metadata": {},
   "outputs": [],
   "source": [
    "kmeans.cluster_centers_.shape"
   ]
  },
  {
   "cell_type": "code",
   "execution_count": null,
   "metadata": {},
   "outputs": [],
   "source": [
    "tsne = TSNE(n_components=2, n_jobs=-1)\n",
    "tsne_dataset = np.concatenate((downsampled_dataset, kmeans.cluster_centers_))\n",
    "tsne_labels = np.concatenate((downsampled_labels, range(n_clusters)))\n",
    "tsne_map = tsne.fit_transform(tsne_dataset)\n",
    "\n",
    "scatter = plt.scatter(tsne_map[:-n_clusters, 0], tsne_map[:-n_clusters, 1], c = tsne_labels[:-n_clusters], s=10, cmap='tab10')\n",
    "plt.scatter(tsne_map[-n_clusters:, 0], tsne_map[-n_clusters:, 1], c = tsne_labels[-n_clusters:], s=100, cmap='tab10', marker='*', edgecolors='black')\n",
    "\n",
    "#for i in range(n_clusters):\n",
    "#    plt.annotate(i, tsne_map[-n_clusters + i, :], fontsize=20)\n",
    "\n",
    "# Get unique cluster labels\n",
    "unique_labels = set(tsne_labels[:-n_clusters])\n",
    "\n",
    "# Create a legend with a color for each cluster\n",
    "legend_entries = []\n",
    "for label in unique_labels:\n",
    "    # Find the indices of data points with the current label\n",
    "    indices = tsne_labels[:-n_clusters] == label\n",
    "    # Add a legend entry for the current label with the corresponding color\n",
    "    legend_entries.append(plt.Line2D([0], [0], marker='o', color='w', markerfacecolor=scatter.cmap(scatter.norm(label)), markersize=8, label=f'Cluster {label}'))\n",
    "\n",
    "# Add legend to the plot\n",
    "plt.legend(handles=legend_entries, loc='lower right')\n",
    "    \n",
    "plt.show()"
   ]
  },
  {
   "cell_type": "code",
   "execution_count": null,
   "metadata": {},
   "outputs": [],
   "source": []
  },
  {
   "cell_type": "markdown",
   "metadata": {},
   "source": [
    "## 2.3 Distribution of variables: within clusters vs whole dataset"
   ]
  },
  {
   "cell_type": "code",
   "execution_count": null,
   "metadata": {},
   "outputs": [],
   "source": [
    "print(kmeans.labels_.shape)\n",
    "print(numeric_dataset.shape)"
   ]
  },
  {
   "cell_type": "code",
   "execution_count": null,
   "metadata": {},
   "outputs": [],
   "source": [
    "# Plot distribution of average age for whole dataset and clusters\n",
    "numeric_dataset_with_clusters = numeric_dataset.copy()\n",
    "numeric_dataset_with_clusters['cluster'] = kmeans.labels_\n",
    "\n",
    "sns.displot(numeric_dataset_with_clusters, x=\"avg_age_participants\", kind='kde', hue=\"cluster\")\n",
    "\n",
    "sns.displot(numeric_dataset_with_clusters, x=\"males_ratio\", kind='kde', hue=\"cluster\")\n",
    "\n",
    "# Stretch horizontally\n",
    "plt.gcf().set_size_inches(20, 5)\n"
   ]
  },
  {
   "cell_type": "code",
   "execution_count": null,
   "metadata": {},
   "outputs": [],
   "source": [
    "sns.displot(numeric_dataset_with_clusters, x=\"povertyPercentage\", y='n_participants', hue=\"cluster\")\n",
    "plt.ylim(0,15)"
   ]
  },
  {
   "cell_type": "code",
   "execution_count": null,
   "metadata": {},
   "outputs": [],
   "source": [
    "sns.displot(numeric_dataset_with_clusters, x=\"povertyPercentage\", y='n_participants', kind='kde', hue=\"cluster\")\n",
    "# Restric the plot to number of participants between 0 and 30\n",
    "plt.ylim(0, 8)"
   ]
  },
  {
   "cell_type": "code",
   "execution_count": null,
   "metadata": {},
   "outputs": [],
   "source": [
    "print(numeric_dataset.shape)"
   ]
  },
  {
   "cell_type": "code",
   "execution_count": null,
   "metadata": {},
   "outputs": [],
   "source": [
    "plt.scatter(numeric_dataset['longitude'], numeric_dataset['latitude'],  c=kmeans.labels_, s=20)\n",
    "plt.scatter(centers_df['longitude'], centers_df['latitude'], marker='*', c='r', s=150)\n",
    "#plt.tick_params(axis='both', which='major', labelsize=18)\n",
    "plt.show()"
   ]
  },
  {
   "cell_type": "markdown",
   "metadata": {},
   "source": [
    "# Best Clustering Approach"
   ]
  },
  {
   "cell_type": "markdown",
   "metadata": {},
   "source": []
  }
 ],
 "metadata": {
  "kernelspec": {
   "display_name": "venv",
   "language": "python",
   "name": "python3"
  },
  "language_info": {
   "codemirror_mode": {
    "name": "ipython",
    "version": 3
   },
   "file_extension": ".py",
   "mimetype": "text/x-python",
   "name": "python",
   "nbconvert_exporter": "python",
   "pygments_lexer": "ipython3",
   "version": "3.10.8"
  }
 },
 "nbformat": 4,
 "nbformat_minor": 2
}
