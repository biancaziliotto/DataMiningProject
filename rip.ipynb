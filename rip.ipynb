{
 "cells": [
  {
   "cell_type": "code",
   "execution_count": null,
   "metadata": {},
   "outputs": [],
   "source": []
  },
  {
   "cell_type": "markdown",
   "metadata": {},
   "source": [
    "### 5.3.3 Neural Network"
   ]
  },
  {
   "cell_type": "code",
   "execution_count": null,
   "metadata": {},
   "outputs": [],
   "source": [
    "import torch\n",
    "import torch.nn as nn\n",
    "import torch.optim as optim\n",
    "from torch.utils.data import DataLoader, TensorDataset\n",
    "from sklearn.model_selection import KFold, ParameterGrid\n",
    "from sklearn.metrics import accuracy_score\n",
    "from sklearn.preprocessing import StandardScaler"
   ]
  },
  {
   "cell_type": "code",
   "execution_count": null,
   "metadata": {},
   "outputs": [
    {
     "name": "stderr",
     "output_type": "stream",
     "text": [
      "/var/folders/bp/kpcs2z7s5_54t0p548zr3tb00000gn/T/ipykernel_55909/4281515862.py:2: UserWarning: To copy construct from a tensor, it is recommended to use sourceTensor.clone().detach() or sourceTensor.clone().detach().requires_grad_(True), rather than torch.tensor(sourceTensor).\n",
      "  X_train, y_train = torch.tensor(X_train).float(), torch.tensor(y_train).long()\n",
      "/var/folders/bp/kpcs2z7s5_54t0p548zr3tb00000gn/T/ipykernel_55909/4281515862.py:3: UserWarning: To copy construct from a tensor, it is recommended to use sourceTensor.clone().detach() or sourceTensor.clone().detach().requires_grad_(True), rather than torch.tensor(sourceTensor).\n",
      "  X_valid, y_valid = torch.tensor(X_valid).float(), torch.tensor(y_val).long()\n",
      "/var/folders/bp/kpcs2z7s5_54t0p548zr3tb00000gn/T/ipykernel_55909/4281515862.py:4: UserWarning: To copy construct from a tensor, it is recommended to use sourceTensor.clone().detach() or sourceTensor.clone().detach().requires_grad_(True), rather than torch.tensor(sourceTensor).\n",
      "  X_test, y_test = torch.tensor(X_test).float(), torch.tensor(y_test).long()\n",
      "/var/folders/bp/kpcs2z7s5_54t0p548zr3tb00000gn/T/ipykernel_55909/4281515862.py:7: UserWarning: To copy construct from a tensor, it is recommended to use sourceTensor.clone().detach() or sourceTensor.clone().detach().requires_grad_(True), rather than torch.tensor(sourceTensor).\n",
      "  X_train, y_train = torch.tensor(X_train).float(), torch.tensor(y_train).long()\n",
      "/var/folders/bp/kpcs2z7s5_54t0p548zr3tb00000gn/T/ipykernel_55909/4281515862.py:8: UserWarning: To copy construct from a tensor, it is recommended to use sourceTensor.clone().detach() or sourceTensor.clone().detach().requires_grad_(True), rather than torch.tensor(sourceTensor).\n",
      "  X_valid, y_valid = torch.tensor(X_valid).float(), torch.tensor(y_valid).long()\n",
      "/var/folders/bp/kpcs2z7s5_54t0p548zr3tb00000gn/T/ipykernel_55909/4281515862.py:9: UserWarning: To copy construct from a tensor, it is recommended to use sourceTensor.clone().detach() or sourceTensor.clone().detach().requires_grad_(True), rather than torch.tensor(sourceTensor).\n",
      "  X_test, y_test = torch.tensor(X_test).float(), torch.tensor(y_test).long()\n"
     ]
    }
   ],
   "source": [
    "# Convert your numpy arrays to PyTorch tensors\n",
    "X_train, y_train = torch.tensor(X_train).float(), torch.tensor(y_train).long()\n",
    "X_valid, y_valid = torch.tensor(X_valid).float(), torch.tensor(y_val).long()\n",
    "X_test, y_test = torch.tensor(X_test).float(), torch.tensor(y_test).long()\n",
    "\n",
    "# Convert your numpy arrays to PyTorch tensors\n",
    "X_train, y_train = torch.tensor(X_train).float(), torch.tensor(y_train).long()\n",
    "X_valid, y_valid = torch.tensor(X_valid).float(), torch.tensor(y_valid).long()\n",
    "X_test, y_test = torch.tensor(X_test).float(), torch.tensor(y_test).long()"
   ]
  },
  {
   "cell_type": "code",
   "execution_count": null,
   "metadata": {},
   "outputs": [
    {
     "ename": "AttributeError",
     "evalue": "module 'torch' has no attribute 'Variable'",
     "output_type": "error",
     "traceback": [
      "\u001b[0;31m---------------------------------------------------------------------------\u001b[0m\n",
      "\u001b[0;31mAttributeError\u001b[0m                            Traceback (most recent call last)\n",
      "Cell \u001b[0;32mIn[133], line 57\u001b[0m\n",
      "\u001b[1;32m     55\u001b[0m \u001b[38;5;28;01mfor\u001b[39;00m params \u001b[38;5;129;01min\u001b[39;00m ParameterGrid(param_grid):\n",
      "\u001b[1;32m     56\u001b[0m     model \u001b[38;5;241m=\u001b[39m SimpleNN(input_size\u001b[38;5;241m=\u001b[39mX_train\u001b[38;5;241m.\u001b[39mshape[\u001b[38;5;241m1\u001b[39m], hidden_size\u001b[38;5;241m=\u001b[39mparams[\u001b[38;5;124m'\u001b[39m\u001b[38;5;124mhidden_size\u001b[39m\u001b[38;5;124m'\u001b[39m], output_size\u001b[38;5;241m=\u001b[39m\u001b[38;5;28mlen\u001b[39m(np\u001b[38;5;241m.\u001b[39munique(y_train)))\n",
      "\u001b[0;32m---> 57\u001b[0m     criterion \u001b[38;5;241m=\u001b[39m \u001b[43mtorch\u001b[49m\u001b[38;5;241;43m.\u001b[39;49m\u001b[43mVariable\u001b[49m(nn\u001b[38;5;241m.\u001b[39mCrossEntropyLoss, requires_grad\u001b[38;5;241m=\u001b[39m\u001b[38;5;28;01mTrue\u001b[39;00m)\n",
      "\u001b[1;32m     58\u001b[0m     optimizer \u001b[38;5;241m=\u001b[39m optim\u001b[38;5;241m.\u001b[39mAdam(model\u001b[38;5;241m.\u001b[39mparameters(), lr\u001b[38;5;241m=\u001b[39mparams[\u001b[38;5;124m'\u001b[39m\u001b[38;5;124mlearning_rate\u001b[39m\u001b[38;5;124m'\u001b[39m], weight_decay\u001b[38;5;241m=\u001b[39mparams[\u001b[38;5;124m'\u001b[39m\u001b[38;5;124mweight_decay\u001b[39m\u001b[38;5;124m'\u001b[39m])\n",
      "\u001b[1;32m     60\u001b[0m     \u001b[38;5;28;01mfor\u001b[39;00m train_idx, valid_idx \u001b[38;5;129;01min\u001b[39;00m cv\u001b[38;5;241m.\u001b[39msplit(X_train):\n",
      "\n",
      "File \u001b[0;32m~/Desktop/GitRepo/Others/DataMiningProject/venv/lib/python3.9/site-packages/torch/__init__.py:1833\u001b[0m, in \u001b[0;36m__getattr__\u001b[0;34m(name)\u001b[0m\n",
      "\u001b[1;32m   1830\u001b[0m     \u001b[38;5;28;01mimport\u001b[39;00m \u001b[38;5;21;01mimportlib\u001b[39;00m\n",
      "\u001b[1;32m   1831\u001b[0m     \u001b[38;5;28;01mreturn\u001b[39;00m importlib\u001b[38;5;241m.\u001b[39mimport_module(\u001b[38;5;124mf\u001b[39m\u001b[38;5;124m\"\u001b[39m\u001b[38;5;124m.\u001b[39m\u001b[38;5;132;01m{\u001b[39;00mname\u001b[38;5;132;01m}\u001b[39;00m\u001b[38;5;124m\"\u001b[39m, \u001b[38;5;18m__name__\u001b[39m)\n",
      "\u001b[0;32m-> 1833\u001b[0m \u001b[38;5;28;01mraise\u001b[39;00m \u001b[38;5;167;01mAttributeError\u001b[39;00m(\u001b[38;5;124mf\u001b[39m\u001b[38;5;124m\"\u001b[39m\u001b[38;5;124mmodule \u001b[39m\u001b[38;5;124m'\u001b[39m\u001b[38;5;132;01m{\u001b[39;00m\u001b[38;5;18m__name__\u001b[39m\u001b[38;5;132;01m}\u001b[39;00m\u001b[38;5;124m'\u001b[39m\u001b[38;5;124m has no attribute \u001b[39m\u001b[38;5;124m'\u001b[39m\u001b[38;5;132;01m{\u001b[39;00mname\u001b[38;5;132;01m}\u001b[39;00m\u001b[38;5;124m'\u001b[39m\u001b[38;5;124m\"\u001b[39m)\n",
      "\n",
      "\u001b[0;31mAttributeError\u001b[0m: module 'torch' has no attribute 'Variable'"
     ]
    }
   ],
   "source": [
    "# Define your neural network model\n",
    "class SimpleNN(nn.Module):\n",
    "    def __init__(self, input_size, hidden_size, output_size):\n",
    "        super(SimpleNN, self).__init__()\n",
    "        self.fc1 = nn.Linear(input_size, hidden_size)\n",
    "        self.relu = nn.ReLU()\n",
    "        self.fc2 = nn.Linear(hidden_size, output_size)\n",
    "\n",
    "    def forward(self, x):\n",
    "        x = self.relu(self.fc1(x))\n",
    "        x = self.fc2(x)\n",
    "        return x\n",
    "\n",
    "# Function to train the model\n",
    "def train_model(model, criterion, optimizer, train_loader):\n",
    "    model.train()\n",
    "    for X_batch, y_batch in train_loader:\n",
    "        optimizer.zero_grad()\n",
    "\n",
    "        # Forward pass\n",
    "        outputs = model(X_batch)\n",
    "        loss = criterion(outputs, y_batch)\n",
    "\n",
    "        # Backward pass\n",
    "        loss.backward()\n",
    "        optimizer.step()\n",
    "\n",
    "# Function to evaluate the model\n",
    "def evaluate_model(model, criterion, valid_loader):\n",
    "    model.eval()\n",
    "    with torch.no_grad():\n",
    "        for X_batch, y_batch in valid_loader:\n",
    "            val_outputs = model(X_batch)\n",
    "            val_loss = criterion(val_outputs, y_batch)\n",
    "            val_preds = torch.argmax(val_outputs, dim=1)\n",
    "            accuracy = accuracy_score(y_batch.numpy(), val_preds.numpy())\n",
    "\n",
    "    return val_loss.item(), accuracy\n",
    "\n",
    "# Set up hyperparameter search space\n",
    "param_grid = {\n",
    "    'hidden_size': [100, 200, 300],\n",
    "    'learning_rate': [0.001, 0.01, 0.1],\n",
    "    'weight_decay': [0.0001, 0.001, 0.01],\n",
    "}\n",
    "\n",
    "# Define cross-validation strategy\n",
    "cv = KFold(n_splits=5, shuffle=True, random_state=42)\n",
    "\n",
    "# Initialize the best model and accuracy\n",
    "best_model = None\n",
    "best_accuracy = 0.0\n",
    "\n",
    "# Perform hyperparameter search\n",
    "for params in ParameterGrid(param_grid):\n",
    "    model = SimpleNN(input_size=X_train.shape[1], hidden_size=params['hidden_size'], output_size=len(np.unique(y_train)))\n",
    "    criterion = torch.Variable(nn.CrossEntropyLoss, requires_grad=True)\n",
    "    optimizer = optim.Adam(model.parameters(), lr=params['learning_rate'], weight_decay=params['weight_decay'])\n",
    "\n",
    "    for train_idx, valid_idx in cv.split(X_train):\n",
    "        train_dataset = TensorDataset(X_train[train_idx], y_train[train_idx])\n",
    "        valid_dataset = TensorDataset(X_train[valid_idx], y_train[valid_idx])\n",
    "\n",
    "        train_loader = DataLoader(train_dataset, batch_size=64, shuffle=True)\n",
    "        valid_loader = DataLoader(valid_dataset, batch_size=len(valid_idx), shuffle=False)\n",
    "\n",
    "        for epoch in range(100):  # Set the number of epochs to 100\n",
    "            train_model(model, criterion, optimizer, train_loader)\n",
    "\n",
    "        val_loss, accuracy = evaluate_model(model, criterion, valid_loader)\n",
    "\n",
    "        if accuracy > best_accuracy:\n",
    "            best_accuracy = accuracy\n",
    "            best_model = model\n",
    "\n",
    "# Report validation score of the best model\n",
    "print('Best validation accuracy:', best_accuracy)"
   ]
  }
 ],
 "metadata": {
  "language_info": {
   "name": "python"
  }
 },
 "nbformat": 4,
 "nbformat_minor": 2
}
