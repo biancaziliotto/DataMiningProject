{
 "cells": [
  {
   "cell_type": "code",
   "execution_count": 1,
   "id": "initial_id",
   "metadata": {
    "collapsed": true,
    "ExecuteTime": {
     "end_time": "2024-01-05T23:40:13.393827615Z",
     "start_time": "2024-01-05T23:40:08.830905165Z"
    }
   },
   "outputs": [
    {
     "name": "stderr",
     "output_type": "stream",
     "text": [
      "2024-01-06 00:40:10.011271: E external/local_xla/xla/stream_executor/cuda/cuda_dnn.cc:9261] Unable to register cuDNN factory: Attempting to register factory for plugin cuDNN when one has already been registered\n",
      "2024-01-06 00:40:10.011500: E external/local_xla/xla/stream_executor/cuda/cuda_fft.cc:607] Unable to register cuFFT factory: Attempting to register factory for plugin cuFFT when one has already been registered\n",
      "2024-01-06 00:40:10.089472: E external/local_xla/xla/stream_executor/cuda/cuda_blas.cc:1515] Unable to register cuBLAS factory: Attempting to register factory for plugin cuBLAS when one has already been registered\n",
      "2024-01-06 00:40:10.233996: I tensorflow/core/platform/cpu_feature_guard.cc:182] This TensorFlow binary is optimized to use available CPU instructions in performance-critical operations.\n",
      "To enable the following instructions: AVX2 FMA, in other operations, rebuild TensorFlow with the appropriate compiler flags.\n",
      "2024-01-06 00:40:11.248542: W tensorflow/compiler/tf2tensorrt/utils/py_utils.cc:38] TF-TRT Warning: Could not find TensorRT\n"
     ]
    }
   ],
   "source": [
    "import keras_tuner\n",
    "import numpy as np\n",
    "import pandas as pd\n",
    "from imblearn.under_sampling import RandomUnderSampler\n",
    "from sklearn.preprocessing import StandardScaler\n",
    "from sklearn.model_selection import RandomizedSearchCV, GridSearchCV\n",
    "from sklearn.tree import DecisionTreeClassifier\n",
    "from sklearn.ensemble import RandomForestClassifier, AdaBoostClassifier\n",
    "from wittgenstein import RIPPER\n",
    "from sklearn.neighbors import KNeighborsClassifier\n",
    "from sklearn.naive_bayes import GaussianNB\n",
    "from sklearn.svm import SVC\n",
    "from sklearn.model_selection import train_test_split\n",
    "from scipy.stats import randint as sp_randint\n",
    "from sklearn.metrics import (make_scorer, accuracy_score, precision_score,\n",
    "                             recall_score, f1_score, precision_recall_fscore_support, \n",
    "                             classification_report, confusion_matrix, ConfusionMatrixDisplay)\n",
    "import matplotlib.pyplot as plt\n",
    "\n",
    "import keras\n",
    "import keras_tuner"
   ]
  },
  {
   "cell_type": "markdown",
   "source": [
    "# 1 Data Preprocessing"
   ],
   "metadata": {
    "collapsed": false
   },
   "id": "30b5e9cc110a55ea"
  },
  {
   "cell_type": "markdown",
   "source": [
    "## 1.1 Handling categorical attirbute"
   ],
   "metadata": {
    "collapsed": false
   },
   "id": "aaded2afeb4cdebe"
  },
  {
   "cell_type": "code",
   "outputs": [
    {
     "data": {
      "text/plain": "     date    year city_or_county  latitude  longitude  min_age_participants  \\\n0   729.0  2015.0   Indianapolis   39.8322   -86.2492                  19.0   \n1  1459.0  2017.0           Kane   41.6645   -78.7856                  62.0   \n2  1404.0  2016.0        Detroit   42.4190   -83.0393                  19.0   \n3  1383.0  2016.0     Washington   38.9030   -76.9820                  21.0   \n4   894.0  2015.0     Pittsburgh   40.4621   -80.0308                  21.0   \n\n   avg_age_participants  max_age_participants  teen_ratio  adults_ratio  ...  \\\n0                  19.0                  19.0         0.0           1.0  ...   \n1                  62.0                  62.0         0.0           1.0  ...   \n2                  19.0                  19.0         0.0           1.0  ...   \n3                  21.0                  21.0         0.0           1.0  ...   \n4                  21.0                  21.0         0.0           1.0  ...   \n\n   state_Texas  state_Utah  state_Vermont  state_Virginia  state_Washington  \\\n0        False       False          False           False             False   \n1        False       False          False           False             False   \n2        False       False          False           False             False   \n3        False       False          False           False             False   \n4        False       False          False           False             False   \n\n   state_West Virginia  state_Wisconsin  state_Wyoming       month_x   month_y  \n0                False            False          False  5.000000e-01 -0.866025  \n1                False            False          False  8.660254e-01 -0.500000  \n2                False            False          False -5.000000e-01  0.866025  \n3                False            False          False -8.660254e-01  0.500000  \n4                False            False          False  1.224647e-16 -1.000000  \n\n[5 rows x 77 columns]",
      "text/html": "<div>\n<style scoped>\n    .dataframe tbody tr th:only-of-type {\n        vertical-align: middle;\n    }\n\n    .dataframe tbody tr th {\n        vertical-align: top;\n    }\n\n    .dataframe thead th {\n        text-align: right;\n    }\n</style>\n<table border=\"1\" class=\"dataframe\">\n  <thead>\n    <tr style=\"text-align: right;\">\n      <th></th>\n      <th>date</th>\n      <th>year</th>\n      <th>city_or_county</th>\n      <th>latitude</th>\n      <th>longitude</th>\n      <th>min_age_participants</th>\n      <th>avg_age_participants</th>\n      <th>max_age_participants</th>\n      <th>teen_ratio</th>\n      <th>adults_ratio</th>\n      <th>...</th>\n      <th>state_Texas</th>\n      <th>state_Utah</th>\n      <th>state_Vermont</th>\n      <th>state_Virginia</th>\n      <th>state_Washington</th>\n      <th>state_West Virginia</th>\n      <th>state_Wisconsin</th>\n      <th>state_Wyoming</th>\n      <th>month_x</th>\n      <th>month_y</th>\n    </tr>\n  </thead>\n  <tbody>\n    <tr>\n      <th>0</th>\n      <td>729.0</td>\n      <td>2015.0</td>\n      <td>Indianapolis</td>\n      <td>39.8322</td>\n      <td>-86.2492</td>\n      <td>19.0</td>\n      <td>19.0</td>\n      <td>19.0</td>\n      <td>0.0</td>\n      <td>1.0</td>\n      <td>...</td>\n      <td>False</td>\n      <td>False</td>\n      <td>False</td>\n      <td>False</td>\n      <td>False</td>\n      <td>False</td>\n      <td>False</td>\n      <td>False</td>\n      <td>5.000000e-01</td>\n      <td>-0.866025</td>\n    </tr>\n    <tr>\n      <th>1</th>\n      <td>1459.0</td>\n      <td>2017.0</td>\n      <td>Kane</td>\n      <td>41.6645</td>\n      <td>-78.7856</td>\n      <td>62.0</td>\n      <td>62.0</td>\n      <td>62.0</td>\n      <td>0.0</td>\n      <td>1.0</td>\n      <td>...</td>\n      <td>False</td>\n      <td>False</td>\n      <td>False</td>\n      <td>False</td>\n      <td>False</td>\n      <td>False</td>\n      <td>False</td>\n      <td>False</td>\n      <td>8.660254e-01</td>\n      <td>-0.500000</td>\n    </tr>\n    <tr>\n      <th>2</th>\n      <td>1404.0</td>\n      <td>2016.0</td>\n      <td>Detroit</td>\n      <td>42.4190</td>\n      <td>-83.0393</td>\n      <td>19.0</td>\n      <td>19.0</td>\n      <td>19.0</td>\n      <td>0.0</td>\n      <td>1.0</td>\n      <td>...</td>\n      <td>False</td>\n      <td>False</td>\n      <td>False</td>\n      <td>False</td>\n      <td>False</td>\n      <td>False</td>\n      <td>False</td>\n      <td>False</td>\n      <td>-5.000000e-01</td>\n      <td>0.866025</td>\n    </tr>\n    <tr>\n      <th>3</th>\n      <td>1383.0</td>\n      <td>2016.0</td>\n      <td>Washington</td>\n      <td>38.9030</td>\n      <td>-76.9820</td>\n      <td>21.0</td>\n      <td>21.0</td>\n      <td>21.0</td>\n      <td>0.0</td>\n      <td>1.0</td>\n      <td>...</td>\n      <td>False</td>\n      <td>False</td>\n      <td>False</td>\n      <td>False</td>\n      <td>False</td>\n      <td>False</td>\n      <td>False</td>\n      <td>False</td>\n      <td>-8.660254e-01</td>\n      <td>0.500000</td>\n    </tr>\n    <tr>\n      <th>4</th>\n      <td>894.0</td>\n      <td>2015.0</td>\n      <td>Pittsburgh</td>\n      <td>40.4621</td>\n      <td>-80.0308</td>\n      <td>21.0</td>\n      <td>21.0</td>\n      <td>21.0</td>\n      <td>0.0</td>\n      <td>1.0</td>\n      <td>...</td>\n      <td>False</td>\n      <td>False</td>\n      <td>False</td>\n      <td>False</td>\n      <td>False</td>\n      <td>False</td>\n      <td>False</td>\n      <td>False</td>\n      <td>1.224647e-16</td>\n      <td>-1.000000</td>\n    </tr>\n  </tbody>\n</table>\n<p>5 rows × 77 columns</p>\n</div>"
     },
     "execution_count": 19,
     "metadata": {},
     "output_type": "execute_result"
    }
   ],
   "source": [
    "original_dataset = pd.read_csv(\"data/final_dataset.csv\")\n",
    "original_dataset.head()"
   ],
   "metadata": {
    "collapsed": false,
    "ExecuteTime": {
     "end_time": "2024-01-05T23:50:22.912513406Z",
     "start_time": "2024-01-05T23:50:21.378817725Z"
    }
   },
   "id": "bc71424a692c1b36",
   "execution_count": 19
  },
  {
   "cell_type": "code",
   "outputs": [
    {
     "data": {
      "text/plain": "     date    year  latitude  longitude  teen_ratio  adults_ratio  males_ratio  \\\n0   729.0  2015.0   39.8322   -86.2492         0.0           1.0          1.0   \n1  1459.0  2017.0   41.6645   -78.7856         0.0           1.0          1.0   \n2  1404.0  2016.0   42.4190   -83.0393         0.0           1.0          1.0   \n3  1383.0  2016.0   38.9030   -76.9820         0.0           1.0          1.0   \n4   894.0  2015.0   40.4621   -80.0308         0.0           1.0          1.0   \n\n   killed_ratio  injured_ratio  arrested_ratio  n_participants  \\\n0           0.0            1.0             0.0             1.0   \n1           1.0            0.0             0.0             1.0   \n2           0.0            0.5             0.0             2.0   \n3           0.0            1.0             0.0             2.0   \n4           0.0            0.5             0.0             2.0   \n\n   povertyPercentage  party  totalvotes  republicans_ratio  democrats_ratio  \\\n0               12.3      0    112261.0           0.452677         0.547323   \n1               10.5      1    307843.0           0.671644         0.328356   \n2               11.0      0    310974.0           0.214934         0.785066   \n3               14.9      1    296385.0           0.691398         0.308602   \n4               11.5      0    148351.0           0.000000         1.000000   \n\n   state_population  populous_city       month_x   month_y  \n0           6611442              0  5.000000e-01 -0.866025  \n1          12794679              0  8.660254e-01 -0.500000  \n2           9954117              0 -5.000000e-01  0.866025  \n3            687576              0 -8.660254e-01  0.500000  \n4          12789838              0  1.224647e-16 -1.000000  ",
      "text/html": "<div>\n<style scoped>\n    .dataframe tbody tr th:only-of-type {\n        vertical-align: middle;\n    }\n\n    .dataframe tbody tr th {\n        vertical-align: top;\n    }\n\n    .dataframe thead th {\n        text-align: right;\n    }\n</style>\n<table border=\"1\" class=\"dataframe\">\n  <thead>\n    <tr style=\"text-align: right;\">\n      <th></th>\n      <th>date</th>\n      <th>year</th>\n      <th>latitude</th>\n      <th>longitude</th>\n      <th>teen_ratio</th>\n      <th>adults_ratio</th>\n      <th>males_ratio</th>\n      <th>killed_ratio</th>\n      <th>injured_ratio</th>\n      <th>arrested_ratio</th>\n      <th>n_participants</th>\n      <th>povertyPercentage</th>\n      <th>party</th>\n      <th>totalvotes</th>\n      <th>republicans_ratio</th>\n      <th>democrats_ratio</th>\n      <th>state_population</th>\n      <th>populous_city</th>\n      <th>month_x</th>\n      <th>month_y</th>\n    </tr>\n  </thead>\n  <tbody>\n    <tr>\n      <th>0</th>\n      <td>729.0</td>\n      <td>2015.0</td>\n      <td>39.8322</td>\n      <td>-86.2492</td>\n      <td>0.0</td>\n      <td>1.0</td>\n      <td>1.0</td>\n      <td>0.0</td>\n      <td>1.0</td>\n      <td>0.0</td>\n      <td>1.0</td>\n      <td>12.3</td>\n      <td>0</td>\n      <td>112261.0</td>\n      <td>0.452677</td>\n      <td>0.547323</td>\n      <td>6611442</td>\n      <td>0</td>\n      <td>5.000000e-01</td>\n      <td>-0.866025</td>\n    </tr>\n    <tr>\n      <th>1</th>\n      <td>1459.0</td>\n      <td>2017.0</td>\n      <td>41.6645</td>\n      <td>-78.7856</td>\n      <td>0.0</td>\n      <td>1.0</td>\n      <td>1.0</td>\n      <td>1.0</td>\n      <td>0.0</td>\n      <td>0.0</td>\n      <td>1.0</td>\n      <td>10.5</td>\n      <td>1</td>\n      <td>307843.0</td>\n      <td>0.671644</td>\n      <td>0.328356</td>\n      <td>12794679</td>\n      <td>0</td>\n      <td>8.660254e-01</td>\n      <td>-0.500000</td>\n    </tr>\n    <tr>\n      <th>2</th>\n      <td>1404.0</td>\n      <td>2016.0</td>\n      <td>42.4190</td>\n      <td>-83.0393</td>\n      <td>0.0</td>\n      <td>1.0</td>\n      <td>1.0</td>\n      <td>0.0</td>\n      <td>0.5</td>\n      <td>0.0</td>\n      <td>2.0</td>\n      <td>11.0</td>\n      <td>0</td>\n      <td>310974.0</td>\n      <td>0.214934</td>\n      <td>0.785066</td>\n      <td>9954117</td>\n      <td>0</td>\n      <td>-5.000000e-01</td>\n      <td>0.866025</td>\n    </tr>\n    <tr>\n      <th>3</th>\n      <td>1383.0</td>\n      <td>2016.0</td>\n      <td>38.9030</td>\n      <td>-76.9820</td>\n      <td>0.0</td>\n      <td>1.0</td>\n      <td>1.0</td>\n      <td>0.0</td>\n      <td>1.0</td>\n      <td>0.0</td>\n      <td>2.0</td>\n      <td>14.9</td>\n      <td>1</td>\n      <td>296385.0</td>\n      <td>0.691398</td>\n      <td>0.308602</td>\n      <td>687576</td>\n      <td>0</td>\n      <td>-8.660254e-01</td>\n      <td>0.500000</td>\n    </tr>\n    <tr>\n      <th>4</th>\n      <td>894.0</td>\n      <td>2015.0</td>\n      <td>40.4621</td>\n      <td>-80.0308</td>\n      <td>0.0</td>\n      <td>1.0</td>\n      <td>1.0</td>\n      <td>0.0</td>\n      <td>0.5</td>\n      <td>0.0</td>\n      <td>2.0</td>\n      <td>11.5</td>\n      <td>0</td>\n      <td>148351.0</td>\n      <td>0.000000</td>\n      <td>1.000000</td>\n      <td>12789838</td>\n      <td>0</td>\n      <td>1.224647e-16</td>\n      <td>-1.000000</td>\n    </tr>\n  </tbody>\n</table>\n</div>"
     },
     "execution_count": 20,
     "metadata": {},
     "output_type": "execute_result"
    }
   ],
   "source": [
    "state_cols = [n for n in original_dataset.columns if n.startswith('state')]\n",
    "state_cols.remove('state_population')\n",
    "\n",
    "original_dataset = original_dataset.drop(columns=state_cols)\n",
    "original_dataset = original_dataset.drop(columns=['city_or_county', 'min_age_participants', 'avg_age_participants', 'max_age_participants', 'unharmed_ratio', 'dead/murder/suicide'])\n",
    "\n",
    "original_dataset.head()"
   ],
   "metadata": {
    "collapsed": false,
    "ExecuteTime": {
     "end_time": "2024-01-05T23:50:23.697064896Z",
     "start_time": "2024-01-05T23:50:23.625245397Z"
    }
   },
   "id": "ec0c66ec53f9884b",
   "execution_count": 20
  },
  {
   "cell_type": "code",
   "outputs": [],
   "source": [
    "labels = original_dataset.pop('killed_ratio')\n",
    "labels = (labels.to_numpy() > 0).astype('int')"
   ],
   "metadata": {
    "collapsed": false,
    "ExecuteTime": {
     "end_time": "2024-01-05T23:50:26.393585165Z",
     "start_time": "2024-01-05T23:50:26.316824572Z"
    }
   },
   "id": "49b7b35fc10c4489",
   "execution_count": 21
  },
  {
   "cell_type": "code",
   "outputs": [
    {
     "name": "stdout",
     "output_type": "stream",
     "text": [
      "[181421  57960]\n",
      "0.7578755206135825\n"
     ]
    }
   ],
   "source": [
    "_, count = np.unique(labels, return_counts=True)\n",
    "print(count)\n",
    "print(count[0] / (count[0] + count[1]))"
   ],
   "metadata": {
    "collapsed": false,
    "ExecuteTime": {
     "end_time": "2024-01-05T23:50:27.118849666Z",
     "start_time": "2024-01-05T23:50:27.041098994Z"
    }
   },
   "id": "b2526f42bdc1d92d",
   "execution_count": 22
  },
  {
   "cell_type": "code",
   "outputs": [
    {
     "data": {
      "text/plain": "array([[-0.98813652, -0.57958268,  0.44285341, ...,  0.        ,\n         0.68989202, -1.22704931],\n       [ 0.65869655,  1.04955081,  0.79973844, ...,  0.        ,\n         1.20385901, -0.7056087 ],\n       [ 0.53462008,  0.23498407,  0.94669568, ...,  0.        ,\n        -0.71429189,  1.24043416],\n       ...,\n       [ 1.17756176,  1.04955081, -0.4787214 , ...,  0.        ,\n        -1.22825888, -0.7056087 ],\n       [ 0.19397379,  0.23498407,  0.24669617, ...,  0.        ,\n        -0.01219994, -1.41790982],\n       [ 0.20525347,  0.23498407,  0.44571659, ...,  0.        ,\n        -0.01219994, -1.41790982]])"
     },
     "execution_count": 23,
     "metadata": {},
     "output_type": "execute_result"
    }
   ],
   "source": [
    "scaled_dataset = pd.DataFrame.copy(original_dataset).to_numpy()\n",
    "\n",
    "scaler = StandardScaler()\n",
    "scaled_dataset = scaler.fit_transform(scaled_dataset)\n",
    "scaled_dataset"
   ],
   "metadata": {
    "collapsed": false,
    "ExecuteTime": {
     "end_time": "2024-01-05T23:50:28.314603508Z",
     "start_time": "2024-01-05T23:50:28.201408885Z"
    }
   },
   "id": "4d2dd39c8a08a1e5",
   "execution_count": 23
  },
  {
   "cell_type": "markdown",
   "source": [
    "# 2 Utilities for measuring metrics scores"
   ],
   "metadata": {
    "collapsed": false
   },
   "id": "57639b80a1ab2b5f"
  },
  {
   "cell_type": "code",
   "outputs": [],
   "source": [
    "def report_metrics_best_estimator(train_label, train_pred, test_label, test_pred):\n",
    "    print('Accuracy train set ', accuracy_score(train_label, train_pred))\n",
    "    print('Accuracy test set ', accuracy_score(test_label, test_pred))\n",
    "    print('Precision train set ', precision_score(train_label, train_pred, average='weighted'))\n",
    "    print('Precision test set ', precision_score(test_label, test_pred, average='weighted'))\n",
    "    print('Recall train set ', recall_score(train_label, train_pred, average='weighted'))\n",
    "    print('Recall test set ', recall_score(test_label, test_pred, average='weighted'))\n",
    "    print('F1 score train set ', f1_score(train_label, train_pred, average='weighted'))\n",
    "    print('F1 score test set ', f1_score(test_label, test_pred, average='weighted'))\n",
    "    print('Support train set ', precision_recall_fscore_support(train_label, train_pred))\n",
    "    print('Support test set ', precision_recall_fscore_support(test_label, test_pred))"
   ],
   "metadata": {
    "collapsed": false,
    "ExecuteTime": {
     "end_time": "2024-01-05T23:50:29.713898438Z",
     "start_time": "2024-01-05T23:50:29.657233020Z"
    }
   },
   "id": "ccb09c86c5b09ce0",
   "execution_count": 24
  },
  {
   "cell_type": "code",
   "outputs": [],
   "source": [
    "def report_scores(test_label, test_pred):\n",
    "    print(classification_report(test_label,\n",
    "                                test_pred,\n",
    "                                target_names=['No Killed', 'Killed']))"
   ],
   "metadata": {
    "collapsed": false,
    "ExecuteTime": {
     "end_time": "2024-01-05T23:50:30.135832996Z",
     "start_time": "2024-01-05T23:50:30.129080402Z"
    }
   },
   "id": "b2c5a96648b6d0b7",
   "execution_count": 25
  },
  {
   "cell_type": "code",
   "outputs": [],
   "source": [
    "def report_confusion_matrix(test_label, test_pred):\n",
    "    cm = confusion_matrix(test_label, test_pred)\n",
    "    disp = ConfusionMatrixDisplay(confusion_matrix=cm, display_labels=['No Killed', 'Killed'])\n",
    "    disp.plot()\n",
    "    plt.show()"
   ],
   "metadata": {
    "collapsed": false,
    "ExecuteTime": {
     "end_time": "2024-01-05T23:50:30.431881903Z",
     "start_time": "2024-01-05T23:50:30.344871982Z"
    }
   },
   "id": "6860f1bd9bddaa5d",
   "execution_count": 26
  },
  {
   "cell_type": "markdown",
   "source": [
    "# 3 Decision Tree"
   ],
   "metadata": {
    "collapsed": false
   },
   "id": "a3c1f7f4d3ca32f0"
  },
  {
   "cell_type": "code",
   "outputs": [],
   "source": [
    "train_set, test_set, train_label, test_label = train_test_split(original_dataset, labels, stratify=labels, test_size=0.20)\n",
    "\n",
    "undersample = RandomUnderSampler(sampling_strategy='majority')\n",
    "train_set, train_label = undersample.fit_resample(train_set, train_label)"
   ],
   "metadata": {
    "collapsed": false,
    "ExecuteTime": {
     "end_time": "2024-01-05T23:50:31.522853153Z",
     "start_time": "2024-01-05T23:50:31.337088512Z"
    }
   },
   "id": "1ba8d2e1694ac15b",
   "execution_count": 27
  },
  {
   "cell_type": "code",
   "outputs": [
    {
     "data": {
      "text/plain": "RandomizedSearchCV(estimator=DecisionTreeClassifier(), n_iter=20, n_jobs=-1,\n                   param_distributions={'criterion': ['gini', 'entropy'],\n                                        'max_depth': [3, 5, 7, 10, None],\n                                        'min_samples_leaf': <scipy.stats._distn_infrastructure.rv_discrete_frozen object at 0x7f340c83db70>,\n                                        'min_samples_split': <scipy.stats._distn_infrastructure.rv_discrete_frozen object at 0x7f340c83d630>},\n                   scoring=make_scorer(accuracy_score))",
      "text/html": "<style>#sk-container-id-2 {color: black;}#sk-container-id-2 pre{padding: 0;}#sk-container-id-2 div.sk-toggleable {background-color: white;}#sk-container-id-2 label.sk-toggleable__label {cursor: pointer;display: block;width: 100%;margin-bottom: 0;padding: 0.3em;box-sizing: border-box;text-align: center;}#sk-container-id-2 label.sk-toggleable__label-arrow:before {content: \"▸\";float: left;margin-right: 0.25em;color: #696969;}#sk-container-id-2 label.sk-toggleable__label-arrow:hover:before {color: black;}#sk-container-id-2 div.sk-estimator:hover label.sk-toggleable__label-arrow:before {color: black;}#sk-container-id-2 div.sk-toggleable__content {max-height: 0;max-width: 0;overflow: hidden;text-align: left;background-color: #f0f8ff;}#sk-container-id-2 div.sk-toggleable__content pre {margin: 0.2em;color: black;border-radius: 0.25em;background-color: #f0f8ff;}#sk-container-id-2 input.sk-toggleable__control:checked~div.sk-toggleable__content {max-height: 200px;max-width: 100%;overflow: auto;}#sk-container-id-2 input.sk-toggleable__control:checked~label.sk-toggleable__label-arrow:before {content: \"▾\";}#sk-container-id-2 div.sk-estimator input.sk-toggleable__control:checked~label.sk-toggleable__label {background-color: #d4ebff;}#sk-container-id-2 div.sk-label input.sk-toggleable__control:checked~label.sk-toggleable__label {background-color: #d4ebff;}#sk-container-id-2 input.sk-hidden--visually {border: 0;clip: rect(1px 1px 1px 1px);clip: rect(1px, 1px, 1px, 1px);height: 1px;margin: -1px;overflow: hidden;padding: 0;position: absolute;width: 1px;}#sk-container-id-2 div.sk-estimator {font-family: monospace;background-color: #f0f8ff;border: 1px dotted black;border-radius: 0.25em;box-sizing: border-box;margin-bottom: 0.5em;}#sk-container-id-2 div.sk-estimator:hover {background-color: #d4ebff;}#sk-container-id-2 div.sk-parallel-item::after {content: \"\";width: 100%;border-bottom: 1px solid gray;flex-grow: 1;}#sk-container-id-2 div.sk-label:hover label.sk-toggleable__label {background-color: #d4ebff;}#sk-container-id-2 div.sk-serial::before {content: \"\";position: absolute;border-left: 1px solid gray;box-sizing: border-box;top: 0;bottom: 0;left: 50%;z-index: 0;}#sk-container-id-2 div.sk-serial {display: flex;flex-direction: column;align-items: center;background-color: white;padding-right: 0.2em;padding-left: 0.2em;position: relative;}#sk-container-id-2 div.sk-item {position: relative;z-index: 1;}#sk-container-id-2 div.sk-parallel {display: flex;align-items: stretch;justify-content: center;background-color: white;position: relative;}#sk-container-id-2 div.sk-item::before, #sk-container-id-2 div.sk-parallel-item::before {content: \"\";position: absolute;border-left: 1px solid gray;box-sizing: border-box;top: 0;bottom: 0;left: 50%;z-index: -1;}#sk-container-id-2 div.sk-parallel-item {display: flex;flex-direction: column;z-index: 1;position: relative;background-color: white;}#sk-container-id-2 div.sk-parallel-item:first-child::after {align-self: flex-end;width: 50%;}#sk-container-id-2 div.sk-parallel-item:last-child::after {align-self: flex-start;width: 50%;}#sk-container-id-2 div.sk-parallel-item:only-child::after {width: 0;}#sk-container-id-2 div.sk-dashed-wrapped {border: 1px dashed gray;margin: 0 0.4em 0.5em 0.4em;box-sizing: border-box;padding-bottom: 0.4em;background-color: white;}#sk-container-id-2 div.sk-label label {font-family: monospace;font-weight: bold;display: inline-block;line-height: 1.2em;}#sk-container-id-2 div.sk-label-container {text-align: center;}#sk-container-id-2 div.sk-container {/* jupyter's `normalize.less` sets `[hidden] { display: none; }` but bootstrap.min.css set `[hidden] { display: none !important; }` so we also need the `!important` here to be able to override the default hidden behavior on the sphinx rendered scikit-learn.org. See: https://github.com/scikit-learn/scikit-learn/issues/21755 */display: inline-block !important;position: relative;}#sk-container-id-2 div.sk-text-repr-fallback {display: none;}</style><div id=\"sk-container-id-2\" class=\"sk-top-container\"><div class=\"sk-text-repr-fallback\"><pre>RandomizedSearchCV(estimator=DecisionTreeClassifier(), n_iter=20, n_jobs=-1,\n                   param_distributions={&#x27;criterion&#x27;: [&#x27;gini&#x27;, &#x27;entropy&#x27;],\n                                        &#x27;max_depth&#x27;: [3, 5, 7, 10, None],\n                                        &#x27;min_samples_leaf&#x27;: &lt;scipy.stats._distn_infrastructure.rv_discrete_frozen object at 0x7f340c83db70&gt;,\n                                        &#x27;min_samples_split&#x27;: &lt;scipy.stats._distn_infrastructure.rv_discrete_frozen object at 0x7f340c83d630&gt;},\n                   scoring=make_scorer(accuracy_score))</pre><b>In a Jupyter environment, please rerun this cell to show the HTML representation or trust the notebook. <br />On GitHub, the HTML representation is unable to render, please try loading this page with nbviewer.org.</b></div><div class=\"sk-container\" hidden><div class=\"sk-item sk-dashed-wrapped\"><div class=\"sk-label-container\"><div class=\"sk-label sk-toggleable\"><input class=\"sk-toggleable__control sk-hidden--visually\" id=\"sk-estimator-id-4\" type=\"checkbox\" ><label for=\"sk-estimator-id-4\" class=\"sk-toggleable__label sk-toggleable__label-arrow\">RandomizedSearchCV</label><div class=\"sk-toggleable__content\"><pre>RandomizedSearchCV(estimator=DecisionTreeClassifier(), n_iter=20, n_jobs=-1,\n                   param_distributions={&#x27;criterion&#x27;: [&#x27;gini&#x27;, &#x27;entropy&#x27;],\n                                        &#x27;max_depth&#x27;: [3, 5, 7, 10, None],\n                                        &#x27;min_samples_leaf&#x27;: &lt;scipy.stats._distn_infrastructure.rv_discrete_frozen object at 0x7f340c83db70&gt;,\n                                        &#x27;min_samples_split&#x27;: &lt;scipy.stats._distn_infrastructure.rv_discrete_frozen object at 0x7f340c83d630&gt;},\n                   scoring=make_scorer(accuracy_score))</pre></div></div></div><div class=\"sk-parallel\"><div class=\"sk-parallel-item\"><div class=\"sk-item\"><div class=\"sk-label-container\"><div class=\"sk-label sk-toggleable\"><input class=\"sk-toggleable__control sk-hidden--visually\" id=\"sk-estimator-id-5\" type=\"checkbox\" ><label for=\"sk-estimator-id-5\" class=\"sk-toggleable__label sk-toggleable__label-arrow\">estimator: DecisionTreeClassifier</label><div class=\"sk-toggleable__content\"><pre>DecisionTreeClassifier()</pre></div></div></div><div class=\"sk-serial\"><div class=\"sk-item\"><div class=\"sk-estimator sk-toggleable\"><input class=\"sk-toggleable__control sk-hidden--visually\" id=\"sk-estimator-id-6\" type=\"checkbox\" ><label for=\"sk-estimator-id-6\" class=\"sk-toggleable__label sk-toggleable__label-arrow\">DecisionTreeClassifier</label><div class=\"sk-toggleable__content\"><pre>DecisionTreeClassifier()</pre></div></div></div></div></div></div></div></div></div></div>"
     },
     "execution_count": 28,
     "metadata": {},
     "output_type": "execute_result"
    }
   ],
   "source": [
    "decision_tree = DecisionTreeClassifier()\n",
    "param_dist = { \"criterion\": [\"gini\", \"entropy\"],\n",
    "               \"max_depth\": [3, 5, 7, 10, None],\n",
    "               \"min_samples_split\": sp_randint(20, 51),\n",
    "               \"min_samples_leaf\": sp_randint(20, 51)}\n",
    "\n",
    "random_search = RandomizedSearchCV(decision_tree, \n",
    "                                   param_distributions=param_dist,\n",
    "                                   n_iter=20,\n",
    "                                   n_jobs=-1,\n",
    "                                   scoring=make_scorer(accuracy_score))\n",
    "\n",
    "random_search.fit(train_set, train_label)"
   ],
   "metadata": {
    "collapsed": false,
    "ExecuteTime": {
     "end_time": "2024-01-05T23:50:44.500135297Z",
     "start_time": "2024-01-05T23:50:32.309062149Z"
    }
   },
   "id": "bdeadde34790acba",
   "execution_count": 28
  },
  {
   "cell_type": "code",
   "outputs": [
    {
     "name": "stdout",
     "output_type": "stream",
     "text": [
      "Best setting parameters  {'criterion': 'gini', 'max_depth': 10, 'min_samples_leaf': 50, 'min_samples_split': 20}\n",
      "Mean and std of this setting  0.8322981712181441 0.002014919583647974\n"
     ]
    }
   ],
   "source": [
    "best_dt = random_search.best_estimator_\n",
    "best_dt_hp = random_search.cv_results_['params'][0]\n",
    "print('Best setting parameters ', best_dt_hp)\n",
    "print('Mean and std of this setting ', random_search.cv_results_['mean_test_score'][0],\n",
    "      random_search.cv_results_['std_test_score'][0])"
   ],
   "metadata": {
    "collapsed": false,
    "ExecuteTime": {
     "end_time": "2024-01-05T23:50:46.333963168Z",
     "start_time": "2024-01-05T23:50:46.227084344Z"
    }
   },
   "id": "356521ebdbf9d6e1",
   "execution_count": 29
  },
  {
   "cell_type": "code",
   "outputs": [],
   "source": [
    "train_pred = best_dt.predict(train_set)\n",
    "test_pred = best_dt.predict(test_set)"
   ],
   "metadata": {
    "collapsed": false,
    "ExecuteTime": {
     "end_time": "2024-01-05T23:50:53.548987570Z",
     "start_time": "2024-01-05T23:50:53.545069083Z"
    }
   },
   "id": "c0b1d680580865d4",
   "execution_count": 30
  },
  {
   "cell_type": "code",
   "outputs": [
    {
     "name": "stdout",
     "output_type": "stream",
     "text": [
      "Accuracy train set  0.8363095238095238\n",
      "Accuracy test set  0.7910896672723855\n",
      "Precision train set  0.8455138277668531\n",
      "Precision test set  0.862158507196535\n",
      "Recall train set  0.8363095238095238\n",
      "Recall test set  0.7910896672723855\n",
      "F1 score train set  0.8352120581049615\n",
      "F1 score test set  0.8049572153524388\n",
      "Support train set  (array([0.90190722, 0.78912044]), array([0.75470152, 0.91791753]), array([0.82176404, 0.84866007]), array([46368, 46368]))\n",
      "Support test set  (array([0.96490607, 0.54054054]), array([0.75168803, 0.91442374]), array([0.84505515, 0.67944363]), array([36285, 11592]))\n"
     ]
    }
   ],
   "source": [
    "report_metrics_best_estimator(train_label, train_pred, test_label, test_pred)"
   ],
   "metadata": {
    "collapsed": false,
    "ExecuteTime": {
     "end_time": "2024-01-05T23:50:55.011335411Z",
     "start_time": "2024-01-05T23:50:54.833923541Z"
    }
   },
   "id": "8c23de952a81a20",
   "execution_count": 31
  },
  {
   "cell_type": "code",
   "outputs": [
    {
     "name": "stdout",
     "output_type": "stream",
     "text": [
      "              precision    recall  f1-score   support\n",
      "\n",
      "   No Killed       0.96      0.75      0.85     36285\n",
      "      Killed       0.54      0.91      0.68     11592\n",
      "\n",
      "    accuracy                           0.79     47877\n",
      "   macro avg       0.75      0.83      0.76     47877\n",
      "weighted avg       0.86      0.79      0.80     47877\n"
     ]
    }
   ],
   "source": [
    "report_scores(test_label, test_pred)"
   ],
   "metadata": {
    "collapsed": false,
    "ExecuteTime": {
     "end_time": "2024-01-05T23:51:02.929825880Z",
     "start_time": "2024-01-05T23:51:02.857333251Z"
    }
   },
   "id": "b0cc3286a7855bc9",
   "execution_count": 32
  },
  {
   "cell_type": "code",
   "outputs": [
    {
     "data": {
      "text/plain": "<Figure size 640x480 with 2 Axes>",
      "image/png": "[encoded data removed]"
     },
     "metadata": {},
     "output_type": "display_data"
    }
   ],
   "source": [
    "report_confusion_matrix(test_label, test_pred)"
   ],
   "metadata": {
    "collapsed": false,
    "ExecuteTime": {
     "end_time": "2024-01-05T23:52:21.486409590Z",
     "start_time": "2024-01-05T23:52:21.131913352Z"
    }
   },
   "id": "879107eb41d6161c",
   "execution_count": 33
  },
  {
   "cell_type": "markdown",
   "source": [
    "# 3 Random Forest"
   ],
   "metadata": {
    "collapsed": false
   },
   "id": "b0cf997e3af81818"
  },
  {
   "cell_type": "code",
   "outputs": [
    {
     "data": {
      "text/plain": "RandomizedSearchCV(estimator=RandomForestClassifier(n_estimators=10), n_jobs=-1,\n                   param_distributions={'bootstrap': [True, False],\n                                        'criterion': ['entropy', 'gini'],\n                                        'max_depth': [3, 5, 7, 10, None],\n                                        'max_features': <scipy.stats._distn_infrastructure.rv_discrete_frozen object at 0x7f34040f54b0>,\n                                        'min_samples_leaf': <scipy.stats._distn_infrastructure.rv_discrete_frozen object at 0x7f34040f7bb0>,\n                                        'min_samples_split': <scipy.stats._distn_infrastructure.rv_discrete_frozen object at 0x7f34040f6740>},\n                   scoring=make_scorer(accuracy_score))",
      "text/html": "<style>#sk-container-id-3 {color: black;}#sk-container-id-3 pre{padding: 0;}#sk-container-id-3 div.sk-toggleable {background-color: white;}#sk-container-id-3 label.sk-toggleable__label {cursor: pointer;display: block;width: 100%;margin-bottom: 0;padding: 0.3em;box-sizing: border-box;text-align: center;}#sk-container-id-3 label.sk-toggleable__label-arrow:before {content: \"▸\";float: left;margin-right: 0.25em;color: #696969;}#sk-container-id-3 label.sk-toggleable__label-arrow:hover:before {color: black;}#sk-container-id-3 div.sk-estimator:hover label.sk-toggleable__label-arrow:before {color: black;}#sk-container-id-3 div.sk-toggleable__content {max-height: 0;max-width: 0;overflow: hidden;text-align: left;background-color: #f0f8ff;}#sk-container-id-3 div.sk-toggleable__content pre {margin: 0.2em;color: black;border-radius: 0.25em;background-color: #f0f8ff;}#sk-container-id-3 input.sk-toggleable__control:checked~div.sk-toggleable__content {max-height: 200px;max-width: 100%;overflow: auto;}#sk-container-id-3 input.sk-toggleable__control:checked~label.sk-toggleable__label-arrow:before {content: \"▾\";}#sk-container-id-3 div.sk-estimator input.sk-toggleable__control:checked~label.sk-toggleable__label {background-color: #d4ebff;}#sk-container-id-3 div.sk-label input.sk-toggleable__control:checked~label.sk-toggleable__label {background-color: #d4ebff;}#sk-container-id-3 input.sk-hidden--visually {border: 0;clip: rect(1px 1px 1px 1px);clip: rect(1px, 1px, 1px, 1px);height: 1px;margin: -1px;overflow: hidden;padding: 0;position: absolute;width: 1px;}#sk-container-id-3 div.sk-estimator {font-family: monospace;background-color: #f0f8ff;border: 1px dotted black;border-radius: 0.25em;box-sizing: border-box;margin-bottom: 0.5em;}#sk-container-id-3 div.sk-estimator:hover {background-color: #d4ebff;}#sk-container-id-3 div.sk-parallel-item::after {content: \"\";width: 100%;border-bottom: 1px solid gray;flex-grow: 1;}#sk-container-id-3 div.sk-label:hover label.sk-toggleable__label {background-color: #d4ebff;}#sk-container-id-3 div.sk-serial::before {content: \"\";position: absolute;border-left: 1px solid gray;box-sizing: border-box;top: 0;bottom: 0;left: 50%;z-index: 0;}#sk-container-id-3 div.sk-serial {display: flex;flex-direction: column;align-items: center;background-color: white;padding-right: 0.2em;padding-left: 0.2em;position: relative;}#sk-container-id-3 div.sk-item {position: relative;z-index: 1;}#sk-container-id-3 div.sk-parallel {display: flex;align-items: stretch;justify-content: center;background-color: white;position: relative;}#sk-container-id-3 div.sk-item::before, #sk-container-id-3 div.sk-parallel-item::before {content: \"\";position: absolute;border-left: 1px solid gray;box-sizing: border-box;top: 0;bottom: 0;left: 50%;z-index: -1;}#sk-container-id-3 div.sk-parallel-item {display: flex;flex-direction: column;z-index: 1;position: relative;background-color: white;}#sk-container-id-3 div.sk-parallel-item:first-child::after {align-self: flex-end;width: 50%;}#sk-container-id-3 div.sk-parallel-item:last-child::after {align-self: flex-start;width: 50%;}#sk-container-id-3 div.sk-parallel-item:only-child::after {width: 0;}#sk-container-id-3 div.sk-dashed-wrapped {border: 1px dashed gray;margin: 0 0.4em 0.5em 0.4em;box-sizing: border-box;padding-bottom: 0.4em;background-color: white;}#sk-container-id-3 div.sk-label label {font-family: monospace;font-weight: bold;display: inline-block;line-height: 1.2em;}#sk-container-id-3 div.sk-label-container {text-align: center;}#sk-container-id-3 div.sk-container {/* jupyter's `normalize.less` sets `[hidden] { display: none; }` but bootstrap.min.css set `[hidden] { display: none !important; }` so we also need the `!important` here to be able to override the default hidden behavior on the sphinx rendered scikit-learn.org. See: https://github.com/scikit-learn/scikit-learn/issues/21755 */display: inline-block !important;position: relative;}#sk-container-id-3 div.sk-text-repr-fallback {display: none;}</style><div id=\"sk-container-id-3\" class=\"sk-top-container\"><div class=\"sk-text-repr-fallback\"><pre>RandomizedSearchCV(estimator=RandomForestClassifier(n_estimators=10), n_jobs=-1,\n                   param_distributions={&#x27;bootstrap&#x27;: [True, False],\n                                        &#x27;criterion&#x27;: [&#x27;entropy&#x27;, &#x27;gini&#x27;],\n                                        &#x27;max_depth&#x27;: [3, 5, 7, 10, None],\n                                        &#x27;max_features&#x27;: &lt;scipy.stats._distn_infrastructure.rv_discrete_frozen object at 0x7f34040f54b0&gt;,\n                                        &#x27;min_samples_leaf&#x27;: &lt;scipy.stats._distn_infrastructure.rv_discrete_frozen object at 0x7f34040f7bb0&gt;,\n                                        &#x27;min_samples_split&#x27;: &lt;scipy.stats._distn_infrastructure.rv_discrete_frozen object at 0x7f34040f6740&gt;},\n                   scoring=make_scorer(accuracy_score))</pre><b>In a Jupyter environment, please rerun this cell to show the HTML representation or trust the notebook. <br />On GitHub, the HTML representation is unable to render, please try loading this page with nbviewer.org.</b></div><div class=\"sk-container\" hidden><div class=\"sk-item sk-dashed-wrapped\"><div class=\"sk-label-container\"><div class=\"sk-label sk-toggleable\"><input class=\"sk-toggleable__control sk-hidden--visually\" id=\"sk-estimator-id-7\" type=\"checkbox\" ><label for=\"sk-estimator-id-7\" class=\"sk-toggleable__label sk-toggleable__label-arrow\">RandomizedSearchCV</label><div class=\"sk-toggleable__content\"><pre>RandomizedSearchCV(estimator=RandomForestClassifier(n_estimators=10), n_jobs=-1,\n                   param_distributions={&#x27;bootstrap&#x27;: [True, False],\n                                        &#x27;criterion&#x27;: [&#x27;entropy&#x27;, &#x27;gini&#x27;],\n                                        &#x27;max_depth&#x27;: [3, 5, 7, 10, None],\n                                        &#x27;max_features&#x27;: &lt;scipy.stats._distn_infrastructure.rv_discrete_frozen object at 0x7f34040f54b0&gt;,\n                                        &#x27;min_samples_leaf&#x27;: &lt;scipy.stats._distn_infrastructure.rv_discrete_frozen object at 0x7f34040f7bb0&gt;,\n                                        &#x27;min_samples_split&#x27;: &lt;scipy.stats._distn_infrastructure.rv_discrete_frozen object at 0x7f34040f6740&gt;},\n                   scoring=make_scorer(accuracy_score))</pre></div></div></div><div class=\"sk-parallel\"><div class=\"sk-parallel-item\"><div class=\"sk-item\"><div class=\"sk-label-container\"><div class=\"sk-label sk-toggleable\"><input class=\"sk-toggleable__control sk-hidden--visually\" id=\"sk-estimator-id-8\" type=\"checkbox\" ><label for=\"sk-estimator-id-8\" class=\"sk-toggleable__label sk-toggleable__label-arrow\">estimator: RandomForestClassifier</label><div class=\"sk-toggleable__content\"><pre>RandomForestClassifier(n_estimators=10)</pre></div></div></div><div class=\"sk-serial\"><div class=\"sk-item\"><div class=\"sk-estimator sk-toggleable\"><input class=\"sk-toggleable__control sk-hidden--visually\" id=\"sk-estimator-id-9\" type=\"checkbox\" ><label for=\"sk-estimator-id-9\" class=\"sk-toggleable__label sk-toggleable__label-arrow\">RandomForestClassifier</label><div class=\"sk-toggleable__content\"><pre>RandomForestClassifier(n_estimators=10)</pre></div></div></div></div></div></div></div></div></div></div>"
     },
     "execution_count": 34,
     "metadata": {},
     "output_type": "execute_result"
    }
   ],
   "source": [
    "random_forest = RandomForestClassifier(n_estimators=10)\n",
    "param_dist = {\"max_depth\": [3, 5, 7, 10, None],\n",
    "              \"max_features\": sp_randint(1, train_set.shape[0] + 1),\n",
    "              \"min_samples_split\": sp_randint(20, 51),\n",
    "              \"min_samples_leaf\": sp_randint(20, 51),\n",
    "              \"bootstrap\": [True, False],\n",
    "              \"criterion\": [\"entropy\", \"gini\"]}\n",
    "\n",
    "random_search = RandomizedSearchCV(random_forest, param_distributions=param_dist,\n",
    "                                 n_iter=10,\n",
    "                                 n_jobs=-1,\n",
    "                                 scoring=make_scorer(accuracy_score))\n",
    "\n",
    "random_search.fit(train_set, train_label)"
   ],
   "metadata": {
    "collapsed": false,
    "ExecuteTime": {
     "end_time": "2024-01-05T23:54:05.145018432Z",
     "start_time": "2024-01-05T23:53:02.986716704Z"
    }
   },
   "id": "56f8579eb1bd434e",
   "execution_count": 34
  },
  {
   "cell_type": "code",
   "outputs": [
    {
     "name": "stdout",
     "output_type": "stream",
     "text": [
      "Best setting parameters  {'bootstrap': False, 'criterion': 'entropy', 'max_depth': None, 'max_features': 82774, 'min_samples_leaf': 40, 'min_samples_split': 42}\n",
      "Mean and std of this setting  0.8291278576413397 0.001426585299715434\n"
     ]
    }
   ],
   "source": [
    "best_rf = random_search.best_estimator_\n",
    "best_rf_hp = random_search.cv_results_['params'][0]\n",
    "print('Best setting parameters ', best_rf_hp)\n",
    "print('Mean and std of this setting ', random_search.cv_results_['mean_test_score'][0],\n",
    "      random_search.cv_results_['std_test_score'][0])"
   ],
   "metadata": {
    "collapsed": false,
    "ExecuteTime": {
     "end_time": "2024-01-05T23:54:18.423580910Z",
     "start_time": "2024-01-05T23:54:18.353448966Z"
    }
   },
   "id": "b68cc22f7fd5ba93",
   "execution_count": 35
  },
  {
   "cell_type": "code",
   "outputs": [],
   "source": [
    "train_pred = best_rf.predict(train_set)\n",
    "test_pred = best_rf.predict(test_set)"
   ],
   "metadata": {
    "collapsed": false,
    "ExecuteTime": {
     "end_time": "2024-01-05T23:54:21.066608076Z",
     "start_time": "2024-01-05T23:54:20.893815903Z"
    }
   },
   "id": "df6cd5dfca27ce85",
   "execution_count": 36
  },
  {
   "cell_type": "code",
   "outputs": [
    {
     "name": "stdout",
     "output_type": "stream",
     "text": [
      "Accuracy train set  0.8535196687370601\n",
      "Accuracy test set  0.7996115044802306\n",
      "Precision train set  0.8615253860804661\n",
      "Precision test set  0.8646903006471884\n",
      "Recall train set  0.8535196687370601\n",
      "Recall test set  0.7996115044802306\n",
      "F1 score train set  0.8527042292465475\n",
      "F1 score test set  0.8125949147428545\n",
      "Support train set  (array([0.91532381, 0.80772697]), array([0.77911491, 0.92792443]), array([0.84174472, 0.86366374]), array([46368, 46368]))\n",
      "Support test set  (array([0.96453061, 0.55217255]), array([0.76367645, 0.91209455]), array([0.85243178, 0.6878985 ]), array([36285, 11592]))\n"
     ]
    }
   ],
   "source": [
    "report_metrics_best_estimator(train_label, train_pred, test_label, test_pred)"
   ],
   "metadata": {
    "collapsed": false,
    "ExecuteTime": {
     "end_time": "2024-01-05T23:54:21.879543422Z",
     "start_time": "2024-01-05T23:54:21.729276208Z"
    }
   },
   "id": "c9eedb1285c0c623",
   "execution_count": 37
  },
  {
   "cell_type": "code",
   "outputs": [
    {
     "name": "stdout",
     "output_type": "stream",
     "text": [
      "              precision    recall  f1-score   support\n",
      "\n",
      "   No Killed       0.96      0.76      0.85     36285\n",
      "      Killed       0.55      0.91      0.69     11592\n",
      "\n",
      "    accuracy                           0.80     47877\n",
      "   macro avg       0.76      0.84      0.77     47877\n",
      "weighted avg       0.86      0.80      0.81     47877\n"
     ]
    }
   ],
   "source": [
    "report_scores(test_label, test_pred)"
   ],
   "metadata": {
    "collapsed": false,
    "ExecuteTime": {
     "end_time": "2024-01-05T23:54:31.382967681Z",
     "start_time": "2024-01-05T23:54:31.314598045Z"
    }
   },
   "id": "6c40e7e53c94a791",
   "execution_count": 38
  },
  {
   "cell_type": "code",
   "outputs": [
    {
     "data": {
      "text/plain": "<Figure size 640x480 with 2 Axes>",
      "image/png": "[encoded data removed]"
     },
     "metadata": {},
     "output_type": "display_data"
    }
   ],
   "source": [
    "report_confusion_matrix(test_label, test_pred)"
   ],
   "metadata": {
    "collapsed": false,
    "ExecuteTime": {
     "end_time": "2024-01-05T23:54:36.546713206Z",
     "start_time": "2024-01-05T23:54:36.275354511Z"
    }
   },
   "id": "14d9c75470510a9f",
   "execution_count": 39
  },
  {
   "cell_type": "markdown",
   "source": [
    "# 4 RIPPER"
   ],
   "metadata": {
    "collapsed": false
   },
   "id": "766b6cf3937c770d"
  },
  {
   "cell_type": "code",
   "outputs": [
    {
     "data": {
      "text/plain": "GridSearchCV(estimator=<RIPPER(max_rules=None, dl_allowance=64, prune_size=0.33, n_discretize_bins=10, max_total_conds=None, max_rule_conds=None, k=2, alpha=1.0, random_state=None, verbosity=0)>,\n             n_jobs=-1,\n             param_grid={'k': [1, 3, 5], 'prune_size': [0.5, 0.6, 0.7]},\n             scoring=make_scorer(accuracy_score))",
      "text/html": "<style>#sk-container-id-4 {color: black;}#sk-container-id-4 pre{padding: 0;}#sk-container-id-4 div.sk-toggleable {background-color: white;}#sk-container-id-4 label.sk-toggleable__label {cursor: pointer;display: block;width: 100%;margin-bottom: 0;padding: 0.3em;box-sizing: border-box;text-align: center;}#sk-container-id-4 label.sk-toggleable__label-arrow:before {content: \"▸\";float: left;margin-right: 0.25em;color: #696969;}#sk-container-id-4 label.sk-toggleable__label-arrow:hover:before {color: black;}#sk-container-id-4 div.sk-estimator:hover label.sk-toggleable__label-arrow:before {color: black;}#sk-container-id-4 div.sk-toggleable__content {max-height: 0;max-width: 0;overflow: hidden;text-align: left;background-color: #f0f8ff;}#sk-container-id-4 div.sk-toggleable__content pre {margin: 0.2em;color: black;border-radius: 0.25em;background-color: #f0f8ff;}#sk-container-id-4 input.sk-toggleable__control:checked~div.sk-toggleable__content {max-height: 200px;max-width: 100%;overflow: auto;}#sk-container-id-4 input.sk-toggleable__control:checked~label.sk-toggleable__label-arrow:before {content: \"▾\";}#sk-container-id-4 div.sk-estimator input.sk-toggleable__control:checked~label.sk-toggleable__label {background-color: #d4ebff;}#sk-container-id-4 div.sk-label input.sk-toggleable__control:checked~label.sk-toggleable__label {background-color: #d4ebff;}#sk-container-id-4 input.sk-hidden--visually {border: 0;clip: rect(1px 1px 1px 1px);clip: rect(1px, 1px, 1px, 1px);height: 1px;margin: -1px;overflow: hidden;padding: 0;position: absolute;width: 1px;}#sk-container-id-4 div.sk-estimator {font-family: monospace;background-color: #f0f8ff;border: 1px dotted black;border-radius: 0.25em;box-sizing: border-box;margin-bottom: 0.5em;}#sk-container-id-4 div.sk-estimator:hover {background-color: #d4ebff;}#sk-container-id-4 div.sk-parallel-item::after {content: \"\";width: 100%;border-bottom: 1px solid gray;flex-grow: 1;}#sk-container-id-4 div.sk-label:hover label.sk-toggleable__label {background-color: #d4ebff;}#sk-container-id-4 div.sk-serial::before {content: \"\";position: absolute;border-left: 1px solid gray;box-sizing: border-box;top: 0;bottom: 0;left: 50%;z-index: 0;}#sk-container-id-4 div.sk-serial {display: flex;flex-direction: column;align-items: center;background-color: white;padding-right: 0.2em;padding-left: 0.2em;position: relative;}#sk-container-id-4 div.sk-item {position: relative;z-index: 1;}#sk-container-id-4 div.sk-parallel {display: flex;align-items: stretch;justify-content: center;background-color: white;position: relative;}#sk-container-id-4 div.sk-item::before, #sk-container-id-4 div.sk-parallel-item::before {content: \"\";position: absolute;border-left: 1px solid gray;box-sizing: border-box;top: 0;bottom: 0;left: 50%;z-index: -1;}#sk-container-id-4 div.sk-parallel-item {display: flex;flex-direction: column;z-index: 1;position: relative;background-color: white;}#sk-container-id-4 div.sk-parallel-item:first-child::after {align-self: flex-end;width: 50%;}#sk-container-id-4 div.sk-parallel-item:last-child::after {align-self: flex-start;width: 50%;}#sk-container-id-4 div.sk-parallel-item:only-child::after {width: 0;}#sk-container-id-4 div.sk-dashed-wrapped {border: 1px dashed gray;margin: 0 0.4em 0.5em 0.4em;box-sizing: border-box;padding-bottom: 0.4em;background-color: white;}#sk-container-id-4 div.sk-label label {font-family: monospace;font-weight: bold;display: inline-block;line-height: 1.2em;}#sk-container-id-4 div.sk-label-container {text-align: center;}#sk-container-id-4 div.sk-container {/* jupyter's `normalize.less` sets `[hidden] { display: none; }` but bootstrap.min.css set `[hidden] { display: none !important; }` so we also need the `!important` here to be able to override the default hidden behavior on the sphinx rendered scikit-learn.org. See: https://github.com/scikit-learn/scikit-learn/issues/21755 */display: inline-block !important;position: relative;}#sk-container-id-4 div.sk-text-repr-fallback {display: none;}</style><div id=\"sk-container-id-4\" class=\"sk-top-container\"><div class=\"sk-text-repr-fallback\"><pre>GridSearchCV(estimator=&lt;RIPPER(max_rules=None, dl_allowance=64, prune_size=0.33, n_discretize_bins=10, max_total_conds=None, max_rule_conds=None, k=2, alpha=1.0, random_state=None, verbosity=0)&gt;,\n             n_jobs=-1,\n             param_grid={&#x27;k&#x27;: [1, 3, 5], &#x27;prune_size&#x27;: [0.5, 0.6, 0.7]},\n             scoring=make_scorer(accuracy_score))</pre><b>In a Jupyter environment, please rerun this cell to show the HTML representation or trust the notebook. <br />On GitHub, the HTML representation is unable to render, please try loading this page with nbviewer.org.</b></div><div class=\"sk-container\" hidden><div class=\"sk-item sk-dashed-wrapped\"><div class=\"sk-label-container\"><div class=\"sk-label sk-toggleable\"><input class=\"sk-toggleable__control sk-hidden--visually\" id=\"sk-estimator-id-10\" type=\"checkbox\" ><label for=\"sk-estimator-id-10\" class=\"sk-toggleable__label sk-toggleable__label-arrow\">GridSearchCV</label><div class=\"sk-toggleable__content\"><pre>GridSearchCV(estimator=&lt;RIPPER(max_rules=None, dl_allowance=64, prune_size=0.33, n_discretize_bins=10, max_total_conds=None, max_rule_conds=None, k=2, alpha=1.0, random_state=None, verbosity=0)&gt;,\n             n_jobs=-1,\n             param_grid={&#x27;k&#x27;: [1, 3, 5], &#x27;prune_size&#x27;: [0.5, 0.6, 0.7]},\n             scoring=make_scorer(accuracy_score))</pre></div></div></div><div class=\"sk-parallel\"><div class=\"sk-parallel-item\"><div class=\"sk-item\"><div class=\"sk-label-container\"><div class=\"sk-label sk-toggleable\"><input class=\"sk-toggleable__control sk-hidden--visually\" id=\"sk-estimator-id-11\" type=\"checkbox\" ><label for=\"sk-estimator-id-11\" class=\"sk-toggleable__label sk-toggleable__label-arrow\">estimator: RIPPER</label><div class=\"sk-toggleable__content\"><pre>&lt;RIPPER(max_rules=None, dl_allowance=64, prune_size=0.33, n_discretize_bins=10, max_total_conds=None, max_rule_conds=None, k=2, alpha=1.0, random_state=None, verbosity=0)&gt;</pre></div></div></div><div class=\"sk-serial\"><div class=\"sk-item\"><div class=\"sk-estimator sk-toggleable\"><input class=\"sk-toggleable__control sk-hidden--visually\" id=\"sk-estimator-id-12\" type=\"checkbox\" ><label for=\"sk-estimator-id-12\" class=\"sk-toggleable__label sk-toggleable__label-arrow\">RIPPER</label><div class=\"sk-toggleable__content\"><pre>&lt;RIPPER(max_rules=None, dl_allowance=64, prune_size=0.33, n_discretize_bins=10, max_total_conds=None, max_rule_conds=None, k=2, alpha=1.0, random_state=None, verbosity=0)&gt;</pre></div></div></div></div></div></div></div></div></div></div>"
     },
     "execution_count": 65,
     "metadata": {},
     "output_type": "execute_result"
    }
   ],
   "source": [
    "ripper = RIPPER()\n",
    "param_dist = {\"prune_size\": [0.5, 0.6, 0.7], \"k\": [1, 3, 5]}\n",
    "\n",
    "grid_search = GridSearchCV(ripper, \n",
    "                           param_grid=param_dist,\n",
    "                           n_jobs=-1,\n",
    "                           scoring=make_scorer(accuracy_score))\n",
    "\n",
    "grid_search.fit(train_set, train_label)"
   ],
   "metadata": {
    "collapsed": false,
    "ExecuteTime": {
     "end_time": "2024-01-05T15:45:43.102405641Z",
     "start_time": "2024-01-05T15:33:26.799873392Z"
    }
   },
   "id": "1863d08d2b3d5409",
   "execution_count": 65
  },
  {
   "cell_type": "code",
   "outputs": [
    {
     "name": "stdout",
     "output_type": "stream",
     "text": [
      "Best setting parameters  {'k': 1, 'prune_size': 0.5}\n",
      "Mean and std of this setting  0.9522084019035786 0.0017607054479765653\n"
     ]
    }
   ],
   "source": [
    "best_ripper = grid_search.best_estimator_\n",
    "best_ripper_hp = grid_search.cv_results_['params'][0]\n",
    "print('Best setting parameters ', best_ripper_hp)\n",
    "print('Mean and std of this setting ', grid_search.cv_results_['mean_test_score'][0],\n",
    "      grid_search.cv_results_['std_test_score'][0])"
   ],
   "metadata": {
    "collapsed": false,
    "ExecuteTime": {
     "end_time": "2024-01-05T15:47:58.591438185Z",
     "start_time": "2024-01-05T15:47:58.523948746Z"
    }
   },
   "id": "785a039eabf490d7",
   "execution_count": 67
  },
  {
   "cell_type": "code",
   "outputs": [],
   "source": [
    "train_pred = best_ripper.predict(train_set)\n",
    "test_pred = best_ripper.predict(test_set)"
   ],
   "metadata": {
    "collapsed": false,
    "ExecuteTime": {
     "end_time": "2024-01-05T15:48:03.019219907Z",
     "start_time": "2024-01-05T15:48:00.347217416Z"
    }
   },
   "id": "b239ed2db5472b52",
   "execution_count": 68
  },
  {
   "cell_type": "code",
   "outputs": [
    {
     "name": "stdout",
     "output_type": "stream",
     "text": [
      "Accuracy train set  0.951529071773637\n",
      "Accuracy test set  0.9503968253968254\n",
      "Precision train set  0.9549572678141443\n",
      "Precision test set  0.9539530477944085\n",
      "Recall train set  0.951529071773637\n",
      "Recall test set  0.9503968253968254\n",
      "F1 score train set  0.9514375898510655\n",
      "F1 score test set  0.9502994881974705\n",
      "Support train set  (array([0.91546445, 0.99445009]), array([0.99493185, 0.90812629]), array([0.95354533, 0.94932985]), array([46368, 46368]))\n",
      "Support test set  (array([0.91377397, 0.99413212]), array([0.99465148, 0.90614217]), array([0.95249897, 0.94810001]), array([11592, 11592]))\n"
     ]
    }
   ],
   "source": [
    "report_metrics_best_estimator(train_label, train_pred, test_label, test_pred)"
   ],
   "metadata": {
    "collapsed": false,
    "ExecuteTime": {
     "end_time": "2024-01-05T15:48:04.843322562Z",
     "start_time": "2024-01-05T15:48:04.510810391Z"
    }
   },
   "id": "2c3ea1020dc00ee",
   "execution_count": 69
  },
  {
   "cell_type": "code",
   "outputs": [
    {
     "name": "stdout",
     "output_type": "stream",
     "text": [
      "              precision    recall  f1-score   support\n",
      "\n",
      "   No Killed       0.91      0.99      0.95     11592\n",
      "      Killed       0.99      0.91      0.95     11592\n",
      "\n",
      "    accuracy                           0.95     23184\n",
      "   macro avg       0.95      0.95      0.95     23184\n",
      "weighted avg       0.95      0.95      0.95     23184\n"
     ]
    }
   ],
   "source": [
    "report_scores(test_label, test_pred)"
   ],
   "metadata": {
    "collapsed": false,
    "ExecuteTime": {
     "end_time": "2024-01-05T15:48:04.961388547Z",
     "start_time": "2024-01-05T15:48:04.957132780Z"
    }
   },
   "id": "ac8ebb5699c606c4",
   "execution_count": 70
  },
  {
   "cell_type": "code",
   "outputs": [
    {
     "data": {
      "text/plain": "<Figure size 640x480 with 2 Axes>",
      "image/png": "[encoded data removed]"
     },
     "metadata": {},
     "output_type": "display_data"
    }
   ],
   "source": [
    "report_confusion_matrix(test_label, test_pred)"
   ],
   "metadata": {
    "collapsed": false,
    "ExecuteTime": {
     "end_time": "2024-01-05T15:48:13.921075191Z",
     "start_time": "2024-01-05T15:48:13.704587038Z"
    }
   },
   "id": "3f729f3256239b6a",
   "execution_count": 71
  },
  {
   "cell_type": "markdown",
   "source": [
    "# 5 K-nn"
   ],
   "metadata": {
    "collapsed": false
   },
   "id": "de0041555fd7dc4"
  },
  {
   "cell_type": "code",
   "outputs": [],
   "source": [
    "train_set, test_set, train_label, test_label = train_test_split(scaled_dataset, labels, stratify=labels, test_size=0.20)\n",
    "\n",
    "undersample = RandomUnderSampler(sampling_strategy='majority')\n",
    "train_set, train_label = undersample.fit_resample(train_set, train_label)"
   ],
   "metadata": {
    "collapsed": false,
    "ExecuteTime": {
     "end_time": "2024-01-05T23:55:35.118417050Z",
     "start_time": "2024-01-05T23:55:34.976255373Z"
    }
   },
   "id": "3c9115e07ae24fa8",
   "execution_count": 40
  },
  {
   "cell_type": "code",
   "outputs": [
    {
     "ename": "KeyboardInterrupt",
     "evalue": "",
     "output_type": "error",
     "traceback": [
      "\u001B[0;31m---------------------------------------------------------------------------\u001B[0m",
      "\u001B[0;31mKeyboardInterrupt\u001B[0m                         Traceback (most recent call last)",
      "Cell \u001B[0;32mIn[41], line 8\u001B[0m\n\u001B[1;32m      2\u001B[0m param_dist \u001B[38;5;241m=\u001B[39m {\u001B[38;5;124m\"\u001B[39m\u001B[38;5;124mn_neighbors\u001B[39m\u001B[38;5;124m\"\u001B[39m: [\u001B[38;5;241m1\u001B[39m, \u001B[38;5;241m3\u001B[39m, \u001B[38;5;241m5\u001B[39m, \u001B[38;5;241m10\u001B[39m, \u001B[38;5;241m20\u001B[39m]}\n\u001B[1;32m      4\u001B[0m grid_search \u001B[38;5;241m=\u001B[39m GridSearchCV(knn, param_grid\u001B[38;5;241m=\u001B[39mparam_dist,\n\u001B[1;32m      5\u001B[0m                                  n_jobs\u001B[38;5;241m=\u001B[39m\u001B[38;5;241m-\u001B[39m\u001B[38;5;241m1\u001B[39m,\n\u001B[1;32m      6\u001B[0m                                  scoring\u001B[38;5;241m=\u001B[39mmake_scorer(accuracy_score))\n\u001B[0;32m----> 8\u001B[0m \u001B[43mgrid_search\u001B[49m\u001B[38;5;241;43m.\u001B[39;49m\u001B[43mfit\u001B[49m\u001B[43m(\u001B[49m\u001B[43mtrain_set\u001B[49m\u001B[43m,\u001B[49m\u001B[43m \u001B[49m\u001B[43mtrain_label\u001B[49m\u001B[43m)\u001B[49m\n",
      "File \u001B[0;32m~/uni/DM/DataMiningProject/venv/lib/python3.10/site-packages/sklearn/base.py:1152\u001B[0m, in \u001B[0;36m_fit_context.<locals>.decorator.<locals>.wrapper\u001B[0;34m(estimator, *args, **kwargs)\u001B[0m\n\u001B[1;32m   1145\u001B[0m     estimator\u001B[38;5;241m.\u001B[39m_validate_params()\n\u001B[1;32m   1147\u001B[0m \u001B[38;5;28;01mwith\u001B[39;00m config_context(\n\u001B[1;32m   1148\u001B[0m     skip_parameter_validation\u001B[38;5;241m=\u001B[39m(\n\u001B[1;32m   1149\u001B[0m         prefer_skip_nested_validation \u001B[38;5;129;01mor\u001B[39;00m global_skip_validation\n\u001B[1;32m   1150\u001B[0m     )\n\u001B[1;32m   1151\u001B[0m ):\n\u001B[0;32m-> 1152\u001B[0m     \u001B[38;5;28;01mreturn\u001B[39;00m \u001B[43mfit_method\u001B[49m\u001B[43m(\u001B[49m\u001B[43mestimator\u001B[49m\u001B[43m,\u001B[49m\u001B[43m \u001B[49m\u001B[38;5;241;43m*\u001B[39;49m\u001B[43margs\u001B[49m\u001B[43m,\u001B[49m\u001B[43m \u001B[49m\u001B[38;5;241;43m*\u001B[39;49m\u001B[38;5;241;43m*\u001B[39;49m\u001B[43mkwargs\u001B[49m\u001B[43m)\u001B[49m\n",
      "File \u001B[0;32m~/uni/DM/DataMiningProject/venv/lib/python3.10/site-packages/sklearn/model_selection/_search.py:898\u001B[0m, in \u001B[0;36mBaseSearchCV.fit\u001B[0;34m(self, X, y, groups, **fit_params)\u001B[0m\n\u001B[1;32m    892\u001B[0m     results \u001B[38;5;241m=\u001B[39m \u001B[38;5;28mself\u001B[39m\u001B[38;5;241m.\u001B[39m_format_results(\n\u001B[1;32m    893\u001B[0m         all_candidate_params, n_splits, all_out, all_more_results\n\u001B[1;32m    894\u001B[0m     )\n\u001B[1;32m    896\u001B[0m     \u001B[38;5;28;01mreturn\u001B[39;00m results\n\u001B[0;32m--> 898\u001B[0m \u001B[38;5;28;43mself\u001B[39;49m\u001B[38;5;241;43m.\u001B[39;49m\u001B[43m_run_search\u001B[49m\u001B[43m(\u001B[49m\u001B[43mevaluate_candidates\u001B[49m\u001B[43m)\u001B[49m\n\u001B[1;32m    900\u001B[0m \u001B[38;5;66;03m# multimetric is determined here because in the case of a callable\u001B[39;00m\n\u001B[1;32m    901\u001B[0m \u001B[38;5;66;03m# self.scoring the return type is only known after calling\u001B[39;00m\n\u001B[1;32m    902\u001B[0m first_test_score \u001B[38;5;241m=\u001B[39m all_out[\u001B[38;5;241m0\u001B[39m][\u001B[38;5;124m\"\u001B[39m\u001B[38;5;124mtest_scores\u001B[39m\u001B[38;5;124m\"\u001B[39m]\n",
      "File \u001B[0;32m~/uni/DM/DataMiningProject/venv/lib/python3.10/site-packages/sklearn/model_selection/_search.py:1422\u001B[0m, in \u001B[0;36mGridSearchCV._run_search\u001B[0;34m(self, evaluate_candidates)\u001B[0m\n\u001B[1;32m   1420\u001B[0m \u001B[38;5;28;01mdef\u001B[39;00m \u001B[38;5;21m_run_search\u001B[39m(\u001B[38;5;28mself\u001B[39m, evaluate_candidates):\n\u001B[1;32m   1421\u001B[0m \u001B[38;5;250m    \u001B[39m\u001B[38;5;124;03m\"\"\"Search all candidates in param_grid\"\"\"\u001B[39;00m\n\u001B[0;32m-> 1422\u001B[0m     \u001B[43mevaluate_candidates\u001B[49m\u001B[43m(\u001B[49m\u001B[43mParameterGrid\u001B[49m\u001B[43m(\u001B[49m\u001B[38;5;28;43mself\u001B[39;49m\u001B[38;5;241;43m.\u001B[39;49m\u001B[43mparam_grid\u001B[49m\u001B[43m)\u001B[49m\u001B[43m)\u001B[49m\n",
      "File \u001B[0;32m~/uni/DM/DataMiningProject/venv/lib/python3.10/site-packages/sklearn/model_selection/_search.py:845\u001B[0m, in \u001B[0;36mBaseSearchCV.fit.<locals>.evaluate_candidates\u001B[0;34m(candidate_params, cv, more_results)\u001B[0m\n\u001B[1;32m    837\u001B[0m \u001B[38;5;28;01mif\u001B[39;00m \u001B[38;5;28mself\u001B[39m\u001B[38;5;241m.\u001B[39mverbose \u001B[38;5;241m>\u001B[39m \u001B[38;5;241m0\u001B[39m:\n\u001B[1;32m    838\u001B[0m     \u001B[38;5;28mprint\u001B[39m(\n\u001B[1;32m    839\u001B[0m         \u001B[38;5;124m\"\u001B[39m\u001B[38;5;124mFitting \u001B[39m\u001B[38;5;132;01m{0}\u001B[39;00m\u001B[38;5;124m folds for each of \u001B[39m\u001B[38;5;132;01m{1}\u001B[39;00m\u001B[38;5;124m candidates,\u001B[39m\u001B[38;5;124m\"\u001B[39m\n\u001B[1;32m    840\u001B[0m         \u001B[38;5;124m\"\u001B[39m\u001B[38;5;124m totalling \u001B[39m\u001B[38;5;132;01m{2}\u001B[39;00m\u001B[38;5;124m fits\u001B[39m\u001B[38;5;124m\"\u001B[39m\u001B[38;5;241m.\u001B[39mformat(\n\u001B[1;32m    841\u001B[0m             n_splits, n_candidates, n_candidates \u001B[38;5;241m*\u001B[39m n_splits\n\u001B[1;32m    842\u001B[0m         )\n\u001B[1;32m    843\u001B[0m     )\n\u001B[0;32m--> 845\u001B[0m out \u001B[38;5;241m=\u001B[39m \u001B[43mparallel\u001B[49m\u001B[43m(\u001B[49m\n\u001B[1;32m    846\u001B[0m \u001B[43m    \u001B[49m\u001B[43mdelayed\u001B[49m\u001B[43m(\u001B[49m\u001B[43m_fit_and_score\u001B[49m\u001B[43m)\u001B[49m\u001B[43m(\u001B[49m\n\u001B[1;32m    847\u001B[0m \u001B[43m        \u001B[49m\u001B[43mclone\u001B[49m\u001B[43m(\u001B[49m\u001B[43mbase_estimator\u001B[49m\u001B[43m)\u001B[49m\u001B[43m,\u001B[49m\n\u001B[1;32m    848\u001B[0m \u001B[43m        \u001B[49m\u001B[43mX\u001B[49m\u001B[43m,\u001B[49m\n\u001B[1;32m    849\u001B[0m \u001B[43m        \u001B[49m\u001B[43my\u001B[49m\u001B[43m,\u001B[49m\n\u001B[1;32m    850\u001B[0m \u001B[43m        \u001B[49m\u001B[43mtrain\u001B[49m\u001B[38;5;241;43m=\u001B[39;49m\u001B[43mtrain\u001B[49m\u001B[43m,\u001B[49m\n\u001B[1;32m    851\u001B[0m \u001B[43m        \u001B[49m\u001B[43mtest\u001B[49m\u001B[38;5;241;43m=\u001B[39;49m\u001B[43mtest\u001B[49m\u001B[43m,\u001B[49m\n\u001B[1;32m    852\u001B[0m \u001B[43m        \u001B[49m\u001B[43mparameters\u001B[49m\u001B[38;5;241;43m=\u001B[39;49m\u001B[43mparameters\u001B[49m\u001B[43m,\u001B[49m\n\u001B[1;32m    853\u001B[0m \u001B[43m        \u001B[49m\u001B[43msplit_progress\u001B[49m\u001B[38;5;241;43m=\u001B[39;49m\u001B[43m(\u001B[49m\u001B[43msplit_idx\u001B[49m\u001B[43m,\u001B[49m\u001B[43m \u001B[49m\u001B[43mn_splits\u001B[49m\u001B[43m)\u001B[49m\u001B[43m,\u001B[49m\n\u001B[1;32m    854\u001B[0m \u001B[43m        \u001B[49m\u001B[43mcandidate_progress\u001B[49m\u001B[38;5;241;43m=\u001B[39;49m\u001B[43m(\u001B[49m\u001B[43mcand_idx\u001B[49m\u001B[43m,\u001B[49m\u001B[43m \u001B[49m\u001B[43mn_candidates\u001B[49m\u001B[43m)\u001B[49m\u001B[43m,\u001B[49m\n\u001B[1;32m    855\u001B[0m \u001B[43m        \u001B[49m\u001B[38;5;241;43m*\u001B[39;49m\u001B[38;5;241;43m*\u001B[39;49m\u001B[43mfit_and_score_kwargs\u001B[49m\u001B[43m,\u001B[49m\n\u001B[1;32m    856\u001B[0m \u001B[43m    \u001B[49m\u001B[43m)\u001B[49m\n\u001B[1;32m    857\u001B[0m \u001B[43m    \u001B[49m\u001B[38;5;28;43;01mfor\u001B[39;49;00m\u001B[43m \u001B[49m\u001B[43m(\u001B[49m\u001B[43mcand_idx\u001B[49m\u001B[43m,\u001B[49m\u001B[43m \u001B[49m\u001B[43mparameters\u001B[49m\u001B[43m)\u001B[49m\u001B[43m,\u001B[49m\u001B[43m \u001B[49m\u001B[43m(\u001B[49m\u001B[43msplit_idx\u001B[49m\u001B[43m,\u001B[49m\u001B[43m \u001B[49m\u001B[43m(\u001B[49m\u001B[43mtrain\u001B[49m\u001B[43m,\u001B[49m\u001B[43m \u001B[49m\u001B[43mtest\u001B[49m\u001B[43m)\u001B[49m\u001B[43m)\u001B[49m\u001B[43m \u001B[49m\u001B[38;5;129;43;01min\u001B[39;49;00m\u001B[43m \u001B[49m\u001B[43mproduct\u001B[49m\u001B[43m(\u001B[49m\n\u001B[1;32m    858\u001B[0m \u001B[43m        \u001B[49m\u001B[38;5;28;43menumerate\u001B[39;49m\u001B[43m(\u001B[49m\u001B[43mcandidate_params\u001B[49m\u001B[43m)\u001B[49m\u001B[43m,\u001B[49m\u001B[43m \u001B[49m\u001B[38;5;28;43menumerate\u001B[39;49m\u001B[43m(\u001B[49m\u001B[43mcv\u001B[49m\u001B[38;5;241;43m.\u001B[39;49m\u001B[43msplit\u001B[49m\u001B[43m(\u001B[49m\u001B[43mX\u001B[49m\u001B[43m,\u001B[49m\u001B[43m \u001B[49m\u001B[43my\u001B[49m\u001B[43m,\u001B[49m\u001B[43m \u001B[49m\u001B[43mgroups\u001B[49m\u001B[43m)\u001B[49m\u001B[43m)\u001B[49m\n\u001B[1;32m    859\u001B[0m \u001B[43m    \u001B[49m\u001B[43m)\u001B[49m\n\u001B[1;32m    860\u001B[0m \u001B[43m\u001B[49m\u001B[43m)\u001B[49m\n\u001B[1;32m    862\u001B[0m \u001B[38;5;28;01mif\u001B[39;00m \u001B[38;5;28mlen\u001B[39m(out) \u001B[38;5;241m<\u001B[39m \u001B[38;5;241m1\u001B[39m:\n\u001B[1;32m    863\u001B[0m     \u001B[38;5;28;01mraise\u001B[39;00m \u001B[38;5;167;01mValueError\u001B[39;00m(\n\u001B[1;32m    864\u001B[0m         \u001B[38;5;124m\"\u001B[39m\u001B[38;5;124mNo fits were performed. \u001B[39m\u001B[38;5;124m\"\u001B[39m\n\u001B[1;32m    865\u001B[0m         \u001B[38;5;124m\"\u001B[39m\u001B[38;5;124mWas the CV iterator empty? \u001B[39m\u001B[38;5;124m\"\u001B[39m\n\u001B[1;32m    866\u001B[0m         \u001B[38;5;124m\"\u001B[39m\u001B[38;5;124mWere there no candidates?\u001B[39m\u001B[38;5;124m\"\u001B[39m\n\u001B[1;32m    867\u001B[0m     )\n",
      "File \u001B[0;32m~/uni/DM/DataMiningProject/venv/lib/python3.10/site-packages/sklearn/utils/parallel.py:65\u001B[0m, in \u001B[0;36mParallel.__call__\u001B[0;34m(self, iterable)\u001B[0m\n\u001B[1;32m     60\u001B[0m config \u001B[38;5;241m=\u001B[39m get_config()\n\u001B[1;32m     61\u001B[0m iterable_with_config \u001B[38;5;241m=\u001B[39m (\n\u001B[1;32m     62\u001B[0m     (_with_config(delayed_func, config), args, kwargs)\n\u001B[1;32m     63\u001B[0m     \u001B[38;5;28;01mfor\u001B[39;00m delayed_func, args, kwargs \u001B[38;5;129;01min\u001B[39;00m iterable\n\u001B[1;32m     64\u001B[0m )\n\u001B[0;32m---> 65\u001B[0m \u001B[38;5;28;01mreturn\u001B[39;00m \u001B[38;5;28;43msuper\u001B[39;49m\u001B[43m(\u001B[49m\u001B[43m)\u001B[49m\u001B[38;5;241;43m.\u001B[39;49m\u001B[38;5;21;43m__call__\u001B[39;49m\u001B[43m(\u001B[49m\u001B[43miterable_with_config\u001B[49m\u001B[43m)\u001B[49m\n",
      "File \u001B[0;32m~/uni/DM/DataMiningProject/venv/lib/python3.10/site-packages/joblib/parallel.py:1952\u001B[0m, in \u001B[0;36mParallel.__call__\u001B[0;34m(self, iterable)\u001B[0m\n\u001B[1;32m   1946\u001B[0m \u001B[38;5;66;03m# The first item from the output is blank, but it makes the interpreter\u001B[39;00m\n\u001B[1;32m   1947\u001B[0m \u001B[38;5;66;03m# progress until it enters the Try/Except block of the generator and\u001B[39;00m\n\u001B[1;32m   1948\u001B[0m \u001B[38;5;66;03m# reach the first `yield` statement. This starts the aynchronous\u001B[39;00m\n\u001B[1;32m   1949\u001B[0m \u001B[38;5;66;03m# dispatch of the tasks to the workers.\u001B[39;00m\n\u001B[1;32m   1950\u001B[0m \u001B[38;5;28mnext\u001B[39m(output)\n\u001B[0;32m-> 1952\u001B[0m \u001B[38;5;28;01mreturn\u001B[39;00m output \u001B[38;5;28;01mif\u001B[39;00m \u001B[38;5;28mself\u001B[39m\u001B[38;5;241m.\u001B[39mreturn_generator \u001B[38;5;28;01melse\u001B[39;00m \u001B[38;5;28;43mlist\u001B[39;49m\u001B[43m(\u001B[49m\u001B[43moutput\u001B[49m\u001B[43m)\u001B[49m\n",
      "File \u001B[0;32m~/uni/DM/DataMiningProject/venv/lib/python3.10/site-packages/joblib/parallel.py:1595\u001B[0m, in \u001B[0;36mParallel._get_outputs\u001B[0;34m(self, iterator, pre_dispatch)\u001B[0m\n\u001B[1;32m   1592\u001B[0m     \u001B[38;5;28;01myield\u001B[39;00m\n\u001B[1;32m   1594\u001B[0m     \u001B[38;5;28;01mwith\u001B[39;00m \u001B[38;5;28mself\u001B[39m\u001B[38;5;241m.\u001B[39m_backend\u001B[38;5;241m.\u001B[39mretrieval_context():\n\u001B[0;32m-> 1595\u001B[0m         \u001B[38;5;28;01myield from\u001B[39;00m \u001B[38;5;28mself\u001B[39m\u001B[38;5;241m.\u001B[39m_retrieve()\n\u001B[1;32m   1597\u001B[0m \u001B[38;5;28;01mexcept\u001B[39;00m \u001B[38;5;167;01mGeneratorExit\u001B[39;00m:\n\u001B[1;32m   1598\u001B[0m     \u001B[38;5;66;03m# The generator has been garbage collected before being fully\u001B[39;00m\n\u001B[1;32m   1599\u001B[0m     \u001B[38;5;66;03m# consumed. This aborts the remaining tasks if possible and warn\u001B[39;00m\n\u001B[1;32m   1600\u001B[0m     \u001B[38;5;66;03m# the user if necessary.\u001B[39;00m\n\u001B[1;32m   1601\u001B[0m     \u001B[38;5;28mself\u001B[39m\u001B[38;5;241m.\u001B[39m_exception \u001B[38;5;241m=\u001B[39m \u001B[38;5;28;01mTrue\u001B[39;00m\n",
      "File \u001B[0;32m~/uni/DM/DataMiningProject/venv/lib/python3.10/site-packages/joblib/parallel.py:1707\u001B[0m, in \u001B[0;36mParallel._retrieve\u001B[0;34m(self)\u001B[0m\n\u001B[1;32m   1702\u001B[0m \u001B[38;5;66;03m# If the next job is not ready for retrieval yet, we just wait for\u001B[39;00m\n\u001B[1;32m   1703\u001B[0m \u001B[38;5;66;03m# async callbacks to progress.\u001B[39;00m\n\u001B[1;32m   1704\u001B[0m \u001B[38;5;28;01mif\u001B[39;00m ((\u001B[38;5;28mlen\u001B[39m(\u001B[38;5;28mself\u001B[39m\u001B[38;5;241m.\u001B[39m_jobs) \u001B[38;5;241m==\u001B[39m \u001B[38;5;241m0\u001B[39m) \u001B[38;5;129;01mor\u001B[39;00m\n\u001B[1;32m   1705\u001B[0m     (\u001B[38;5;28mself\u001B[39m\u001B[38;5;241m.\u001B[39m_jobs[\u001B[38;5;241m0\u001B[39m]\u001B[38;5;241m.\u001B[39mget_status(\n\u001B[1;32m   1706\u001B[0m         timeout\u001B[38;5;241m=\u001B[39m\u001B[38;5;28mself\u001B[39m\u001B[38;5;241m.\u001B[39mtimeout) \u001B[38;5;241m==\u001B[39m TASK_PENDING)):\n\u001B[0;32m-> 1707\u001B[0m     \u001B[43mtime\u001B[49m\u001B[38;5;241;43m.\u001B[39;49m\u001B[43msleep\u001B[49m\u001B[43m(\u001B[49m\u001B[38;5;241;43m0.01\u001B[39;49m\u001B[43m)\u001B[49m\n\u001B[1;32m   1708\u001B[0m     \u001B[38;5;28;01mcontinue\u001B[39;00m\n\u001B[1;32m   1710\u001B[0m \u001B[38;5;66;03m# We need to be careful: the job list can be filling up as\u001B[39;00m\n\u001B[1;32m   1711\u001B[0m \u001B[38;5;66;03m# we empty it and Python list are not thread-safe by\u001B[39;00m\n\u001B[1;32m   1712\u001B[0m \u001B[38;5;66;03m# default hence the use of the lock\u001B[39;00m\n",
      "\u001B[0;31mKeyboardInterrupt\u001B[0m: "
     ]
    }
   ],
   "source": [
    "knn = KNeighborsClassifier(algorithm='ball_tree', metric='minkowski')\n",
    "param_dist = {\"n_neighbors\": [1, 3, 5, 10, 20]}\n",
    "\n",
    "grid_search = GridSearchCV(knn, param_grid=param_dist,\n",
    "                                 n_jobs=-1,\n",
    "                                 scoring=make_scorer(accuracy_score))\n",
    "\n",
    "grid_search.fit(train_set, train_label)"
   ],
   "metadata": {
    "collapsed": false,
    "ExecuteTime": {
     "end_time": "2024-01-06T00:03:47.647154744Z",
     "start_time": "2024-01-05T23:55:36.597936420Z"
    }
   },
   "id": "dc7658b884ba21ca",
   "execution_count": 41
  },
  {
   "cell_type": "code",
   "outputs": [
    {
     "name": "stdout",
     "output_type": "stream",
     "text": [
      "Best setting parameters  {'class_weight': {0: 0.3, 1: 0.7}, 'criterion': 'entropy', 'max_depth': 12, 'min_samples_leaf': 22, 'min_samples_split': 19}\n",
      "Mean and std of this setting  0.8120979386654413 0.0049045049216736095\n"
     ]
    }
   ],
   "source": [
    "best_knn = grid_search.best_estimator_\n",
    "best_knn_hp = grid_search.cv_results_['params'][0]\n",
    "print('Best setting parameters ', best_knn_hp)\n",
    "print('Mean and std of this setting ', grid_search.cv_results_['mean_test_score'][0],\n",
    "      grid_search.cv_results_['std_test_score'][0])"
   ],
   "metadata": {
    "collapsed": false,
    "ExecuteTime": {
     "end_time": "2023-12-29T15:53:39.581993174Z",
     "start_time": "2023-12-29T15:53:39.521354555Z"
    }
   },
   "id": "7449dc125abe82b1",
   "execution_count": 25
  },
  {
   "cell_type": "code",
   "outputs": [],
   "source": [
    "train_pred = best_knn.predict(train_set)\n",
    "test_pred = best_knn.predict(test_set)"
   ],
   "metadata": {
    "collapsed": false,
    "ExecuteTime": {
     "end_time": "2023-12-29T15:53:41.403982573Z",
     "start_time": "2023-12-29T15:53:41.365716854Z"
    }
   },
   "id": "6c1f7e02dad0fb19",
   "execution_count": 26
  },
  {
   "cell_type": "code",
   "outputs": [
    {
     "name": "stdout",
     "output_type": "stream",
     "text": [
      "Accuracy train set  0.847595872671067\n",
      "Accuracy test set  0.8394009649727426\n",
      "Precision train set  0.8460612630452131\n",
      "Recall train set  0.847595872671067\n",
      "F1 score train set  0.8467715567294166\n",
      "Support train set  (array([0.89563065, 0.69040448]), array([0.90446062, 0.66903038]), array([0.90002398, 0.6795494 ]), array([145249,  46255]))\n"
     ]
    }
   ],
   "source": [
    "report_metrics_best_estimator(train_label, train_pred, test_label, test_pred)"
   ],
   "metadata": {
    "collapsed": false,
    "ExecuteTime": {
     "end_time": "2023-12-29T15:53:42.577784196Z",
     "start_time": "2023-12-29T15:53:42.231753482Z"
    }
   },
   "id": "74aa43362593b1c1",
   "execution_count": 27
  },
  {
   "cell_type": "code",
   "outputs": [
    {
     "name": "stdout",
     "output_type": "stream",
     "text": [
      "              precision    recall  f1-score   support\n",
      "\n",
      "   No Killed       0.89      0.90      0.89     36313\n",
      "      Killed       0.67      0.65      0.66     11564\n",
      "\n",
      "    accuracy                           0.84     47877\n",
      "   macro avg       0.78      0.78      0.78     47877\n",
      "weighted avg       0.84      0.84      0.84     47877\n"
     ]
    }
   ],
   "source": [
    "report_scores(test_label, test_pred)"
   ],
   "metadata": {
    "collapsed": false,
    "ExecuteTime": {
     "end_time": "2023-12-29T15:53:42.954105718Z",
     "start_time": "2023-12-29T15:53:42.845000988Z"
    }
   },
   "id": "2e0a8a556450153",
   "execution_count": 28
  },
  {
   "cell_type": "code",
   "outputs": [
    {
     "data": {
      "text/plain": "<Figure size 640x480 with 2 Axes>",
      "image/png": "[encoded data removed]"
     },
     "metadata": {},
     "output_type": "display_data"
    }
   ],
   "source": [
    "report_confusion_matrix(test_label, test_pred)"
   ],
   "metadata": {
    "collapsed": false,
    "ExecuteTime": {
     "end_time": "2023-12-29T15:53:43.987577110Z",
     "start_time": "2023-12-29T15:53:43.767842713Z"
    }
   },
   "id": "2f9f5169f19004f9",
   "execution_count": 29
  },
  {
   "cell_type": "markdown",
   "source": [
    "# 6 Naive Bayes"
   ],
   "metadata": {
    "collapsed": false
   },
   "id": "92a7e3e02bc30bf7"
  },
  {
   "cell_type": "code",
   "outputs": [
    {
     "data": {
      "text/plain": "GaussianNB()",
      "text/html": "<style>#sk-container-id-6 {color: black;}#sk-container-id-6 pre{padding: 0;}#sk-container-id-6 div.sk-toggleable {background-color: white;}#sk-container-id-6 label.sk-toggleable__label {cursor: pointer;display: block;width: 100%;margin-bottom: 0;padding: 0.3em;box-sizing: border-box;text-align: center;}#sk-container-id-6 label.sk-toggleable__label-arrow:before {content: \"▸\";float: left;margin-right: 0.25em;color: #696969;}#sk-container-id-6 label.sk-toggleable__label-arrow:hover:before {color: black;}#sk-container-id-6 div.sk-estimator:hover label.sk-toggleable__label-arrow:before {color: black;}#sk-container-id-6 div.sk-toggleable__content {max-height: 0;max-width: 0;overflow: hidden;text-align: left;background-color: #f0f8ff;}#sk-container-id-6 div.sk-toggleable__content pre {margin: 0.2em;color: black;border-radius: 0.25em;background-color: #f0f8ff;}#sk-container-id-6 input.sk-toggleable__control:checked~div.sk-toggleable__content {max-height: 200px;max-width: 100%;overflow: auto;}#sk-container-id-6 input.sk-toggleable__control:checked~label.sk-toggleable__label-arrow:before {content: \"▾\";}#sk-container-id-6 div.sk-estimator input.sk-toggleable__control:checked~label.sk-toggleable__label {background-color: #d4ebff;}#sk-container-id-6 div.sk-label input.sk-toggleable__control:checked~label.sk-toggleable__label {background-color: #d4ebff;}#sk-container-id-6 input.sk-hidden--visually {border: 0;clip: rect(1px 1px 1px 1px);clip: rect(1px, 1px, 1px, 1px);height: 1px;margin: -1px;overflow: hidden;padding: 0;position: absolute;width: 1px;}#sk-container-id-6 div.sk-estimator {font-family: monospace;background-color: #f0f8ff;border: 1px dotted black;border-radius: 0.25em;box-sizing: border-box;margin-bottom: 0.5em;}#sk-container-id-6 div.sk-estimator:hover {background-color: #d4ebff;}#sk-container-id-6 div.sk-parallel-item::after {content: \"\";width: 100%;border-bottom: 1px solid gray;flex-grow: 1;}#sk-container-id-6 div.sk-label:hover label.sk-toggleable__label {background-color: #d4ebff;}#sk-container-id-6 div.sk-serial::before {content: \"\";position: absolute;border-left: 1px solid gray;box-sizing: border-box;top: 0;bottom: 0;left: 50%;z-index: 0;}#sk-container-id-6 div.sk-serial {display: flex;flex-direction: column;align-items: center;background-color: white;padding-right: 0.2em;padding-left: 0.2em;position: relative;}#sk-container-id-6 div.sk-item {position: relative;z-index: 1;}#sk-container-id-6 div.sk-parallel {display: flex;align-items: stretch;justify-content: center;background-color: white;position: relative;}#sk-container-id-6 div.sk-item::before, #sk-container-id-6 div.sk-parallel-item::before {content: \"\";position: absolute;border-left: 1px solid gray;box-sizing: border-box;top: 0;bottom: 0;left: 50%;z-index: -1;}#sk-container-id-6 div.sk-parallel-item {display: flex;flex-direction: column;z-index: 1;position: relative;background-color: white;}#sk-container-id-6 div.sk-parallel-item:first-child::after {align-self: flex-end;width: 50%;}#sk-container-id-6 div.sk-parallel-item:last-child::after {align-self: flex-start;width: 50%;}#sk-container-id-6 div.sk-parallel-item:only-child::after {width: 0;}#sk-container-id-6 div.sk-dashed-wrapped {border: 1px dashed gray;margin: 0 0.4em 0.5em 0.4em;box-sizing: border-box;padding-bottom: 0.4em;background-color: white;}#sk-container-id-6 div.sk-label label {font-family: monospace;font-weight: bold;display: inline-block;line-height: 1.2em;}#sk-container-id-6 div.sk-label-container {text-align: center;}#sk-container-id-6 div.sk-container {/* jupyter's `normalize.less` sets `[hidden] { display: none; }` but bootstrap.min.css set `[hidden] { display: none !important; }` so we also need the `!important` here to be able to override the default hidden behavior on the sphinx rendered scikit-learn.org. See: https://github.com/scikit-learn/scikit-learn/issues/21755 */display: inline-block !important;position: relative;}#sk-container-id-6 div.sk-text-repr-fallback {display: none;}</style><div id=\"sk-container-id-6\" class=\"sk-top-container\"><div class=\"sk-text-repr-fallback\"><pre>GaussianNB()</pre><b>In a Jupyter environment, please rerun this cell to show the HTML representation or trust the notebook. <br />On GitHub, the HTML representation is unable to render, please try loading this page with nbviewer.org.</b></div><div class=\"sk-container\" hidden><div class=\"sk-item\"><div class=\"sk-estimator sk-toggleable\"><input class=\"sk-toggleable__control sk-hidden--visually\" id=\"sk-estimator-id-14\" type=\"checkbox\" checked><label for=\"sk-estimator-id-14\" class=\"sk-toggleable__label sk-toggleable__label-arrow\">GaussianNB</label><div class=\"sk-toggleable__content\"><pre>GaussianNB()</pre></div></div></div></div></div>"
     },
     "execution_count": 79,
     "metadata": {},
     "output_type": "execute_result"
    }
   ],
   "source": [
    "naiveBayes = GaussianNB()\n",
    "\n",
    "#run the grid search\n",
    "naiveBayes.fit(train_set, train_label)"
   ],
   "metadata": {
    "collapsed": false,
    "ExecuteTime": {
     "end_time": "2024-01-05T15:52:35.735301326Z",
     "start_time": "2024-01-05T15:52:35.683266764Z"
    }
   },
   "id": "ad0c41db0ca3b7d4",
   "execution_count": 79
  },
  {
   "cell_type": "code",
   "outputs": [],
   "source": [
    "train_pred = naiveBayes.predict(train_set)\n",
    "test_pred = naiveBayes.predict(test_set)"
   ],
   "metadata": {
    "collapsed": false,
    "ExecuteTime": {
     "end_time": "2024-01-05T15:52:37.144768591Z",
     "start_time": "2024-01-05T15:52:37.020986041Z"
    }
   },
   "id": "13211d7ff2a49617",
   "execution_count": 80
  },
  {
   "cell_type": "code",
   "outputs": [
    {
     "name": "stdout",
     "output_type": "stream",
     "text": [
      "Accuracy train set  0.9507850241545893\n",
      "Accuracy test set  0.9524240855762595\n",
      "Precision train set  0.9536832138849393\n",
      "Precision test set  0.9551250377918687\n",
      "Recall train set  0.9507850241545893\n",
      "Recall test set  0.9524240855762595\n",
      "F1 score train set  0.9507063004496806\n",
      "F1 score test set  0.9523533955508999\n",
      "Support train set  (array([0.91742222, 0.98994421]), array([0.99074793, 0.91082212]), array([0.95267622, 0.94873638]), array([46368, 46368]))\n",
      "Support test set  (array([0.92006408, 0.990186  ]), array([0.99094203, 0.91390614]), array([0.95418864, 0.95051815]), array([11592, 11592]))\n"
     ]
    }
   ],
   "source": [
    "report_metrics_best_estimator(train_label, train_pred, test_label, test_pred)"
   ],
   "metadata": {
    "collapsed": false,
    "ExecuteTime": {
     "end_time": "2024-01-05T15:52:38.038704402Z",
     "start_time": "2024-01-05T15:52:37.765475342Z"
    }
   },
   "id": "d01d7af36b24d6dd",
   "execution_count": 81
  },
  {
   "cell_type": "code",
   "outputs": [
    {
     "name": "stdout",
     "output_type": "stream",
     "text": [
      "              precision    recall  f1-score   support\n",
      "\n",
      "   No Killed       0.92      0.99      0.95     11592\n",
      "      Killed       0.99      0.91      0.95     11592\n",
      "\n",
      "    accuracy                           0.95     23184\n",
      "   macro avg       0.96      0.95      0.95     23184\n",
      "weighted avg       0.96      0.95      0.95     23184\n"
     ]
    }
   ],
   "source": [
    "report_scores(test_label, test_pred)"
   ],
   "metadata": {
    "collapsed": false,
    "ExecuteTime": {
     "end_time": "2024-01-05T15:52:45.903683565Z",
     "start_time": "2024-01-05T15:52:45.868029338Z"
    }
   },
   "id": "8b3b2ce2f585f8af",
   "execution_count": 82
  },
  {
   "cell_type": "code",
   "outputs": [
    {
     "data": {
      "text/plain": "<Figure size 640x480 with 2 Axes>",
      "image/png": "[encoded data removed]"
     },
     "metadata": {},
     "output_type": "display_data"
    }
   ],
   "source": [
    "report_confusion_matrix(test_label, test_pred)"
   ],
   "metadata": {
    "collapsed": false,
    "ExecuteTime": {
     "end_time": "2024-01-05T15:52:48.660951090Z",
     "start_time": "2024-01-05T15:52:48.357483142Z"
    }
   },
   "id": "a49b264ec7a83605",
   "execution_count": 83
  },
  {
   "cell_type": "markdown",
   "source": [
    "# 7 SVC"
   ],
   "metadata": {
    "collapsed": false
   },
   "id": "47225706e3c9daba"
  },
  {
   "cell_type": "code",
   "outputs": [
    {
     "ename": "KeyboardInterrupt",
     "evalue": "",
     "output_type": "error",
     "traceback": [
      "\u001B[0;31m---------------------------------------------------------------------------\u001B[0m",
      "\u001B[0;31mKeyboardInterrupt\u001B[0m                         Traceback (most recent call last)",
      "Cell \u001B[0;32mIn[84], line 10\u001B[0m\n\u001B[1;32m      2\u001B[0m param_dist \u001B[38;5;241m=\u001B[39m {\u001B[38;5;124m\"\u001B[39m\u001B[38;5;124mC\u001B[39m\u001B[38;5;124m\"\u001B[39m: [\u001B[38;5;241m1e-1\u001B[39m, \u001B[38;5;241m1\u001B[39m, \u001B[38;5;241m10\u001B[39m],\n\u001B[1;32m      3\u001B[0m               \u001B[38;5;124m\"\u001B[39m\u001B[38;5;124mkernel\u001B[39m\u001B[38;5;124m\"\u001B[39m: [\u001B[38;5;124m\"\u001B[39m\u001B[38;5;124mrbf\u001B[39m\u001B[38;5;124m\"\u001B[39m, \u001B[38;5;124m\"\u001B[39m\u001B[38;5;124mlinear\u001B[39m\u001B[38;5;124m\"\u001B[39m, \u001B[38;5;124m\"\u001B[39m\u001B[38;5;124mpoly\u001B[39m\u001B[38;5;124m\"\u001B[39m]}\n\u001B[1;32m      6\u001B[0m grid_search \u001B[38;5;241m=\u001B[39m GridSearchCV(svc, param_grid\u001B[38;5;241m=\u001B[39mparam_dist,\n\u001B[1;32m      7\u001B[0m                                 n_jobs\u001B[38;5;241m=\u001B[39m\u001B[38;5;241m-\u001B[39m\u001B[38;5;241m1\u001B[39m,\n\u001B[1;32m      8\u001B[0m                                 scoring\u001B[38;5;241m=\u001B[39mmake_scorer(accuracy_score))\n\u001B[0;32m---> 10\u001B[0m \u001B[43mgrid_search\u001B[49m\u001B[38;5;241;43m.\u001B[39;49m\u001B[43mfit\u001B[49m\u001B[43m(\u001B[49m\u001B[43mtrain_set\u001B[49m\u001B[43m,\u001B[49m\u001B[43m \u001B[49m\u001B[43mtrain_label\u001B[49m\u001B[43m)\u001B[49m\n",
      "File \u001B[0;32m~/uni/DM/DataMiningProject/venv/lib/python3.10/site-packages/sklearn/base.py:1152\u001B[0m, in \u001B[0;36m_fit_context.<locals>.decorator.<locals>.wrapper\u001B[0;34m(estimator, *args, **kwargs)\u001B[0m\n\u001B[1;32m   1145\u001B[0m     estimator\u001B[38;5;241m.\u001B[39m_validate_params()\n\u001B[1;32m   1147\u001B[0m \u001B[38;5;28;01mwith\u001B[39;00m config_context(\n\u001B[1;32m   1148\u001B[0m     skip_parameter_validation\u001B[38;5;241m=\u001B[39m(\n\u001B[1;32m   1149\u001B[0m         prefer_skip_nested_validation \u001B[38;5;129;01mor\u001B[39;00m global_skip_validation\n\u001B[1;32m   1150\u001B[0m     )\n\u001B[1;32m   1151\u001B[0m ):\n\u001B[0;32m-> 1152\u001B[0m     \u001B[38;5;28;01mreturn\u001B[39;00m \u001B[43mfit_method\u001B[49m\u001B[43m(\u001B[49m\u001B[43mestimator\u001B[49m\u001B[43m,\u001B[49m\u001B[43m \u001B[49m\u001B[38;5;241;43m*\u001B[39;49m\u001B[43margs\u001B[49m\u001B[43m,\u001B[49m\u001B[43m \u001B[49m\u001B[38;5;241;43m*\u001B[39;49m\u001B[38;5;241;43m*\u001B[39;49m\u001B[43mkwargs\u001B[49m\u001B[43m)\u001B[49m\n",
      "File \u001B[0;32m~/uni/DM/DataMiningProject/venv/lib/python3.10/site-packages/sklearn/model_selection/_search.py:898\u001B[0m, in \u001B[0;36mBaseSearchCV.fit\u001B[0;34m(self, X, y, groups, **fit_params)\u001B[0m\n\u001B[1;32m    892\u001B[0m     results \u001B[38;5;241m=\u001B[39m \u001B[38;5;28mself\u001B[39m\u001B[38;5;241m.\u001B[39m_format_results(\n\u001B[1;32m    893\u001B[0m         all_candidate_params, n_splits, all_out, all_more_results\n\u001B[1;32m    894\u001B[0m     )\n\u001B[1;32m    896\u001B[0m     \u001B[38;5;28;01mreturn\u001B[39;00m results\n\u001B[0;32m--> 898\u001B[0m \u001B[38;5;28;43mself\u001B[39;49m\u001B[38;5;241;43m.\u001B[39;49m\u001B[43m_run_search\u001B[49m\u001B[43m(\u001B[49m\u001B[43mevaluate_candidates\u001B[49m\u001B[43m)\u001B[49m\n\u001B[1;32m    900\u001B[0m \u001B[38;5;66;03m# multimetric is determined here because in the case of a callable\u001B[39;00m\n\u001B[1;32m    901\u001B[0m \u001B[38;5;66;03m# self.scoring the return type is only known after calling\u001B[39;00m\n\u001B[1;32m    902\u001B[0m first_test_score \u001B[38;5;241m=\u001B[39m all_out[\u001B[38;5;241m0\u001B[39m][\u001B[38;5;124m\"\u001B[39m\u001B[38;5;124mtest_scores\u001B[39m\u001B[38;5;124m\"\u001B[39m]\n",
      "File \u001B[0;32m~/uni/DM/DataMiningProject/venv/lib/python3.10/site-packages/sklearn/model_selection/_search.py:1422\u001B[0m, in \u001B[0;36mGridSearchCV._run_search\u001B[0;34m(self, evaluate_candidates)\u001B[0m\n\u001B[1;32m   1420\u001B[0m \u001B[38;5;28;01mdef\u001B[39;00m \u001B[38;5;21m_run_search\u001B[39m(\u001B[38;5;28mself\u001B[39m, evaluate_candidates):\n\u001B[1;32m   1421\u001B[0m \u001B[38;5;250m    \u001B[39m\u001B[38;5;124;03m\"\"\"Search all candidates in param_grid\"\"\"\u001B[39;00m\n\u001B[0;32m-> 1422\u001B[0m     \u001B[43mevaluate_candidates\u001B[49m\u001B[43m(\u001B[49m\u001B[43mParameterGrid\u001B[49m\u001B[43m(\u001B[49m\u001B[38;5;28;43mself\u001B[39;49m\u001B[38;5;241;43m.\u001B[39;49m\u001B[43mparam_grid\u001B[49m\u001B[43m)\u001B[49m\u001B[43m)\u001B[49m\n",
      "File \u001B[0;32m~/uni/DM/DataMiningProject/venv/lib/python3.10/site-packages/sklearn/model_selection/_search.py:845\u001B[0m, in \u001B[0;36mBaseSearchCV.fit.<locals>.evaluate_candidates\u001B[0;34m(candidate_params, cv, more_results)\u001B[0m\n\u001B[1;32m    837\u001B[0m \u001B[38;5;28;01mif\u001B[39;00m \u001B[38;5;28mself\u001B[39m\u001B[38;5;241m.\u001B[39mverbose \u001B[38;5;241m>\u001B[39m \u001B[38;5;241m0\u001B[39m:\n\u001B[1;32m    838\u001B[0m     \u001B[38;5;28mprint\u001B[39m(\n\u001B[1;32m    839\u001B[0m         \u001B[38;5;124m\"\u001B[39m\u001B[38;5;124mFitting \u001B[39m\u001B[38;5;132;01m{0}\u001B[39;00m\u001B[38;5;124m folds for each of \u001B[39m\u001B[38;5;132;01m{1}\u001B[39;00m\u001B[38;5;124m candidates,\u001B[39m\u001B[38;5;124m\"\u001B[39m\n\u001B[1;32m    840\u001B[0m         \u001B[38;5;124m\"\u001B[39m\u001B[38;5;124m totalling \u001B[39m\u001B[38;5;132;01m{2}\u001B[39;00m\u001B[38;5;124m fits\u001B[39m\u001B[38;5;124m\"\u001B[39m\u001B[38;5;241m.\u001B[39mformat(\n\u001B[1;32m    841\u001B[0m             n_splits, n_candidates, n_candidates \u001B[38;5;241m*\u001B[39m n_splits\n\u001B[1;32m    842\u001B[0m         )\n\u001B[1;32m    843\u001B[0m     )\n\u001B[0;32m--> 845\u001B[0m out \u001B[38;5;241m=\u001B[39m \u001B[43mparallel\u001B[49m\u001B[43m(\u001B[49m\n\u001B[1;32m    846\u001B[0m \u001B[43m    \u001B[49m\u001B[43mdelayed\u001B[49m\u001B[43m(\u001B[49m\u001B[43m_fit_and_score\u001B[49m\u001B[43m)\u001B[49m\u001B[43m(\u001B[49m\n\u001B[1;32m    847\u001B[0m \u001B[43m        \u001B[49m\u001B[43mclone\u001B[49m\u001B[43m(\u001B[49m\u001B[43mbase_estimator\u001B[49m\u001B[43m)\u001B[49m\u001B[43m,\u001B[49m\n\u001B[1;32m    848\u001B[0m \u001B[43m        \u001B[49m\u001B[43mX\u001B[49m\u001B[43m,\u001B[49m\n\u001B[1;32m    849\u001B[0m \u001B[43m        \u001B[49m\u001B[43my\u001B[49m\u001B[43m,\u001B[49m\n\u001B[1;32m    850\u001B[0m \u001B[43m        \u001B[49m\u001B[43mtrain\u001B[49m\u001B[38;5;241;43m=\u001B[39;49m\u001B[43mtrain\u001B[49m\u001B[43m,\u001B[49m\n\u001B[1;32m    851\u001B[0m \u001B[43m        \u001B[49m\u001B[43mtest\u001B[49m\u001B[38;5;241;43m=\u001B[39;49m\u001B[43mtest\u001B[49m\u001B[43m,\u001B[49m\n\u001B[1;32m    852\u001B[0m \u001B[43m        \u001B[49m\u001B[43mparameters\u001B[49m\u001B[38;5;241;43m=\u001B[39;49m\u001B[43mparameters\u001B[49m\u001B[43m,\u001B[49m\n\u001B[1;32m    853\u001B[0m \u001B[43m        \u001B[49m\u001B[43msplit_progress\u001B[49m\u001B[38;5;241;43m=\u001B[39;49m\u001B[43m(\u001B[49m\u001B[43msplit_idx\u001B[49m\u001B[43m,\u001B[49m\u001B[43m \u001B[49m\u001B[43mn_splits\u001B[49m\u001B[43m)\u001B[49m\u001B[43m,\u001B[49m\n\u001B[1;32m    854\u001B[0m \u001B[43m        \u001B[49m\u001B[43mcandidate_progress\u001B[49m\u001B[38;5;241;43m=\u001B[39;49m\u001B[43m(\u001B[49m\u001B[43mcand_idx\u001B[49m\u001B[43m,\u001B[49m\u001B[43m \u001B[49m\u001B[43mn_candidates\u001B[49m\u001B[43m)\u001B[49m\u001B[43m,\u001B[49m\n\u001B[1;32m    855\u001B[0m \u001B[43m        \u001B[49m\u001B[38;5;241;43m*\u001B[39;49m\u001B[38;5;241;43m*\u001B[39;49m\u001B[43mfit_and_score_kwargs\u001B[49m\u001B[43m,\u001B[49m\n\u001B[1;32m    856\u001B[0m \u001B[43m    \u001B[49m\u001B[43m)\u001B[49m\n\u001B[1;32m    857\u001B[0m \u001B[43m    \u001B[49m\u001B[38;5;28;43;01mfor\u001B[39;49;00m\u001B[43m \u001B[49m\u001B[43m(\u001B[49m\u001B[43mcand_idx\u001B[49m\u001B[43m,\u001B[49m\u001B[43m \u001B[49m\u001B[43mparameters\u001B[49m\u001B[43m)\u001B[49m\u001B[43m,\u001B[49m\u001B[43m \u001B[49m\u001B[43m(\u001B[49m\u001B[43msplit_idx\u001B[49m\u001B[43m,\u001B[49m\u001B[43m \u001B[49m\u001B[43m(\u001B[49m\u001B[43mtrain\u001B[49m\u001B[43m,\u001B[49m\u001B[43m \u001B[49m\u001B[43mtest\u001B[49m\u001B[43m)\u001B[49m\u001B[43m)\u001B[49m\u001B[43m \u001B[49m\u001B[38;5;129;43;01min\u001B[39;49;00m\u001B[43m \u001B[49m\u001B[43mproduct\u001B[49m\u001B[43m(\u001B[49m\n\u001B[1;32m    858\u001B[0m \u001B[43m        \u001B[49m\u001B[38;5;28;43menumerate\u001B[39;49m\u001B[43m(\u001B[49m\u001B[43mcandidate_params\u001B[49m\u001B[43m)\u001B[49m\u001B[43m,\u001B[49m\u001B[43m \u001B[49m\u001B[38;5;28;43menumerate\u001B[39;49m\u001B[43m(\u001B[49m\u001B[43mcv\u001B[49m\u001B[38;5;241;43m.\u001B[39;49m\u001B[43msplit\u001B[49m\u001B[43m(\u001B[49m\u001B[43mX\u001B[49m\u001B[43m,\u001B[49m\u001B[43m \u001B[49m\u001B[43my\u001B[49m\u001B[43m,\u001B[49m\u001B[43m \u001B[49m\u001B[43mgroups\u001B[49m\u001B[43m)\u001B[49m\u001B[43m)\u001B[49m\n\u001B[1;32m    859\u001B[0m \u001B[43m    \u001B[49m\u001B[43m)\u001B[49m\n\u001B[1;32m    860\u001B[0m \u001B[43m\u001B[49m\u001B[43m)\u001B[49m\n\u001B[1;32m    862\u001B[0m \u001B[38;5;28;01mif\u001B[39;00m \u001B[38;5;28mlen\u001B[39m(out) \u001B[38;5;241m<\u001B[39m \u001B[38;5;241m1\u001B[39m:\n\u001B[1;32m    863\u001B[0m     \u001B[38;5;28;01mraise\u001B[39;00m \u001B[38;5;167;01mValueError\u001B[39;00m(\n\u001B[1;32m    864\u001B[0m         \u001B[38;5;124m\"\u001B[39m\u001B[38;5;124mNo fits were performed. \u001B[39m\u001B[38;5;124m\"\u001B[39m\n\u001B[1;32m    865\u001B[0m         \u001B[38;5;124m\"\u001B[39m\u001B[38;5;124mWas the CV iterator empty? \u001B[39m\u001B[38;5;124m\"\u001B[39m\n\u001B[1;32m    866\u001B[0m         \u001B[38;5;124m\"\u001B[39m\u001B[38;5;124mWere there no candidates?\u001B[39m\u001B[38;5;124m\"\u001B[39m\n\u001B[1;32m    867\u001B[0m     )\n",
      "File \u001B[0;32m~/uni/DM/DataMiningProject/venv/lib/python3.10/site-packages/sklearn/utils/parallel.py:65\u001B[0m, in \u001B[0;36mParallel.__call__\u001B[0;34m(self, iterable)\u001B[0m\n\u001B[1;32m     60\u001B[0m config \u001B[38;5;241m=\u001B[39m get_config()\n\u001B[1;32m     61\u001B[0m iterable_with_config \u001B[38;5;241m=\u001B[39m (\n\u001B[1;32m     62\u001B[0m     (_with_config(delayed_func, config), args, kwargs)\n\u001B[1;32m     63\u001B[0m     \u001B[38;5;28;01mfor\u001B[39;00m delayed_func, args, kwargs \u001B[38;5;129;01min\u001B[39;00m iterable\n\u001B[1;32m     64\u001B[0m )\n\u001B[0;32m---> 65\u001B[0m \u001B[38;5;28;01mreturn\u001B[39;00m \u001B[38;5;28;43msuper\u001B[39;49m\u001B[43m(\u001B[49m\u001B[43m)\u001B[49m\u001B[38;5;241;43m.\u001B[39;49m\u001B[38;5;21;43m__call__\u001B[39;49m\u001B[43m(\u001B[49m\u001B[43miterable_with_config\u001B[49m\u001B[43m)\u001B[49m\n",
      "File \u001B[0;32m~/uni/DM/DataMiningProject/venv/lib/python3.10/site-packages/joblib/parallel.py:1952\u001B[0m, in \u001B[0;36mParallel.__call__\u001B[0;34m(self, iterable)\u001B[0m\n\u001B[1;32m   1946\u001B[0m \u001B[38;5;66;03m# The first item from the output is blank, but it makes the interpreter\u001B[39;00m\n\u001B[1;32m   1947\u001B[0m \u001B[38;5;66;03m# progress until it enters the Try/Except block of the generator and\u001B[39;00m\n\u001B[1;32m   1948\u001B[0m \u001B[38;5;66;03m# reach the first `yield` statement. This starts the aynchronous\u001B[39;00m\n\u001B[1;32m   1949\u001B[0m \u001B[38;5;66;03m# dispatch of the tasks to the workers.\u001B[39;00m\n\u001B[1;32m   1950\u001B[0m \u001B[38;5;28mnext\u001B[39m(output)\n\u001B[0;32m-> 1952\u001B[0m \u001B[38;5;28;01mreturn\u001B[39;00m output \u001B[38;5;28;01mif\u001B[39;00m \u001B[38;5;28mself\u001B[39m\u001B[38;5;241m.\u001B[39mreturn_generator \u001B[38;5;28;01melse\u001B[39;00m \u001B[38;5;28;43mlist\u001B[39;49m\u001B[43m(\u001B[49m\u001B[43moutput\u001B[49m\u001B[43m)\u001B[49m\n",
      "File \u001B[0;32m~/uni/DM/DataMiningProject/venv/lib/python3.10/site-packages/joblib/parallel.py:1595\u001B[0m, in \u001B[0;36mParallel._get_outputs\u001B[0;34m(self, iterator, pre_dispatch)\u001B[0m\n\u001B[1;32m   1592\u001B[0m     \u001B[38;5;28;01myield\u001B[39;00m\n\u001B[1;32m   1594\u001B[0m     \u001B[38;5;28;01mwith\u001B[39;00m \u001B[38;5;28mself\u001B[39m\u001B[38;5;241m.\u001B[39m_backend\u001B[38;5;241m.\u001B[39mretrieval_context():\n\u001B[0;32m-> 1595\u001B[0m         \u001B[38;5;28;01myield from\u001B[39;00m \u001B[38;5;28mself\u001B[39m\u001B[38;5;241m.\u001B[39m_retrieve()\n\u001B[1;32m   1597\u001B[0m \u001B[38;5;28;01mexcept\u001B[39;00m \u001B[38;5;167;01mGeneratorExit\u001B[39;00m:\n\u001B[1;32m   1598\u001B[0m     \u001B[38;5;66;03m# The generator has been garbage collected before being fully\u001B[39;00m\n\u001B[1;32m   1599\u001B[0m     \u001B[38;5;66;03m# consumed. This aborts the remaining tasks if possible and warn\u001B[39;00m\n\u001B[1;32m   1600\u001B[0m     \u001B[38;5;66;03m# the user if necessary.\u001B[39;00m\n\u001B[1;32m   1601\u001B[0m     \u001B[38;5;28mself\u001B[39m\u001B[38;5;241m.\u001B[39m_exception \u001B[38;5;241m=\u001B[39m \u001B[38;5;28;01mTrue\u001B[39;00m\n",
      "File \u001B[0;32m~/uni/DM/DataMiningProject/venv/lib/python3.10/site-packages/joblib/parallel.py:1707\u001B[0m, in \u001B[0;36mParallel._retrieve\u001B[0;34m(self)\u001B[0m\n\u001B[1;32m   1702\u001B[0m \u001B[38;5;66;03m# If the next job is not ready for retrieval yet, we just wait for\u001B[39;00m\n\u001B[1;32m   1703\u001B[0m \u001B[38;5;66;03m# async callbacks to progress.\u001B[39;00m\n\u001B[1;32m   1704\u001B[0m \u001B[38;5;28;01mif\u001B[39;00m ((\u001B[38;5;28mlen\u001B[39m(\u001B[38;5;28mself\u001B[39m\u001B[38;5;241m.\u001B[39m_jobs) \u001B[38;5;241m==\u001B[39m \u001B[38;5;241m0\u001B[39m) \u001B[38;5;129;01mor\u001B[39;00m\n\u001B[1;32m   1705\u001B[0m     (\u001B[38;5;28mself\u001B[39m\u001B[38;5;241m.\u001B[39m_jobs[\u001B[38;5;241m0\u001B[39m]\u001B[38;5;241m.\u001B[39mget_status(\n\u001B[1;32m   1706\u001B[0m         timeout\u001B[38;5;241m=\u001B[39m\u001B[38;5;28mself\u001B[39m\u001B[38;5;241m.\u001B[39mtimeout) \u001B[38;5;241m==\u001B[39m TASK_PENDING)):\n\u001B[0;32m-> 1707\u001B[0m     \u001B[43mtime\u001B[49m\u001B[38;5;241;43m.\u001B[39;49m\u001B[43msleep\u001B[49m\u001B[43m(\u001B[49m\u001B[38;5;241;43m0.01\u001B[39;49m\u001B[43m)\u001B[49m\n\u001B[1;32m   1708\u001B[0m     \u001B[38;5;28;01mcontinue\u001B[39;00m\n\u001B[1;32m   1710\u001B[0m \u001B[38;5;66;03m# We need to be careful: the job list can be filling up as\u001B[39;00m\n\u001B[1;32m   1711\u001B[0m \u001B[38;5;66;03m# we empty it and Python list are not thread-safe by\u001B[39;00m\n\u001B[1;32m   1712\u001B[0m \u001B[38;5;66;03m# default hence the use of the lock\u001B[39;00m\n",
      "\u001B[0;31mKeyboardInterrupt\u001B[0m: "
     ]
    }
   ],
   "source": [
    "svc = SVC()\n",
    "param_dist = {\"C\": [1e-1, 1, 10],\n",
    "              \"kernel\": [\"rbf\", \"linear\", \"poly\"]}\n",
    "\n",
    "\n",
    "grid_search = GridSearchCV(svc, param_grid=param_dist,\n",
    "                                n_jobs=-1,\n",
    "                                scoring=make_scorer(accuracy_score))\n",
    "\n",
    "grid_search.fit(train_set, train_label)"
   ],
   "metadata": {
    "collapsed": false,
    "ExecuteTime": {
     "end_time": "2024-01-05T15:53:08.882981951Z",
     "start_time": "2024-01-05T15:52:51.362052712Z"
    }
   },
   "id": "1724598f5bd1c724",
   "execution_count": 84
  },
  {
   "cell_type": "code",
   "outputs": [],
   "source": [
    "best_svc = grid_search.best_estimator_\n",
    "best_svc_hp = grid_search.cv_results_['params'][0]\n",
    "print('Best setting parameters ', best_svc_hp)\n",
    "print('Mean and std of this setting ', grid_search.cv_results_['mean_test_score'][0],\n",
    "      grid_search.cv_results_['std_test_score'][0])"
   ],
   "metadata": {
    "collapsed": false
   },
   "id": "801d56a5e6ce960e"
  },
  {
   "cell_type": "code",
   "outputs": [],
   "source": [
    "train_pred = best_svc.predict(train_set)\n",
    "test_pred = best_svc.predict(test_set)"
   ],
   "metadata": {
    "collapsed": false
   },
   "id": "e267387b2ad65733"
  },
  {
   "cell_type": "code",
   "outputs": [],
   "source": [
    "report_metrics_best_estimator(train_label, train_pred, test_label, test_pred)"
   ],
   "metadata": {
    "collapsed": false
   },
   "id": "9e8e05cffc6eb25b"
  },
  {
   "cell_type": "code",
   "outputs": [],
   "source": [
    "report_scores(test_label, test_pred)"
   ],
   "metadata": {
    "collapsed": false
   },
   "id": "88ece1b6d49eeab7"
  },
  {
   "cell_type": "code",
   "outputs": [],
   "source": [
    "report_confusion_matrix(test_label, test_pred)"
   ],
   "metadata": {
    "collapsed": false
   },
   "id": "c85170ae5fc05842"
  },
  {
   "cell_type": "markdown",
   "source": [
    "# 8 Neural Network"
   ],
   "metadata": {
    "collapsed": false
   },
   "id": "7d630ff692e9a416"
  },
  {
   "cell_type": "code",
   "outputs": [],
   "source": [
    "train_set, val_set, train_label, val_label = train_test_split(train_set, train_label, stratify=train_label, test_size=0.20)"
   ],
   "metadata": {
    "collapsed": false,
    "ExecuteTime": {
     "end_time": "2024-01-05T15:53:14.927199033Z",
     "start_time": "2024-01-05T15:53:14.886417701Z"
    }
   },
   "id": "d784846a5048d297",
   "execution_count": 85
  },
  {
   "cell_type": "code",
   "outputs": [],
   "source": [
    "def build_model(hp):\n",
    "    activation_f = hp.Choice('activation', ['tanh', 'sigmoid', 'relu'])\n",
    "    max_layer = 5\n",
    "    units_per_layer = []\n",
    "    \n",
    "    for i in range(max_layer - 1):\n",
    "        units_per_layer.append(hp.Int('units_' + str(i), min_value=5, max_value=50, step=5))\n",
    "    \n",
    "    model = keras.Sequential()\n",
    "\n",
    "    # Tune the number of layers and units in each layer\n",
    "    for i in range(hp.Int('num_layers', min_value=2, max_value=max_layer, step=1) - 1):\n",
    "        model.add(keras.layers.Dense(units=units_per_layer[i],\n",
    "                               activation=activation_f))\n",
    "\n",
    "    # Output layer with a single unit and sigmoid activation (for binary classification)\n",
    "    model.add(keras.layers.Dense(units=1, activation='sigmoid'))\n",
    "\n",
    "    # Compile the model\n",
    "    model.compile(optimizer=keras.optimizers.Adam(hp.Choice('learning_rate', values=[0.5, 0.1, 0.001, 1e-3, 1e-4])),\n",
    "                  loss='binary_crossentropy',\n",
    "                  metrics=['accuracy'])\n",
    "    return model"
   ],
   "metadata": {
    "collapsed": false,
    "ExecuteTime": {
     "end_time": "2024-01-05T15:53:15.592633534Z",
     "start_time": "2024-01-05T15:53:15.548866648Z"
    }
   },
   "id": "8da2256843ab33ca",
   "execution_count": 86
  },
  {
   "cell_type": "code",
   "outputs": [
    {
     "name": "stdout",
     "output_type": "stream",
     "text": [
      "Trial 5 Complete [00h 00m 10s]\n",
      "val_accuracy: 0.5\n",
      "\n",
      "Best val_accuracy So Far: 0.9525555372238159\n",
      "Total elapsed time: 00h 01m 10s\n"
     ]
    }
   ],
   "source": [
    "tuner = keras_tuner.RandomSearch(build_model,\n",
    "                                 objective='val_accuracy',\n",
    "                                 max_trials=5,\n",
    "                                 directory='nn_tuning',\n",
    "                                 project_name='sequential_classifier')\n",
    "\n",
    "early_stopping = keras.callbacks.EarlyStopping(monitor='val_loss', patience=10)\n",
    "\n",
    "tuner.search(train_set, train_label,\n",
    "             epochs=100,\n",
    "             batch_size=1000,\n",
    "             callbacks=[early_stopping],\n",
    "             validation_data=(val_set, val_label))"
   ],
   "metadata": {
    "collapsed": false
   },
   "id": "afccb9d87fa14901",
   "execution_count": 93
  },
  {
   "cell_type": "code",
   "outputs": [
    {
     "name": "stdout",
     "output_type": "stream",
     "text": [
      "Epoch 1/100\n",
      "75/75 [==============================] - 1s 4ms/step - loss: 0.5552 - accuracy: 0.7778 - val_loss: 0.3887 - val_accuracy: 0.9406\n",
      "Epoch 2/100\n",
      "75/75 [==============================] - 0s 2ms/step - loss: 0.2909 - accuracy: 0.9504 - val_loss: 0.2316 - val_accuracy: 0.9486\n",
      "Epoch 3/100\n",
      "75/75 [==============================] - 0s 2ms/step - loss: 0.2043 - accuracy: 0.9515 - val_loss: 0.1915 - val_accuracy: 0.9486\n",
      "Epoch 4/100\n",
      "75/75 [==============================] - 0s 2ms/step - loss: 0.1774 - accuracy: 0.9516 - val_loss: 0.1741 - val_accuracy: 0.9489\n",
      "Epoch 5/100\n",
      "75/75 [==============================] - 0s 2ms/step - loss: 0.1637 - accuracy: 0.9516 - val_loss: 0.1640 - val_accuracy: 0.9487\n",
      "Epoch 6/100\n",
      "75/75 [==============================] - 0s 2ms/step - loss: 0.1550 - accuracy: 0.9514 - val_loss: 0.1570 - val_accuracy: 0.9490\n",
      "Epoch 7/100\n",
      "75/75 [==============================] - 0s 2ms/step - loss: 0.1492 - accuracy: 0.9517 - val_loss: 0.1520 - val_accuracy: 0.9492\n",
      "Epoch 8/100\n",
      "75/75 [==============================] - 0s 2ms/step - loss: 0.1448 - accuracy: 0.9520 - val_loss: 0.1488 - val_accuracy: 0.9499\n",
      "Epoch 9/100\n",
      "75/75 [==============================] - 0s 2ms/step - loss: 0.1413 - accuracy: 0.9523 - val_loss: 0.1452 - val_accuracy: 0.9500\n",
      "Epoch 10/100\n",
      "75/75 [==============================] - 0s 2ms/step - loss: 0.1386 - accuracy: 0.9529 - val_loss: 0.1430 - val_accuracy: 0.9499\n",
      "Epoch 11/100\n",
      "75/75 [==============================] - 0s 2ms/step - loss: 0.1366 - accuracy: 0.9528 - val_loss: 0.1415 - val_accuracy: 0.9497\n",
      "Epoch 12/100\n",
      "75/75 [==============================] - 0s 2ms/step - loss: 0.1348 - accuracy: 0.9528 - val_loss: 0.1398 - val_accuracy: 0.9509\n",
      "Epoch 13/100\n",
      "75/75 [==============================] - 0s 2ms/step - loss: 0.1331 - accuracy: 0.9530 - val_loss: 0.1385 - val_accuracy: 0.9513\n",
      "Epoch 14/100\n",
      "75/75 [==============================] - 0s 2ms/step - loss: 0.1319 - accuracy: 0.9533 - val_loss: 0.1376 - val_accuracy: 0.9500\n",
      "Epoch 15/100\n",
      "75/75 [==============================] - 0s 2ms/step - loss: 0.1308 - accuracy: 0.9528 - val_loss: 0.1365 - val_accuracy: 0.9510\n",
      "Epoch 16/100\n",
      "75/75 [==============================] - 0s 2ms/step - loss: 0.1297 - accuracy: 0.9530 - val_loss: 0.1356 - val_accuracy: 0.9505\n",
      "Epoch 17/100\n",
      "75/75 [==============================] - 0s 2ms/step - loss: 0.1289 - accuracy: 0.9529 - val_loss: 0.1350 - val_accuracy: 0.9506\n",
      "Epoch 18/100\n",
      "75/75 [==============================] - 0s 2ms/step - loss: 0.1281 - accuracy: 0.9530 - val_loss: 0.1348 - val_accuracy: 0.9502\n",
      "Epoch 19/100\n",
      "75/75 [==============================] - 0s 2ms/step - loss: 0.1275 - accuracy: 0.9532 - val_loss: 0.1336 - val_accuracy: 0.9513\n",
      "Epoch 20/100\n",
      "75/75 [==============================] - 0s 2ms/step - loss: 0.1268 - accuracy: 0.9531 - val_loss: 0.1327 - val_accuracy: 0.9505\n",
      "Epoch 21/100\n",
      "75/75 [==============================] - 0s 2ms/step - loss: 0.1263 - accuracy: 0.9531 - val_loss: 0.1321 - val_accuracy: 0.9509\n",
      "Epoch 22/100\n",
      "75/75 [==============================] - 0s 2ms/step - loss: 0.1254 - accuracy: 0.9532 - val_loss: 0.1315 - val_accuracy: 0.9508\n",
      "Epoch 23/100\n",
      "75/75 [==============================] - 0s 2ms/step - loss: 0.1248 - accuracy: 0.9534 - val_loss: 0.1311 - val_accuracy: 0.9507\n",
      "Epoch 24/100\n",
      "75/75 [==============================] - 0s 2ms/step - loss: 0.1242 - accuracy: 0.9533 - val_loss: 0.1302 - val_accuracy: 0.9510\n",
      "Epoch 25/100\n",
      "75/75 [==============================] - 0s 2ms/step - loss: 0.1235 - accuracy: 0.9534 - val_loss: 0.1298 - val_accuracy: 0.9509\n",
      "Epoch 26/100\n",
      "75/75 [==============================] - 0s 2ms/step - loss: 0.1228 - accuracy: 0.9536 - val_loss: 0.1294 - val_accuracy: 0.9511\n",
      "Epoch 27/100\n",
      "75/75 [==============================] - 0s 2ms/step - loss: 0.1223 - accuracy: 0.9535 - val_loss: 0.1286 - val_accuracy: 0.9509\n",
      "Epoch 28/100\n",
      "75/75 [==============================] - 0s 2ms/step - loss: 0.1217 - accuracy: 0.9539 - val_loss: 0.1276 - val_accuracy: 0.9509\n",
      "Epoch 29/100\n",
      "75/75 [==============================] - 0s 2ms/step - loss: 0.1209 - accuracy: 0.9533 - val_loss: 0.1275 - val_accuracy: 0.9510\n",
      "Epoch 30/100\n",
      "75/75 [==============================] - 0s 2ms/step - loss: 0.1205 - accuracy: 0.9538 - val_loss: 0.1267 - val_accuracy: 0.9506\n",
      "Epoch 31/100\n",
      "75/75 [==============================] - 0s 2ms/step - loss: 0.1199 - accuracy: 0.9534 - val_loss: 0.1263 - val_accuracy: 0.9505\n",
      "Epoch 32/100\n",
      "75/75 [==============================] - 0s 2ms/step - loss: 0.1191 - accuracy: 0.9535 - val_loss: 0.1256 - val_accuracy: 0.9506\n",
      "Epoch 33/100\n",
      "75/75 [==============================] - 0s 2ms/step - loss: 0.1187 - accuracy: 0.9535 - val_loss: 0.1257 - val_accuracy: 0.9511\n",
      "Epoch 34/100\n",
      "75/75 [==============================] - 0s 2ms/step - loss: 0.1182 - accuracy: 0.9533 - val_loss: 0.1249 - val_accuracy: 0.9505\n",
      "Epoch 35/100\n",
      "75/75 [==============================] - 0s 2ms/step - loss: 0.1177 - accuracy: 0.9539 - val_loss: 0.1239 - val_accuracy: 0.9514\n",
      "Epoch 36/100\n",
      "75/75 [==============================] - 0s 3ms/step - loss: 0.1170 - accuracy: 0.9537 - val_loss: 0.1235 - val_accuracy: 0.9505\n",
      "Epoch 37/100\n",
      "75/75 [==============================] - 0s 2ms/step - loss: 0.1168 - accuracy: 0.9536 - val_loss: 0.1231 - val_accuracy: 0.9505\n",
      "Epoch 38/100\n",
      "75/75 [==============================] - 0s 2ms/step - loss: 0.1161 - accuracy: 0.9536 - val_loss: 0.1228 - val_accuracy: 0.9514\n",
      "Epoch 39/100\n",
      "75/75 [==============================] - 0s 2ms/step - loss: 0.1157 - accuracy: 0.9540 - val_loss: 0.1222 - val_accuracy: 0.9498\n",
      "Epoch 40/100\n",
      "75/75 [==============================] - 0s 2ms/step - loss: 0.1154 - accuracy: 0.9537 - val_loss: 0.1216 - val_accuracy: 0.9514\n",
      "Epoch 41/100\n",
      "75/75 [==============================] - 0s 2ms/step - loss: 0.1148 - accuracy: 0.9543 - val_loss: 0.1219 - val_accuracy: 0.9514\n",
      "Epoch 42/100\n",
      "75/75 [==============================] - 0s 2ms/step - loss: 0.1144 - accuracy: 0.9541 - val_loss: 0.1215 - val_accuracy: 0.9509\n",
      "Epoch 43/100\n",
      "75/75 [==============================] - 0s 2ms/step - loss: 0.1144 - accuracy: 0.9543 - val_loss: 0.1213 - val_accuracy: 0.9501\n",
      "Epoch 44/100\n",
      "75/75 [==============================] - 0s 2ms/step - loss: 0.1143 - accuracy: 0.9538 - val_loss: 0.1210 - val_accuracy: 0.9505\n",
      "Epoch 45/100\n",
      "75/75 [==============================] - 0s 2ms/step - loss: 0.1137 - accuracy: 0.9546 - val_loss: 0.1204 - val_accuracy: 0.9512\n",
      "Epoch 46/100\n",
      "75/75 [==============================] - 0s 2ms/step - loss: 0.1137 - accuracy: 0.9545 - val_loss: 0.1203 - val_accuracy: 0.9515\n",
      "Epoch 47/100\n",
      "75/75 [==============================] - 0s 2ms/step - loss: 0.1135 - accuracy: 0.9544 - val_loss: 0.1201 - val_accuracy: 0.9512\n",
      "Epoch 48/100\n",
      "75/75 [==============================] - 0s 2ms/step - loss: 0.1133 - accuracy: 0.9541 - val_loss: 0.1204 - val_accuracy: 0.9521\n",
      "Epoch 49/100\n",
      "75/75 [==============================] - 0s 2ms/step - loss: 0.1129 - accuracy: 0.9545 - val_loss: 0.1203 - val_accuracy: 0.9515\n",
      "Epoch 50/100\n",
      "75/75 [==============================] - 0s 2ms/step - loss: 0.1127 - accuracy: 0.9546 - val_loss: 0.1204 - val_accuracy: 0.9508\n",
      "Epoch 51/100\n",
      "75/75 [==============================] - 0s 2ms/step - loss: 0.1125 - accuracy: 0.9549 - val_loss: 0.1198 - val_accuracy: 0.9521\n",
      "Epoch 52/100\n",
      "75/75 [==============================] - 0s 2ms/step - loss: 0.1126 - accuracy: 0.9549 - val_loss: 0.1199 - val_accuracy: 0.9518\n",
      "Epoch 53/100\n",
      "75/75 [==============================] - 0s 2ms/step - loss: 0.1125 - accuracy: 0.9552 - val_loss: 0.1197 - val_accuracy: 0.9516\n",
      "Epoch 54/100\n",
      "75/75 [==============================] - 0s 2ms/step - loss: 0.1121 - accuracy: 0.9549 - val_loss: 0.1196 - val_accuracy: 0.9523\n",
      "Epoch 55/100\n",
      "75/75 [==============================] - 0s 2ms/step - loss: 0.1120 - accuracy: 0.9551 - val_loss: 0.1204 - val_accuracy: 0.9519\n",
      "Epoch 56/100\n",
      "75/75 [==============================] - 0s 2ms/step - loss: 0.1120 - accuracy: 0.9550 - val_loss: 0.1196 - val_accuracy: 0.9518\n",
      "Epoch 57/100\n",
      "75/75 [==============================] - 0s 2ms/step - loss: 0.1117 - accuracy: 0.9553 - val_loss: 0.1198 - val_accuracy: 0.9510\n",
      "Epoch 58/100\n",
      "75/75 [==============================] - 0s 2ms/step - loss: 0.1116 - accuracy: 0.9554 - val_loss: 0.1196 - val_accuracy: 0.9518\n",
      "Epoch 59/100\n",
      "75/75 [==============================] - 0s 2ms/step - loss: 0.1117 - accuracy: 0.9552 - val_loss: 0.1198 - val_accuracy: 0.9503\n",
      "Epoch 60/100\n",
      "75/75 [==============================] - 0s 2ms/step - loss: 0.1116 - accuracy: 0.9555 - val_loss: 0.1195 - val_accuracy: 0.9514\n",
      "Epoch 61/100\n",
      "75/75 [==============================] - 0s 2ms/step - loss: 0.1114 - accuracy: 0.9552 - val_loss: 0.1196 - val_accuracy: 0.9515\n",
      "Epoch 62/100\n",
      "75/75 [==============================] - 0s 2ms/step - loss: 0.1115 - accuracy: 0.9554 - val_loss: 0.1193 - val_accuracy: 0.9521\n",
      "Epoch 63/100\n",
      "75/75 [==============================] - 0s 2ms/step - loss: 0.1114 - accuracy: 0.9551 - val_loss: 0.1194 - val_accuracy: 0.9510\n",
      "Epoch 64/100\n",
      "75/75 [==============================] - 0s 2ms/step - loss: 0.1112 - accuracy: 0.9554 - val_loss: 0.1191 - val_accuracy: 0.9516\n",
      "Epoch 65/100\n",
      "75/75 [==============================] - 0s 2ms/step - loss: 0.1111 - accuracy: 0.9554 - val_loss: 0.1192 - val_accuracy: 0.9512\n",
      "Epoch 66/100\n",
      "75/75 [==============================] - 0s 2ms/step - loss: 0.1110 - accuracy: 0.9557 - val_loss: 0.1191 - val_accuracy: 0.9512\n",
      "Epoch 67/100\n",
      "75/75 [==============================] - 0s 2ms/step - loss: 0.1108 - accuracy: 0.9555 - val_loss: 0.1194 - val_accuracy: 0.9517\n",
      "Epoch 68/100\n",
      "75/75 [==============================] - 0s 2ms/step - loss: 0.1107 - accuracy: 0.9553 - val_loss: 0.1189 - val_accuracy: 0.9521\n",
      "Epoch 69/100\n",
      "75/75 [==============================] - 0s 2ms/step - loss: 0.1107 - accuracy: 0.9554 - val_loss: 0.1189 - val_accuracy: 0.9521\n",
      "Epoch 70/100\n",
      "75/75 [==============================] - 0s 2ms/step - loss: 0.1105 - accuracy: 0.9557 - val_loss: 0.1192 - val_accuracy: 0.9515\n",
      "Epoch 71/100\n",
      "75/75 [==============================] - 0s 2ms/step - loss: 0.1106 - accuracy: 0.9553 - val_loss: 0.1189 - val_accuracy: 0.9522\n",
      "Epoch 72/100\n",
      "75/75 [==============================] - 0s 2ms/step - loss: 0.1103 - accuracy: 0.9555 - val_loss: 0.1191 - val_accuracy: 0.9520\n",
      "Epoch 73/100\n",
      "75/75 [==============================] - 0s 2ms/step - loss: 0.1107 - accuracy: 0.9550 - val_loss: 0.1185 - val_accuracy: 0.9516\n",
      "Epoch 74/100\n",
      "75/75 [==============================] - 0s 2ms/step - loss: 0.1101 - accuracy: 0.9555 - val_loss: 0.1196 - val_accuracy: 0.9512\n",
      "Epoch 75/100\n",
      "75/75 [==============================] - 0s 2ms/step - loss: 0.1106 - accuracy: 0.9555 - val_loss: 0.1187 - val_accuracy: 0.9519\n",
      "Epoch 76/100\n",
      "75/75 [==============================] - 0s 2ms/step - loss: 0.1103 - accuracy: 0.9557 - val_loss: 0.1186 - val_accuracy: 0.9519\n",
      "Epoch 77/100\n",
      "75/75 [==============================] - 0s 2ms/step - loss: 0.1102 - accuracy: 0.9555 - val_loss: 0.1184 - val_accuracy: 0.9521\n",
      "Epoch 78/100\n",
      "75/75 [==============================] - 0s 2ms/step - loss: 0.1100 - accuracy: 0.9556 - val_loss: 0.1188 - val_accuracy: 0.9514\n",
      "Epoch 79/100\n",
      "75/75 [==============================] - 0s 2ms/step - loss: 0.1099 - accuracy: 0.9557 - val_loss: 0.1196 - val_accuracy: 0.9509\n",
      "Epoch 80/100\n",
      "75/75 [==============================] - 0s 2ms/step - loss: 0.1100 - accuracy: 0.9559 - val_loss: 0.1187 - val_accuracy: 0.9520\n",
      "Epoch 81/100\n",
      "75/75 [==============================] - 0s 2ms/step - loss: 0.1098 - accuracy: 0.9557 - val_loss: 0.1185 - val_accuracy: 0.9516\n",
      "Epoch 82/100\n",
      "75/75 [==============================] - 0s 2ms/step - loss: 0.1099 - accuracy: 0.9557 - val_loss: 0.1188 - val_accuracy: 0.9517\n",
      "Epoch 83/100\n",
      "75/75 [==============================] - 0s 2ms/step - loss: 0.1098 - accuracy: 0.9559 - val_loss: 0.1184 - val_accuracy: 0.9516\n",
      "Epoch 84/100\n",
      "75/75 [==============================] - 0s 2ms/step - loss: 0.1097 - accuracy: 0.9560 - val_loss: 0.1186 - val_accuracy: 0.9515\n",
      "Epoch 85/100\n",
      "75/75 [==============================] - 0s 2ms/step - loss: 0.1096 - accuracy: 0.9557 - val_loss: 0.1185 - val_accuracy: 0.9517\n",
      "Epoch 86/100\n",
      "75/75 [==============================] - 0s 2ms/step - loss: 0.1096 - accuracy: 0.9560 - val_loss: 0.1193 - val_accuracy: 0.9515\n",
      "Epoch 87/100\n",
      "75/75 [==============================] - 0s 2ms/step - loss: 0.1095 - accuracy: 0.9559 - val_loss: 0.1187 - val_accuracy: 0.9515\n"
     ]
    }
   ],
   "source": [
    "best_nn_hp = tuner.get_best_hyperparameters()[0]\n",
    "best_nn = build_model(best_nn_hp)\n",
    "\n",
    "history = best_nn.fit(train_set, train_label,\n",
    "                      epochs=100,\n",
    "                      batch_size=1000,\n",
    "                      callbacks=[early_stopping],\n",
    "                      validation_data=(val_set, val_label))"
   ],
   "metadata": {
    "collapsed": false,
    "ExecuteTime": {
     "end_time": "2024-01-05T16:07:02.713505268Z",
     "start_time": "2024-01-05T16:06:49.428925249Z"
    }
   },
   "id": "336b1c70ef3bcf92",
   "execution_count": 100
  },
  {
   "cell_type": "code",
   "outputs": [
    {
     "data": {
      "text/plain": "<Figure size 1200x600 with 2 Axes>",
      "image/png": "[encoded data removed]"
     },
     "metadata": {},
     "output_type": "display_data"
    }
   ],
   "source": [
    "plt.figure(figsize=(12, 6))\n",
    "\n",
    "plt.subplot(1, 2, 1)\n",
    "plt.plot(history.history['loss'])\n",
    "plt.plot(history.history['val_loss'])\n",
    "plt.title('Model loss')\n",
    "plt.xlabel('Epoch')\n",
    "plt.ylabel('Loss')\n",
    "plt.legend(['Train', 'Val'], loc='upper right')\n",
    "\n",
    "\n",
    "plt.subplot(1, 2, 2)\n",
    "plt.plot(history.history['accuracy'])\n",
    "plt.plot(history.history['val_accuracy'])\n",
    "plt.title('Model accuracy')\n",
    "plt.xlabel('Epoch')\n",
    "plt.ylabel('Accuracy')\n",
    "plt.legend(['Train', 'Val'], loc='upper right')\n",
    "\n",
    "plt.tight_layout()\n",
    "plt.show()"
   ],
   "metadata": {
    "collapsed": false,
    "ExecuteTime": {
     "end_time": "2024-01-05T16:07:06.580319508Z",
     "start_time": "2024-01-05T16:07:06.181828792Z"
    }
   },
   "id": "4d6c18e7734095dd",
   "execution_count": 101
  },
  {
   "cell_type": "code",
   "outputs": [],
   "source": [
    "print('Best setting parameters ', tuner.get_best_hyperparameters()[0])"
   ],
   "metadata": {
    "collapsed": false
   },
   "id": "20c6350bd73fcdd2"
  },
  {
   "cell_type": "code",
   "outputs": [],
   "source": [
    "train_pred = best_nn(train_set) > 0.5\n",
    "test_pred = best_nn(test_set) > 0.5"
   ],
   "metadata": {
    "collapsed": false
   },
   "id": "8aaf970357a2c5e1"
  },
  {
   "cell_type": "code",
   "outputs": [],
   "source": [
    "report_metrics_best_estimator(train_label, train_pred, test_label, test_pred)"
   ],
   "metadata": {
    "collapsed": false
   },
   "id": "ed252c09eef17493"
  },
  {
   "cell_type": "code",
   "outputs": [],
   "source": [
    "report_scores(test_label, test_pred)"
   ],
   "metadata": {
    "collapsed": false
   },
   "id": "baae3f6deb7432d6"
  },
  {
   "cell_type": "code",
   "outputs": [],
   "source": [
    "report_confusion_matrix(test_label, test_pred)"
   ],
   "metadata": {
    "collapsed": false
   },
   "id": "cd2c2058cfb3dedf"
  },
  {
   "cell_type": "markdown",
   "source": [
    "# Ensamble with best models"
   ],
   "metadata": {
    "collapsed": false
   },
   "id": "82dc4eba9e3963e9"
  },
  {
   "cell_type": "code",
   "outputs": [],
   "source": [
    "train_set, test_set, train_label, test_label = train_test_split(original_dataset, labels, stratify=labels, test_size=0.20)\n",
    "\n",
    "undersample = RandomUnderSampler(sampling_strategy='majority')\n",
    "train_set, train_label = undersample.fit_resample(train_set, train_label)"
   ],
   "metadata": {
    "collapsed": false,
    "ExecuteTime": {
     "end_time": "2024-01-05T16:11:25.814965369Z",
     "start_time": "2024-01-05T16:11:25.723909741Z"
    }
   },
   "id": "a7b349850da8f2f3",
   "execution_count": 113
  },
  {
   "cell_type": "code",
   "outputs": [
    {
     "name": "stderr",
     "output_type": "stream",
     "text": [
      "/home/filippo/uni/DM/DataMiningProject/venv/lib/python3.10/site-packages/sklearn/ensemble/_base.py:156: FutureWarning: `base_estimator` was renamed to `estimator` in version 1.2 and will be removed in 1.4.\n",
      "  warnings.warn(\n"
     ]
    },
    {
     "data": {
      "text/plain": "AdaBoostClassifier(base_estimator=DecisionTreeClassifier(max_depth=7,\n                                                         min_samples_leaf=23,\n                                                         min_samples_split=23),\n                   learning_rate=0.1, n_estimators=100)",
      "text/html": "<style>#sk-container-id-8 {color: black;}#sk-container-id-8 pre{padding: 0;}#sk-container-id-8 div.sk-toggleable {background-color: white;}#sk-container-id-8 label.sk-toggleable__label {cursor: pointer;display: block;width: 100%;margin-bottom: 0;padding: 0.3em;box-sizing: border-box;text-align: center;}#sk-container-id-8 label.sk-toggleable__label-arrow:before {content: \"▸\";float: left;margin-right: 0.25em;color: #696969;}#sk-container-id-8 label.sk-toggleable__label-arrow:hover:before {color: black;}#sk-container-id-8 div.sk-estimator:hover label.sk-toggleable__label-arrow:before {color: black;}#sk-container-id-8 div.sk-toggleable__content {max-height: 0;max-width: 0;overflow: hidden;text-align: left;background-color: #f0f8ff;}#sk-container-id-8 div.sk-toggleable__content pre {margin: 0.2em;color: black;border-radius: 0.25em;background-color: #f0f8ff;}#sk-container-id-8 input.sk-toggleable__control:checked~div.sk-toggleable__content {max-height: 200px;max-width: 100%;overflow: auto;}#sk-container-id-8 input.sk-toggleable__control:checked~label.sk-toggleable__label-arrow:before {content: \"▾\";}#sk-container-id-8 div.sk-estimator input.sk-toggleable__control:checked~label.sk-toggleable__label {background-color: #d4ebff;}#sk-container-id-8 div.sk-label input.sk-toggleable__control:checked~label.sk-toggleable__label {background-color: #d4ebff;}#sk-container-id-8 input.sk-hidden--visually {border: 0;clip: rect(1px 1px 1px 1px);clip: rect(1px, 1px, 1px, 1px);height: 1px;margin: -1px;overflow: hidden;padding: 0;position: absolute;width: 1px;}#sk-container-id-8 div.sk-estimator {font-family: monospace;background-color: #f0f8ff;border: 1px dotted black;border-radius: 0.25em;box-sizing: border-box;margin-bottom: 0.5em;}#sk-container-id-8 div.sk-estimator:hover {background-color: #d4ebff;}#sk-container-id-8 div.sk-parallel-item::after {content: \"\";width: 100%;border-bottom: 1px solid gray;flex-grow: 1;}#sk-container-id-8 div.sk-label:hover label.sk-toggleable__label {background-color: #d4ebff;}#sk-container-id-8 div.sk-serial::before {content: \"\";position: absolute;border-left: 1px solid gray;box-sizing: border-box;top: 0;bottom: 0;left: 50%;z-index: 0;}#sk-container-id-8 div.sk-serial {display: flex;flex-direction: column;align-items: center;background-color: white;padding-right: 0.2em;padding-left: 0.2em;position: relative;}#sk-container-id-8 div.sk-item {position: relative;z-index: 1;}#sk-container-id-8 div.sk-parallel {display: flex;align-items: stretch;justify-content: center;background-color: white;position: relative;}#sk-container-id-8 div.sk-item::before, #sk-container-id-8 div.sk-parallel-item::before {content: \"\";position: absolute;border-left: 1px solid gray;box-sizing: border-box;top: 0;bottom: 0;left: 50%;z-index: -1;}#sk-container-id-8 div.sk-parallel-item {display: flex;flex-direction: column;z-index: 1;position: relative;background-color: white;}#sk-container-id-8 div.sk-parallel-item:first-child::after {align-self: flex-end;width: 50%;}#sk-container-id-8 div.sk-parallel-item:last-child::after {align-self: flex-start;width: 50%;}#sk-container-id-8 div.sk-parallel-item:only-child::after {width: 0;}#sk-container-id-8 div.sk-dashed-wrapped {border: 1px dashed gray;margin: 0 0.4em 0.5em 0.4em;box-sizing: border-box;padding-bottom: 0.4em;background-color: white;}#sk-container-id-8 div.sk-label label {font-family: monospace;font-weight: bold;display: inline-block;line-height: 1.2em;}#sk-container-id-8 div.sk-label-container {text-align: center;}#sk-container-id-8 div.sk-container {/* jupyter's `normalize.less` sets `[hidden] { display: none; }` but bootstrap.min.css set `[hidden] { display: none !important; }` so we also need the `!important` here to be able to override the default hidden behavior on the sphinx rendered scikit-learn.org. See: https://github.com/scikit-learn/scikit-learn/issues/21755 */display: inline-block !important;position: relative;}#sk-container-id-8 div.sk-text-repr-fallback {display: none;}</style><div id=\"sk-container-id-8\" class=\"sk-top-container\"><div class=\"sk-text-repr-fallback\"><pre>AdaBoostClassifier(base_estimator=DecisionTreeClassifier(max_depth=7,\n                                                         min_samples_leaf=23,\n                                                         min_samples_split=23),\n                   learning_rate=0.1, n_estimators=100)</pre><b>In a Jupyter environment, please rerun this cell to show the HTML representation or trust the notebook. <br />On GitHub, the HTML representation is unable to render, please try loading this page with nbviewer.org.</b></div><div class=\"sk-container\" hidden><div class=\"sk-item sk-dashed-wrapped\"><div class=\"sk-label-container\"><div class=\"sk-label sk-toggleable\"><input class=\"sk-toggleable__control sk-hidden--visually\" id=\"sk-estimator-id-18\" type=\"checkbox\" ><label for=\"sk-estimator-id-18\" class=\"sk-toggleable__label sk-toggleable__label-arrow\">AdaBoostClassifier</label><div class=\"sk-toggleable__content\"><pre>AdaBoostClassifier(base_estimator=DecisionTreeClassifier(max_depth=7,\n                                                         min_samples_leaf=23,\n                                                         min_samples_split=23),\n                   learning_rate=0.1, n_estimators=100)</pre></div></div></div><div class=\"sk-parallel\"><div class=\"sk-parallel-item\"><div class=\"sk-item\"><div class=\"sk-label-container\"><div class=\"sk-label sk-toggleable\"><input class=\"sk-toggleable__control sk-hidden--visually\" id=\"sk-estimator-id-19\" type=\"checkbox\" ><label for=\"sk-estimator-id-19\" class=\"sk-toggleable__label sk-toggleable__label-arrow\">base_estimator: DecisionTreeClassifier</label><div class=\"sk-toggleable__content\"><pre>DecisionTreeClassifier(max_depth=7, min_samples_leaf=23, min_samples_split=23)</pre></div></div></div><div class=\"sk-serial\"><div class=\"sk-item\"><div class=\"sk-estimator sk-toggleable\"><input class=\"sk-toggleable__control sk-hidden--visually\" id=\"sk-estimator-id-20\" type=\"checkbox\" ><label for=\"sk-estimator-id-20\" class=\"sk-toggleable__label sk-toggleable__label-arrow\">DecisionTreeClassifier</label><div class=\"sk-toggleable__content\"><pre>DecisionTreeClassifier(max_depth=7, min_samples_leaf=23, min_samples_split=23)</pre></div></div></div></div></div></div></div></div></div></div>"
     },
     "execution_count": 115,
     "metadata": {},
     "output_type": "execute_result"
    }
   ],
   "source": [
    "ada_boost = AdaBoostClassifier(estimator=DecisionTreeClassifier(**best_dt_hp), n_estimators=100, learning_rate=0.1)\n",
    "ada_boost.fit(train_set, train_label)"
   ],
   "metadata": {
    "collapsed": false,
    "ExecuteTime": {
     "end_time": "2024-01-05T16:12:49.429414031Z",
     "start_time": "2024-01-05T16:11:57.664609555Z"
    }
   },
   "id": "51c72e740fc8b769",
   "execution_count": 115
  },
  {
   "cell_type": "code",
   "outputs": [],
   "source": [
    "train_pred = ada_boost.predict(train_set)\n",
    "test_pred = ada_boost.predict(test_set)"
   ],
   "metadata": {
    "collapsed": false,
    "ExecuteTime": {
     "end_time": "2024-01-05T16:14:37.383360805Z",
     "start_time": "2024-01-05T16:14:35.653628225Z"
    }
   },
   "id": "8b5e0c61e7100670",
   "execution_count": 116
  },
  {
   "cell_type": "code",
   "outputs": [
    {
     "name": "stdout",
     "output_type": "stream",
     "text": [
      "Accuracy train set  0.9693969979296067\n",
      "Accuracy test set  0.956219806763285\n",
      "Precision train set  0.9704197260006093\n",
      "Precision test set  0.9575498989844587\n",
      "Recall train set  0.9693969979296067\n",
      "Recall test set  0.956219806763285\n",
      "F1 score train set  0.9693803555737762\n",
      "F1 score test set  0.9561879664956513\n",
      "Support train set  (array([0.94848547, 0.99235398]), array([0.99271049, 0.94608351]), array([0.97009421, 0.9686665 ]), array([46368, 46368]))\n",
      "Support test set  (array([0.93288041, 0.98221939]), array([0.98317805, 0.92926156]), array([0.95736906, 0.95500687]), array([11592, 11592]))\n"
     ]
    }
   ],
   "source": [
    "report_metrics_best_estimator(train_label, train_pred, test_label, test_pred)"
   ],
   "metadata": {
    "collapsed": false,
    "ExecuteTime": {
     "end_time": "2024-01-05T16:14:38.313428104Z",
     "start_time": "2024-01-05T16:14:38.164174076Z"
    }
   },
   "id": "f40643998e1156c6",
   "execution_count": 117
  },
  {
   "cell_type": "code",
   "outputs": [
    {
     "name": "stdout",
     "output_type": "stream",
     "text": [
      "              precision    recall  f1-score   support\n",
      "\n",
      "   No Killed       0.93      0.98      0.96     11592\n",
      "      Killed       0.98      0.93      0.96     11592\n",
      "\n",
      "    accuracy                           0.96     23184\n",
      "   macro avg       0.96      0.96      0.96     23184\n",
      "weighted avg       0.96      0.96      0.96     23184\n"
     ]
    }
   ],
   "source": [
    "report_scores(test_label, test_pred)"
   ],
   "metadata": {
    "collapsed": false,
    "ExecuteTime": {
     "end_time": "2024-01-05T16:14:42.081428157Z",
     "start_time": "2024-01-05T16:14:42.037473656Z"
    }
   },
   "id": "b254ca262a520351",
   "execution_count": 118
  },
  {
   "cell_type": "code",
   "outputs": [
    {
     "data": {
      "text/plain": "<Figure size 640x480 with 2 Axes>",
      "image/png": "[encoded data removed]"
     },
     "metadata": {},
     "output_type": "display_data"
    }
   ],
   "source": [
    "report_confusion_matrix(test_label, test_pred)"
   ],
   "metadata": {
    "collapsed": false,
    "ExecuteTime": {
     "end_time": "2024-01-05T16:14:45.281318445Z",
     "start_time": "2024-01-05T16:14:45.054891792Z"
    }
   },
   "id": "3a75d7675b17fb21",
   "execution_count": 119
  }
 ],
 "metadata": {
  "kernelspec": {
   "display_name": "Python 3",
   "language": "python",
   "name": "python3"
  },
  "language_info": {
   "codemirror_mode": {
    "name": "ipython",
    "version": 2
   },
   "file_extension": ".py",
   "mimetype": "text/x-python",
   "name": "python",
   "nbconvert_exporter": "python",
   "pygments_lexer": "ipython2",
   "version": "2.7.6"
  }
 },
 "nbformat": 4,
 "nbformat_minor": 5
}
