{
 "cells": [
  {
   "cell_type": "code",
   "execution_count": null,
   "id": "18448547",
   "metadata": {},
   "outputs": [],
   "source": [
    "import pandas as pd\n",
    "import numpy as np\n",
    "import matplotlib.pyplot as plt\n",
    "%matplotlib inline\n",
    "from matrixprofile import *"
   ]
  }
 ],
 "metadata": {
  "kernelspec": {
   "display_name": "Python [conda env:phd]",
   "language": "python",
   "name": "conda-env-phd-py"
  }
 },
 "nbformat": 4,
 "nbformat_minor": 5
}
